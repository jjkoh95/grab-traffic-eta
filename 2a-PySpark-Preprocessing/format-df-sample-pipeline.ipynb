{
 "cells": [
  {
   "cell_type": "code",
   "execution_count": 40,
   "metadata": {},
   "outputs": [],
   "source": [
    "# Google BQ connector\n",
    "from google.cloud import bigquery\n",
    "\n",
    "# Data processing libraries\n",
    "import pandas as pd\n",
    "import numpy as np\n",
    "\n",
    "# Data visualisation tools\n",
    "import matplotlib.pyplot as plt\n",
    "from IPython.display import clear_output\n",
    "\n",
    "# sklearn\n",
    "from sklearn.cluster import KMeans\n",
    "\n",
    "# pickle\n",
    "import pickle\n",
    "\n",
    "# IPython display\n",
    "from IPython.display import clear_output\n",
    "\n",
    "# datetime\n",
    "import datetime"
   ]
  },
  {
   "cell_type": "code",
   "execution_count": 3,
   "metadata": {},
   "outputs": [],
   "source": [
    "# creating a BQ client\n",
    "bqclient = bigquery.Client()"
   ]
  },
  {
   "cell_type": "code",
   "execution_count": 4,
   "metadata": {},
   "outputs": [],
   "source": [
    "query = \"\"\"\n",
    "SELECT\n",
    "  *\n",
    "FROM\n",
    "  `jjkoh95.jjkoh.grab_raw_singapore_74361`\n",
    "\"\"\""
   ]
  },
  {
   "cell_type": "code",
   "execution_count": 55,
   "metadata": {},
   "outputs": [],
   "source": [
    "df = bqclient.query(query).result().to_dataframe()"
   ]
  },
  {
   "cell_type": "code",
   "execution_count": 56,
   "metadata": {},
   "outputs": [],
   "source": [
    "with open(\"models/traffic-cluster-speed-{0}-kmeans.pkl\".format(20), \"rb\") as pkl:\n",
    "    speed_kmeans = pickle.load(pkl)\n",
    "    \n",
    "with open(\"models/traffic-cluster-density-{0}-kmeans.pkl\".format(20), \"rb\") as pkl:\n",
    "    density_kmeans = pickle.load(pkl)"
   ]
  },
  {
   "cell_type": "code",
   "execution_count": 57,
   "metadata": {},
   "outputs": [],
   "source": [
    "# https://stackoverflow.com/questions/4913349/haversine-formula-in-python-bearing-and-distance-between-two-gps-points\n",
    "from math import radians, cos, sin, asin, sqrt\n",
    "\n",
    "def haversine(lat1, lon1, lat2, lon2):\n",
    "    \"\"\"\n",
    "    Calculate the great circle distance between two points \n",
    "    on the earth (specified in decimal degrees)\n",
    "    \"\"\"\n",
    "    # convert decimal degrees to radians \n",
    "    lat1, lon1, lat2, lon2 = map(radians, [lat1, lon1, lat2, lon2])\n",
    "\n",
    "    # haversine formula \n",
    "    dlon = lon2 - lon1 \n",
    "    dlat = lat2 - lat1 \n",
    "    a = sin(dlat/2)**2 + cos(lat1) * cos(lat2) * sin(dlon/2)**2\n",
    "    c = 2 * asin(sqrt(a)) \n",
    "    r = 6371 # Radius of earth in kilometers. Use 3956 for miles\n",
    "    return c * r"
   ]
  },
  {
   "cell_type": "code",
   "execution_count": 58,
   "metadata": {},
   "outputs": [],
   "source": [
    "# https://stackoverflow.com/questions/54873868/python-calculate-bearing-between-two-lat-long\n",
    "from geographiclib.geodesic import Geodesic\n",
    "\n",
    "def get_bearing(lat1, lat2, long1, long2):\n",
    "    brng = Geodesic.WGS84.Inverse(lat1, long1, lat2, long2)['azi1']\n",
    "    return brng"
   ]
  },
  {
   "cell_type": "code",
   "execution_count": null,
   "metadata": {},
   "outputs": [],
   "source": []
  },
  {
   "cell_type": "code",
   "execution_count": 89,
   "metadata": {},
   "outputs": [],
   "source": [
    "# density_cluster, speed_cluster\n",
    "def predict_cluster(row):\n",
    "    row['density_cluster'] = density_kmeans.predict([[row['rawlat'], row['rawlng']]])[0]\n",
    "    row['speed_cluster'] = speed_kmeans.predict([[row['rawlat'], row['rawlng']]])[0]\n",
    "    return row\n",
    "\n",
    "df['density_cluster'] = 0\n",
    "df['speed_cluster'] = 0\n",
    "df.density_cluster = df.density_cluster.astype('uint8')\n",
    "df.speed_cluster = df.speed_cluster.astype('uint8')\n",
    "\n",
    "df = df.apply(predict_cluster, axis=1)"
   ]
  },
  {
   "cell_type": "code",
   "execution_count": 90,
   "metadata": {},
   "outputs": [],
   "source": [
    "# day, hour\n",
    "def epoch_to_day_hour(row):\n",
    "    dt = datetime.datetime.fromtimestamp(row['pingtimestamp'])\n",
    "    row['day'] = dt.weekday()\n",
    "    row['hour'] = dt.hour\n",
    "    return row\n",
    "\n",
    "df['day'] = 0\n",
    "df['hour'] = 0\n",
    "df.day = df.day.astype('uint8')\n",
    "df.hour = df.hour.astype('uint8')\n",
    "\n",
    "df = df.apply(epoch_to_day_hour, axis=1)"
   ]
  },
  {
   "cell_type": "code",
   "execution_count": 91,
   "metadata": {},
   "outputs": [],
   "source": [
    "# day_sin, day_cos, hour_sin, hour_cos\n",
    "def get_time_meta(row):\n",
    "    row['day_sin'] = sin(row['day']*(np.pi/7))\n",
    "    row['day_cos'] = cos(row['day']*(np.pi/7))\n",
    "    row['hour_sin'] = sin(row['hour']*(np.pi/7))\n",
    "    row['hour_cos'] = cos(row['hour']*(np.pi/7))\n",
    "    return row\n",
    "\n",
    "df['day_sin'] = 0\n",
    "df['day_cos'] = 0\n",
    "df['hour_sin'] = 0\n",
    "df['hour_cos'] = 0\n",
    "df.day_sin = df.day_sin.astype('float32')\n",
    "df.day_cos = df.day_cos.astype('float32')\n",
    "df.hour_sin = df.hour_sin.astype('float32')\n",
    "df.hour_cos = df.hour_cos.astype('float32')\n",
    "\n",
    "df = df.apply(get_time_meta, axis=1)"
   ]
  },
  {
   "cell_type": "code",
   "execution_count": 107,
   "metadata": {},
   "outputs": [],
   "source": [
    "# origin\n",
    "# for cluster in [density.cluster, speed.cluster]\n",
    "#   distance-from-origin-cluster\n",
    "#   bearing-from-origin-cluster\n",
    "\n",
    "def get_origin_meta(row):\n",
    "    density_center = density_kmeans.cluster_centers_[row['density_cluster']]\n",
    "    speed_center = speed_kmeans.cluster_centers_[row['speed_cluster']]\n",
    "    \n",
    "    row['distance_from_density_center'] = haversine(row['rawlat'], density_center[0], row['rawlng'], density_center[1])\n",
    "    row['bearing_from_density_center'] = get_bearing(row['rawlat'], density_center[0], row['rawlng'], density_center[1])\n",
    "    \n",
    "    row['distance_from_speed_center'] = haversine(row['rawlat'], speed_center[0], row['rawlng'], speed_center[1])\n",
    "    row['bearing_from_speed_center'] = get_bearing(row['rawlat'], speed_center[0], row['rawlng'], speed_center[1])\n",
    "    \n",
    "    return row\n",
    "\n",
    "df['distance_from_density_center'] = 0.0\n",
    "df['bearing_from_density_center'] = 0.0\n",
    "df['distance_from_speed_center'] = 0.0\n",
    "df['bearing_from_speed_center'] = 0.0\n",
    "\n",
    "df = df.apply(get_origin_meta, axis=1)"
   ]
  },
  {
   "cell_type": "code",
   "execution_count": null,
   "metadata": {},
   "outputs": [],
   "source": [
    "# destination\n",
    "# for cluster in [density.cluster, speed.cluster]\n",
    "#   distance-from-destination-cluster\n",
    "#   bearing-from-destination-cluster"
   ]
  },
  {
   "cell_type": "code",
   "execution_count": null,
   "metadata": {},
   "outputs": [],
   "source": [
    "# origin-destination\n",
    "# distance-from-origin-to-destination\n",
    "# bearing-from-origin-to-destination"
   ]
  }
 ],
 "metadata": {
  "kernelspec": {
   "display_name": "Python 3",
   "language": "python",
   "name": "python3"
  },
  "language_info": {
   "codemirror_mode": {
    "name": "ipython",
    "version": 3
   },
   "file_extension": ".py",
   "mimetype": "text/x-python",
   "name": "python",
   "nbconvert_exporter": "python",
   "pygments_lexer": "ipython3",
   "version": "3.5.3"
  }
 },
 "nbformat": 4,
 "nbformat_minor": 4
}
