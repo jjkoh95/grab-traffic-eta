{
 "cells": [
  {
   "cell_type": "code",
   "execution_count": 17,
   "metadata": {},
   "outputs": [],
   "source": [
    "import apache_beam as beam\n",
    "from apache_beam.pvalue import AsDict\n",
    "import datetime\n",
    "import pickle\n",
    "from sklearn.cluster import KMeans\n",
    "import datetime\n",
    "\n",
    "from math import radians, cos, sin, asin, sqrt, pi"
   ]
  },
  {
   "cell_type": "code",
   "execution_count": 18,
   "metadata": {},
   "outputs": [],
   "source": [
    "temp_location = 'gs://hackathon.jjkoh.com/tmp'\n",
    "job_name = 'grab-beam-' + datetime.datetime.now().strftime('%y%m%d-%H%M%S')\n",
    "project = 'jjkoh95'\n",
    "runner = 'DataflowRunner' # DirectRunner / DataflowRunner\n",
    "region = 'us-east1'\n",
    "template_location = 'gs://hackathon.jjkoh.com/template/'\n",
    "machine_type = 'n1-highmem-2'\n",
    "num_workers = 3\n",
    "\n",
    "input_file = 'gs://hackathon.jjkoh.com/pipeline-dataproc-3/part-*.csv'\n",
    "output_file = 'gs://hackathon.jjkoh.com/dataflow/final-balance-playground-2/part'"
   ]
  },
  {
   "cell_type": "code",
   "execution_count": 19,
   "metadata": {},
   "outputs": [],
   "source": [
    "options = {\n",
    "#     'staging_location': staging_location,\n",
    "    'temp_location': temp_location,\n",
    "    'job_name': job_name,\n",
    "    'project': project,\n",
    "    'region': region,\n",
    "    'runner': runner,\n",
    "    'save_main_session': True, # this makes life so much easier\n",
    "    'machine_type': machine_type,\n",
    "    'num_workers': num_workers,\n",
    "    'autoscaling_algorithm': 'NONE'\n",
    "}"
   ]
  },
  {
   "cell_type": "code",
   "execution_count": 20,
   "metadata": {},
   "outputs": [],
   "source": [
    "opts = beam.pipeline.PipelineOptions(flags=[\"--requirements_file\", \"./requirements.txt\"], **options)"
   ]
  },
  {
   "cell_type": "code",
   "execution_count": 21,
   "metadata": {},
   "outputs": [],
   "source": [
    "def pause():\n",
    "    raise Exception('paused')"
   ]
  },
  {
   "cell_type": "code",
   "execution_count": 22,
   "metadata": {},
   "outputs": [],
   "source": [
    "col_names = ['origin_lat', 'origin_lng', 'origin_timestamp', 'dest_lat', 'dest_lng', 'dest_timestamp']"
   ]
  },
  {
   "cell_type": "code",
   "execution_count": 23,
   "metadata": {},
   "outputs": [],
   "source": [
    "output_cols = [\n",
    "    'origin_timestamp',\n",
    "    'origin_day', 'origin_hour', 'origin_day_sin', 'origin_day_cos', 'origin_hour_sin', 'origin_hour_cos',\n",
    "    'origin_density_cluster', 'origin_speed_cluster',\n",
    "    'origin_distance_from_density_center', 'origin_bearing_from_density_center',\n",
    "    'origin_distance_from_speed_center', 'origin_bearing_from_speed_center',\n",
    "    'dest_density_cluster', 'dest_speed_cluster',\n",
    "    'dest_distance_from_density_center', 'dest_bearing_from_density_center',\n",
    "    'dest_distance_from_speed_center', 'dest_bearing_from_speed_center',\n",
    "    'distance_origin_dest', 'bearing_origin_dest',\n",
    "    'distance_origin_dest_density_cluster', 'distance_origin_dest_speed_cluster',\n",
    "    'origin_distance_from_density_center_squared', 'origin_distance_from_speed_center_squared',\n",
    "    'dest_distance_from_density_center_squared', 'dest_distance_from_speed_center_squared',\n",
    "    'distance_origin_dest_squared', \n",
    "    'distance_origin_dest_density_cluster_squared', 'distance_origin_dest_speed_cluster_squared',\n",
    "    'day_hour_crossing', \n",
    "    'origin_dest_density_cluster_crossing', 'origin_dest_speed_cluster_crossing',\n",
    "    'duration',\n",
    "]"
   ]
  },
  {
   "cell_type": "code",
   "execution_count": 24,
   "metadata": {},
   "outputs": [],
   "source": [
    "cluster_models = {}\n",
    "\n",
    "with open('models/traffic-cluster-density-20-kmeans.pkl', 'rb') as pkl:\n",
    "    cluster_models['density'] = pickle.load(pkl)\n",
    "    \n",
    "with open('models/traffic-cluster-speed-20-kmeans.pkl', 'rb') as pkl:\n",
    "    cluster_models['speed'] = pickle.load(pkl)"
   ]
  },
  {
   "cell_type": "code",
   "execution_count": null,
   "metadata": {},
   "outputs": [],
   "source": []
  },
  {
   "cell_type": "code",
   "execution_count": 25,
   "metadata": {},
   "outputs": [],
   "source": [
    "def convert_to_dict(rowstring, col_names):\n",
    "    return {k: float(v) for (k,v) in zip(col_names, rowstring.split(','))}\n",
    "\n",
    "def populate_datetime(row):\n",
    "    import datetime\n",
    "    from math import pi, sin, cos\n",
    "    dt = datetime.datetime.utcfromtimestamp(row['origin_timestamp'])\n",
    "    row['origin_day'] = int(dt.weekday())\n",
    "    row['origin_hour'] = int(dt.hour)\n",
    "    row['origin_day_sin'] = round(sin(row['origin_day']*(pi/7)), 4)\n",
    "    row['origin_day_cos'] = round(cos(row['origin_day']*(pi/7)), 4)\n",
    "    row['origin_hour_sin'] = round(sin(row['origin_hour']*(pi/24)), 4)\n",
    "    row['origin_hour_cos'] = round(cos(row['origin_hour']*(pi/24)), 4)\n",
    "    return row\n",
    "\n",
    "def populate_label(row):\n",
    "    row['duration'] = int(row['dest_timestamp'] - row['origin_timestamp'])\n",
    "    return row\n",
    "    \n",
    "def filter_meta_origin_dest(row):\n",
    "    return row['duration'] >= 900 # only care about time > 15 minutes \n",
    "\n",
    "def populate_distance_meta(row, c):\n",
    "    from sklearn.cluster import KMeans\n",
    "    \n",
    "    from math import radians, cos, sin, asin, sqrt, pi\n",
    "    def haversine(lat1, lon1, lat2, lon2):\n",
    "        \"\"\"\n",
    "        Calculate the great circle distance between two points \n",
    "        on the earth (specified in decimal degrees)\n",
    "        \"\"\"\n",
    "        # convert decimal degrees to radians \n",
    "        lon1, lat1, lon2, lat2 = map(radians, [lon1, lat1, lon2, lat2])\n",
    "\n",
    "        # haversine formula \n",
    "        dlon = lon2 - lon1 \n",
    "        dlat = lat2 - lat1 \n",
    "        a = sin(dlat/2)**2 + cos(lat1) * cos(lat2) * sin(dlon/2)**2\n",
    "        c = 2 * asin(sqrt(a)) \n",
    "        r = 6371 # Radius of earth in kilometers. Use 3956 for miles\n",
    "        return round(c * r, 4)\n",
    "    \n",
    "    from geographiclib.geodesic import Geodesic\n",
    "    def get_bearing(lat1, long1, lat2, long2):\n",
    "        brng = Geodesic.WGS84.Inverse(lat1, long1, lat2, long2)['azi1']\n",
    "        return round(brng, 4)\n",
    "        \n",
    "    # origin data stuffs\n",
    "    row['origin_density_cluster'] = int(c['density'].predict([[row['origin_lat'], row['origin_lng']]])[0])\n",
    "    row['origin_speed_cluster'] = int(c['speed'].predict([[row['origin_lat'], row['origin_lng']]])[0])\n",
    "    origin_density_center = c['density'].cluster_centers_[row['origin_density_cluster']]\n",
    "    origin_speed_center = c['speed'].cluster_centers_[row['origin_speed_cluster']]\n",
    "    \n",
    "    row['origin_distance_from_density_center'] = haversine(row['origin_lat'], row['origin_lng'], origin_density_center[0], origin_density_center[1])\n",
    "    row['origin_bearing_from_density_center'] = get_bearing(row['origin_lat'], row['origin_lng'], origin_density_center[0], origin_density_center[1])\n",
    "    row['origin_distance_from_speed_center'] = haversine(row['origin_lat'], row['origin_lng'], origin_speed_center[0], origin_speed_center[1])\n",
    "    row['origin_bearing_from_speed_center'] = get_bearing(row['origin_lat'], row['origin_lng'], origin_speed_center[0], origin_speed_center[1])\n",
    "    \n",
    "    # dest data stuffs\n",
    "    row['dest_density_cluster'] = int(c['density'].predict([[row['dest_lat'], row['dest_lng']]])[0])\n",
    "    row['dest_speed_cluster'] = int(c['speed'].predict([[row['dest_lat'], row['dest_lng']]])[0])\n",
    "    dest_density_center = c['density'].cluster_centers_[row['dest_density_cluster']]\n",
    "    dest_speed_center = c['speed'].cluster_centers_[row['dest_speed_cluster']]\n",
    "    \n",
    "    row['dest_distance_from_density_center'] = haversine(row['dest_lat'], row['dest_lng'], dest_density_center[0], dest_density_center[1])\n",
    "    row['dest_bearing_from_density_center'] = get_bearing(row['dest_lat'], row['dest_lng'], dest_density_center[0], dest_density_center[1])\n",
    "    row['dest_distance_from_speed_center'] = haversine(row['dest_lat'], row['dest_lng'], dest_speed_center[0], dest_speed_center[1])\n",
    "    row['dest_bearing_from_speed_center'] = get_bearing(row['dest_lat'], row['dest_lng'], dest_speed_center[0], dest_speed_center[1])\n",
    "    \n",
    "    # origin-destination stuffs\n",
    "    row['distance_origin_dest'] = haversine(row['origin_lat'], row['origin_lng'], row['dest_lat'], row['dest_lng'])\n",
    "    row['bearing_origin_dest'] = get_bearing(row['origin_lat'], row['origin_lng'], row['dest_lat'], row['dest_lng'])\n",
    "    \n",
    "    row['distance_origin_dest_density_cluster'] = haversine(origin_density_center[0], origin_density_center[1], dest_density_center[0], dest_density_center[1])\n",
    "    row['distance_origin_dest_speed_cluster'] = haversine(origin_speed_center[0], origin_speed_center[1], dest_speed_center[0], dest_speed_center[1])\n",
    "        \n",
    "    return row\n",
    "\n",
    "def filter_distance_origin_dest(row):\n",
    "    return row['distance_origin_dest'] >= 1\n",
    "\n",
    "def square_and_bin(row):\n",
    "    # square all distance variables to make more explicit\n",
    "    row['origin_distance_from_density_center_squared'] = round(row['origin_distance_from_density_center'] ** 2, 4)\n",
    "    row['origin_distance_from_speed_center_squared'] = round(row['origin_distance_from_speed_center'] ** 2, 4)\n",
    "    row['dest_distance_from_density_center_squared'] = round(row['dest_distance_from_density_center'] ** 2, 4)\n",
    "    row['dest_distance_from_speed_center_squared'] = round(row['dest_distance_from_speed_center'] ** 2, 4)\n",
    "    row['distance_origin_dest_squared'] = round(row['distance_origin_dest'] ** 2, 4)\n",
    "    row['distance_origin_dest_density_cluster_squared'] = round(row['distance_origin_dest_density_cluster'] ** 2, 4)\n",
    "    row['distance_origin_dest_speed_cluster_squared'] = round(row['distance_origin_dest_speed_cluster'] ** 2, 4)\n",
    "    \n",
    "    # feature crossing with categorical binning\n",
    "    row['day_hour_crossing'] = int(row['origin_day']*24 + row['origin_hour'])\n",
    "    row['origin_dest_density_cluster_crossing'] = int(row['origin_density_cluster']*20 + row['dest_density_cluster'])\n",
    "    row['origin_dest_speed_cluster_crossing'] = int(row['origin_speed_cluster']*20 + row['dest_speed_cluster'])\n",
    "    \n",
    "    return row\n",
    "    \n",
    "def format_output(row):\n",
    "    return ','.join([str(row[c]) for c in output_cols])"
   ]
  },
  {
   "cell_type": "code",
   "execution_count": 26,
   "metadata": {},
   "outputs": [
    {
     "name": "stderr",
     "output_type": "stream",
     "text": [
      "WARNING:root:Make sure that locally built Python SDK docker image has Python 3.5 interpreter.\n"
     ]
    },
    {
     "name": "stdout",
     "output_type": "stream",
     "text": [
      "done\n"
     ]
    }
   ],
   "source": [
    "with beam.Pipeline(options=opts) as p:\n",
    "    (\n",
    "        p | 'input_file' >> beam.io.ReadFromText(input_file, skip_header_lines=1)\n",
    "          | 'convert_raw_text_to_dictionary' >> beam.Map(convert_to_dict, col_names)\n",
    "          | 'populate_datetime' >> beam.Map(populate_datetime)\n",
    "          | 'populate_label' >> beam.Map(populate_label)\n",
    "          | 'filter_meta_origin_dest' >> beam.Filter(filter_meta_origin_dest)\n",
    "          | 'populate_distance_meta' >> beam.Map(populate_distance_meta, cluster_models)\n",
    "          | 'square_and_bin' >> beam.Map(square_and_bin)\n",
    "          | 'filter_distance_origin_dest' >> beam.Filter(filter_distance_origin_dest)\n",
    "          | 'format_output' >> beam.Map(format_output)\n",
    "          | 'output_storage' >> beam.io.WriteToText(output_file, file_name_suffix='.csv', header=','.join(output_cols))\n",
    "    ) \n",
    "print('done')"
   ]
  },
  {
   "cell_type": "code",
   "execution_count": null,
   "metadata": {},
   "outputs": [],
   "source": []
  }
 ],
 "metadata": {
  "kernelspec": {
   "display_name": "Python 3",
   "language": "python",
   "name": "python3"
  },
  "language_info": {
   "codemirror_mode": {
    "name": "ipython",
    "version": 3
   },
   "file_extension": ".py",
   "mimetype": "text/x-python",
   "name": "python",
   "nbconvert_exporter": "python",
   "pygments_lexer": "ipython3",
   "version": "3.5.3"
  }
 },
 "nbformat": 4,
 "nbformat_minor": 4
}