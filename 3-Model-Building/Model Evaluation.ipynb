{
 "cells": [
  {
   "cell_type": "code",
   "execution_count": 2,
   "metadata": {},
   "outputs": [],
   "source": [
    "import pandas as pd\n",
    "import numpy as np\n",
    "\n",
    "import glob\n",
    "\n",
    "from sklearn.cluster import KMeans\n",
    "\n",
    "from fastai.tabular import *\n",
    "\n",
    "import datetime\n",
    "\n",
    "from math import radians, cos, sin, asin, sqrt, pi\n",
    "\n",
    "from geographiclib.geodesic import Geodesic\n",
    "\n",
    "import matplotlib.pyplot as plt \n",
    "\n",
    "from IPython.display import clear_output"
   ]
  },
  {
   "cell_type": "code",
   "execution_count": 3,
   "metadata": {},
   "outputs": [
    {
     "name": "stdout",
     "output_type": "stream",
     "text": [
      "fastai-999\ttraffic-cluster-density-20-kmeans.pkl\r\n",
      "fastai-999.pkl\ttraffic-cluster-speed-20-kmeans.pkl\r\n",
      "models\r\n"
     ]
    }
   ],
   "source": [
    "!ls ../models"
   ]
  },
  {
   "cell_type": "code",
   "execution_count": 4,
   "metadata": {},
   "outputs": [],
   "source": [
    "density_kmeans = None\n",
    "speed_kmeans = None"
   ]
  },
  {
   "cell_type": "code",
   "execution_count": 5,
   "metadata": {},
   "outputs": [],
   "source": [
    "output_cols = [\n",
    "    'origin_day', 'origin_hour', 'origin_day_sin', 'origin_day_cos', 'origin_hour_sin', 'origin_hour_cos',\n",
    "    'origin_density_cluster', 'origin_speed_cluster',\n",
    "    'origin_distance_from_density_center', 'origin_bearing_from_density_center',\n",
    "    'origin_distance_from_speed_center', 'origin_bearing_from_speed_center',\n",
    "    'dest_density_cluster', 'dest_speed_cluster',\n",
    "    'dest_distance_from_density_center', 'dest_bearing_from_density_center',\n",
    "    'dest_distance_from_speed_center', 'dest_bearing_from_speed_center',\n",
    "    'distance_origin_dest', 'bearing_origin_dest',\n",
    "    'distance_origin_dest_density_cluster', 'distance_origin_dest_speed_cluster',\n",
    "    'origin_distance_from_density_center_squared', 'origin_distance_from_speed_center_squared',\n",
    "    'dest_distance_from_density_center_squared', 'dest_distance_from_speed_center_squared',\n",
    "    'distance_origin_dest_squared', \n",
    "    'distance_origin_dest_density_cluster_squared', 'distance_origin_dest_speed_cluster_squared',\n",
    "    'day_hour_crossing', \n",
    "    'origin_dest_density_cluster_crossing', 'origin_dest_speed_cluster_crossing',\n",
    "]\n",
    "\n",
    "def load_kmeans():\n",
    "    with open('../models/traffic-cluster-density-20-kmeans.pkl', 'rb') as pkl:\n",
    "        global density_kmeans\n",
    "        density_kmeans = pickle.load(pkl)\n",
    "    with open('../models/traffic-cluster-speed-20-kmeans.pkl', 'rb') as pkl:\n",
    "        global speed_kmeans\n",
    "        speed_kmeans = pickle.load(pkl)\n",
    "\n",
    "def haversine(lat1, lon1, lat2, lon2):\n",
    "    \"\"\"\n",
    "    Calculate the great circle distance between two points\n",
    "    on the earth (specified in decimal degrees)\n",
    "    \"\"\"\n",
    "    # convert decimal degrees to radians\n",
    "    lon1, lat1, lon2, lat2 = map(radians, [lon1, lat1, lon2, lat2])\n",
    "\n",
    "    # haversine formula\n",
    "    dlon = lon2 - lon1\n",
    "    dlat = lat2 - lat1\n",
    "    a = sin(dlat/2)**2 + cos(lat1) * cos(lat2) * sin(dlon/2)**2\n",
    "    c = 2 * asin(sqrt(a))\n",
    "    r = 6371  # Radius of earth in kilometers. Use 3956 for miles\n",
    "    return c * r\n",
    "\n",
    "def get_bearing(lat1, long1, lat2, long2):\n",
    "    brng = Geodesic.WGS84.Inverse(lat1, long1, lat2, long2)['azi1']\n",
    "    return brng\n",
    "\n",
    "def preproc(row, c):\n",
    "    dt = datetime.datetime.fromtimestamp(row['origin_timestamp'])\n",
    "    row['origin_day'] = int(dt.weekday())\n",
    "    row['origin_hour'] = int(dt.hour)\n",
    "    row['origin_day_sin'] = round(sin(row['origin_day']*(pi/7)), 4)\n",
    "    row['origin_day_cos'] = round(cos(row['origin_day']*(pi/7)), 4)\n",
    "    row['origin_hour_sin'] = round(sin(row['origin_hour']*(pi/24)), 4)\n",
    "    row['origin_hour_cos'] = round(cos(row['origin_hour']*(pi/24)), 4)\n",
    "    \n",
    "    row['origin_density_cluster'] = int(c['density'].predict([[row['origin_lat'], row['origin_lng']]])[0])\n",
    "    row['origin_speed_cluster'] = int(c['speed'].predict([[row['origin_lat'], row['origin_lng']]])[0])\n",
    "    origin_density_center = c['density'].cluster_centers_[int(row['origin_density_cluster'])]\n",
    "    origin_speed_center = c['speed'].cluster_centers_[int(row['origin_speed_cluster'])]\n",
    "    \n",
    "    row['origin_distance_from_density_center'] = haversine(row['origin_lat'], row['origin_lng'], origin_density_center[0], origin_density_center[1])\n",
    "    row['origin_bearing_from_density_center'] = get_bearing(row['origin_lat'], row['origin_lng'], origin_density_center[0], origin_density_center[1])\n",
    "    row['origin_distance_from_speed_center'] = haversine(row['origin_lat'], row['origin_lng'], origin_speed_center[0], origin_speed_center[1])\n",
    "    row['origin_bearing_from_speed_center'] = get_bearing(row['origin_lat'], row['origin_lng'], origin_speed_center[0], origin_speed_center[1])\n",
    "    \n",
    "    # dest data stuffs\n",
    "    row['dest_density_cluster'] = int(c['density'].predict([[row['dest_lat'], row['dest_lng']]])[0])\n",
    "    row['dest_speed_cluster'] = int(c['speed'].predict([[row['dest_lat'], row['dest_lng']]])[0])\n",
    "    dest_density_center = c['density'].cluster_centers_[int(row['dest_density_cluster'])]\n",
    "    dest_speed_center = c['speed'].cluster_centers_[int(row['dest_speed_cluster'])]\n",
    "    \n",
    "    row['dest_distance_from_density_center'] = haversine(row['dest_lat'], row['dest_lng'], dest_density_center[0], dest_density_center[1])\n",
    "    row['dest_bearing_from_density_center'] = get_bearing(row['dest_lat'], row['dest_lng'], dest_density_center[0], dest_density_center[1])\n",
    "    row['dest_distance_from_speed_center'] = haversine(row['dest_lat'], row['dest_lng'], dest_speed_center[0], dest_speed_center[1])\n",
    "    row['dest_bearing_from_speed_center'] = get_bearing(row['dest_lat'], row['dest_lng'], dest_speed_center[0], dest_speed_center[1])\n",
    "    \n",
    "    # origin-destination stuffs\n",
    "    row['distance_origin_dest'] = haversine(row['origin_lat'], row['origin_lng'], row['dest_lat'], row['dest_lng'])\n",
    "    row['bearing_origin_dest'] = get_bearing(row['origin_lat'], row['origin_lng'], row['dest_lat'], row['dest_lng'])\n",
    "    \n",
    "    row['distance_origin_dest_density_cluster'] = haversine(origin_density_center[0], origin_density_center[1], dest_density_center[0], dest_density_center[1])\n",
    "    row['distance_origin_dest_speed_cluster'] = haversine(origin_speed_center[0], origin_speed_center[1], dest_speed_center[0], dest_speed_center[1])\n",
    "    \n",
    "    row['origin_distance_from_density_center_squared'] = round(row['origin_distance_from_density_center'] ** 2, 4)\n",
    "    row['origin_distance_from_speed_center_squared'] = round(row['origin_distance_from_speed_center'] ** 2, 4)\n",
    "    row['dest_distance_from_density_center_squared'] = round(row['dest_distance_from_density_center'] ** 2, 4)\n",
    "    row['dest_distance_from_speed_center_squared'] = round(row['dest_distance_from_speed_center'] ** 2, 4)\n",
    "    row['distance_origin_dest_squared'] = round(row['distance_origin_dest'] ** 2, 4)\n",
    "    row['distance_origin_dest_density_cluster_squared'] = round(row['distance_origin_dest_density_cluster'] ** 2, 4)\n",
    "    row['distance_origin_dest_speed_cluster_squared'] = round(row['distance_origin_dest_speed_cluster'] ** 2, 4)\n",
    "    \n",
    "    row['day_hour_crossing'] = int(row['origin_day']*24 + row['origin_hour'])\n",
    "    row['origin_dest_density_cluster_crossing'] = int(row['origin_density_cluster']*20 + row['dest_density_cluster'])\n",
    "    row['origin_dest_speed_cluster_crossing'] = int(row['origin_speed_cluster']*20 + row['dest_speed_cluster'])\n",
    "    \n",
    "    return row"
   ]
  },
  {
   "cell_type": "code",
   "execution_count": 6,
   "metadata": {},
   "outputs": [],
   "source": [
    "valid_df = pd.concat([pd.read_csv(f, encoding='latin1') for f in glob.glob('../data/validation/*.csv')])"
   ]
  },
  {
   "cell_type": "code",
   "execution_count": 7,
   "metadata": {},
   "outputs": [],
   "source": [
    "valid_df = valid_df.rename(columns={ \n",
    "    'rawlat': 'origin_lat', 'rawlng': 'origin_lng', 'pingtimestamp': 'origin_timestamp',\n",
    "    'rawlat2': 'dest_lat', 'rawlng2': 'dest_lng', 'pingtimestamp2': 'dest_timestamp',\n",
    "})"
   ]
  },
  {
   "cell_type": "code",
   "execution_count": 20,
   "metadata": {},
   "outputs": [],
   "source": [
    "valid_df_duration = valid_df.dest_timestamp - valid_df.origin_timestamp"
   ]
  },
  {
   "cell_type": "code",
   "execution_count": 9,
   "metadata": {},
   "outputs": [
    {
     "name": "stderr",
     "output_type": "stream",
     "text": [
      "/home/jjkoh/anaconda3/envs/ml-3.7/lib/python3.7/site-packages/sklearn/base.py:318: UserWarning: Trying to unpickle estimator KMeans from version 0.22.2.post1 when using version 0.22.1. This might lead to breaking code or invalid results. Use at your own risk.\n",
      "  UserWarning)\n"
     ]
    }
   ],
   "source": [
    "load_kmeans()"
   ]
  },
  {
   "cell_type": "code",
   "execution_count": 10,
   "metadata": {},
   "outputs": [],
   "source": [
    "for v in set(output_cols) - set(valid_df.columns):\n",
    "    valid_df[v] = 0\n",
    "    \n",
    "cat_names = [\n",
    "    \"origin_day\", \"origin_hour\",\n",
    "    \"origin_density_cluster\", \"origin_speed_cluster\",\n",
    "    \"dest_density_cluster\", \"dest_speed_cluster\",\n",
    "    \"day_hour_crossing\", \"origin_dest_density_cluster_crossing\", \"origin_dest_speed_cluster_crossing\"\n",
    "]\n",
    "\n",
    "for v in cat_names:\n",
    "    valid_df[v] = valid_df[v].astype('uint32')"
   ]
  },
  {
   "cell_type": "code",
   "execution_count": 11,
   "metadata": {},
   "outputs": [],
   "source": [
    "valid_df = valid_df.apply(lambda row: preproc(row, {'density': density_kmeans, 'speed': speed_kmeans}), axis=1)"
   ]
  },
  {
   "cell_type": "code",
   "execution_count": 12,
   "metadata": {},
   "outputs": [
    {
     "data": {
      "text/html": [
       "<div>\n",
       "<style scoped>\n",
       "    .dataframe tbody tr th:only-of-type {\n",
       "        vertical-align: middle;\n",
       "    }\n",
       "\n",
       "    .dataframe tbody tr th {\n",
       "        vertical-align: top;\n",
       "    }\n",
       "\n",
       "    .dataframe thead th {\n",
       "        text-align: right;\n",
       "    }\n",
       "</style>\n",
       "<table border=\"1\" class=\"dataframe\">\n",
       "  <thead>\n",
       "    <tr style=\"text-align: right;\">\n",
       "      <th></th>\n",
       "      <th>origin_lat</th>\n",
       "      <th>origin_lng</th>\n",
       "      <th>origin_timestamp</th>\n",
       "      <th>dest_lat</th>\n",
       "      <th>dest_lng</th>\n",
       "      <th>dest_timestamp</th>\n",
       "      <th>dest_distance_from_speed_center_squared</th>\n",
       "      <th>origin_distance_from_density_center_squared</th>\n",
       "      <th>bearing_origin_dest</th>\n",
       "      <th>dest_bearing_from_density_center</th>\n",
       "      <th>...</th>\n",
       "      <th>origin_dest_speed_cluster_crossing</th>\n",
       "      <th>origin_density_cluster</th>\n",
       "      <th>dest_bearing_from_speed_center</th>\n",
       "      <th>origin_hour_cos</th>\n",
       "      <th>origin_dest_density_cluster_crossing</th>\n",
       "      <th>dest_distance_from_speed_center</th>\n",
       "      <th>distance_origin_dest_squared</th>\n",
       "      <th>distance_origin_dest_density_cluster</th>\n",
       "      <th>distance_origin_dest_density_cluster_squared</th>\n",
       "      <th>distance_origin_dest_speed_cluster</th>\n",
       "    </tr>\n",
       "  </thead>\n",
       "  <tbody>\n",
       "    <tr>\n",
       "      <th>0</th>\n",
       "      <td>1.340839</td>\n",
       "      <td>103.848598</td>\n",
       "      <td>1.554850e+09</td>\n",
       "      <td>1.344806</td>\n",
       "      <td>103.983101</td>\n",
       "      <td>1.554851e+09</td>\n",
       "      <td>5.4778</td>\n",
       "      <td>2.9321</td>\n",
       "      <td>88.319743</td>\n",
       "      <td>-68.535168</td>\n",
       "      <td>...</td>\n",
       "      <td>220.0</td>\n",
       "      <td>10.0</td>\n",
       "      <td>-134.511328</td>\n",
       "      <td>0.7071</td>\n",
       "      <td>208.0</td>\n",
       "      <td>2.340467</td>\n",
       "      <td>223.7575</td>\n",
       "      <td>11.579899</td>\n",
       "      <td>134.0941</td>\n",
       "      <td>14.279731</td>\n",
       "    </tr>\n",
       "    <tr>\n",
       "      <th>1</th>\n",
       "      <td>1.375949</td>\n",
       "      <td>103.854017</td>\n",
       "      <td>1.555030e+09</td>\n",
       "      <td>1.319886</td>\n",
       "      <td>103.881859</td>\n",
       "      <td>1.555031e+09</td>\n",
       "      <td>1.3539</td>\n",
       "      <td>0.5152</td>\n",
       "      <td>153.442495</td>\n",
       "      <td>69.767056</td>\n",
       "      <td>...</td>\n",
       "      <td>286.0</td>\n",
       "      <td>14.0</td>\n",
       "      <td>-160.609568</td>\n",
       "      <td>0.5000</td>\n",
       "      <td>280.0</td>\n",
       "      <td>1.163552</td>\n",
       "      <td>48.4413</td>\n",
       "      <td>6.797729</td>\n",
       "      <td>46.2091</td>\n",
       "      <td>8.698350</td>\n",
       "    </tr>\n",
       "    <tr>\n",
       "      <th>2</th>\n",
       "      <td>1.272912</td>\n",
       "      <td>103.843105</td>\n",
       "      <td>1.555585e+09</td>\n",
       "      <td>1.344893</td>\n",
       "      <td>103.716199</td>\n",
       "      <td>1.555587e+09</td>\n",
       "      <td>2.8472</td>\n",
       "      <td>1.3844</td>\n",
       "      <td>-60.595140</td>\n",
       "      <td>-34.295552</td>\n",
       "      <td>...</td>\n",
       "      <td>97.0</td>\n",
       "      <td>12.0</td>\n",
       "      <td>-40.047700</td>\n",
       "      <td>-0.7934</td>\n",
       "      <td>242.0</td>\n",
       "      <td>1.687353</td>\n",
       "      <td>263.0874</td>\n",
       "      <td>16.529506</td>\n",
       "      <td>273.2246</td>\n",
       "      <td>16.736633</td>\n",
       "    </tr>\n",
       "    <tr>\n",
       "      <th>3</th>\n",
       "      <td>1.318947</td>\n",
       "      <td>103.903400</td>\n",
       "      <td>1.555055e+09</td>\n",
       "      <td>1.360454</td>\n",
       "      <td>103.937541</td>\n",
       "      <td>1.555056e+09</td>\n",
       "      <td>0.9634</td>\n",
       "      <td>0.9086</td>\n",
       "      <td>39.619465</td>\n",
       "      <td>106.589826</td>\n",
       "      <td>...</td>\n",
       "      <td>278.0</td>\n",
       "      <td>0.0</td>\n",
       "      <td>78.712216</td>\n",
       "      <td>-0.3827</td>\n",
       "      <td>8.0</td>\n",
       "      <td>0.981524</td>\n",
       "      <td>35.7054</td>\n",
       "      <td>7.677298</td>\n",
       "      <td>58.9409</td>\n",
       "      <td>5.179493</td>\n",
       "    </tr>\n",
       "    <tr>\n",
       "      <th>4</th>\n",
       "      <td>1.302866</td>\n",
       "      <td>103.893107</td>\n",
       "      <td>1.555326e+09</td>\n",
       "      <td>1.347796</td>\n",
       "      <td>103.957698</td>\n",
       "      <td>1.555327e+09</td>\n",
       "      <td>4.1971</td>\n",
       "      <td>0.1053</td>\n",
       "      <td>55.349039</td>\n",
       "      <td>42.144536</td>\n",
       "      <td>...</td>\n",
       "      <td>138.0</td>\n",
       "      <td>3.0</td>\n",
       "      <td>-38.798908</td>\n",
       "      <td>-0.7934</td>\n",
       "      <td>68.0</td>\n",
       "      <td>2.048684</td>\n",
       "      <td>76.5171</td>\n",
       "      <td>9.442479</td>\n",
       "      <td>89.1604</td>\n",
       "      <td>9.511273</td>\n",
       "    </tr>\n",
       "  </tbody>\n",
       "</table>\n",
       "<p>5 rows × 38 columns</p>\n",
       "</div>"
      ],
      "text/plain": [
       "   origin_lat  origin_lng  origin_timestamp  dest_lat    dest_lng  \\\n",
       "0    1.340839  103.848598      1.554850e+09  1.344806  103.983101   \n",
       "1    1.375949  103.854017      1.555030e+09  1.319886  103.881859   \n",
       "2    1.272912  103.843105      1.555585e+09  1.344893  103.716199   \n",
       "3    1.318947  103.903400      1.555055e+09  1.360454  103.937541   \n",
       "4    1.302866  103.893107      1.555326e+09  1.347796  103.957698   \n",
       "\n",
       "   dest_timestamp  dest_distance_from_speed_center_squared  \\\n",
       "0    1.554851e+09                                   5.4778   \n",
       "1    1.555031e+09                                   1.3539   \n",
       "2    1.555587e+09                                   2.8472   \n",
       "3    1.555056e+09                                   0.9634   \n",
       "4    1.555327e+09                                   4.1971   \n",
       "\n",
       "   origin_distance_from_density_center_squared  bearing_origin_dest  \\\n",
       "0                                       2.9321            88.319743   \n",
       "1                                       0.5152           153.442495   \n",
       "2                                       1.3844           -60.595140   \n",
       "3                                       0.9086            39.619465   \n",
       "4                                       0.1053            55.349039   \n",
       "\n",
       "   dest_bearing_from_density_center  ...  origin_dest_speed_cluster_crossing  \\\n",
       "0                        -68.535168  ...                               220.0   \n",
       "1                         69.767056  ...                               286.0   \n",
       "2                        -34.295552  ...                                97.0   \n",
       "3                        106.589826  ...                               278.0   \n",
       "4                         42.144536  ...                               138.0   \n",
       "\n",
       "   origin_density_cluster  dest_bearing_from_speed_center  origin_hour_cos  \\\n",
       "0                    10.0                     -134.511328           0.7071   \n",
       "1                    14.0                     -160.609568           0.5000   \n",
       "2                    12.0                      -40.047700          -0.7934   \n",
       "3                     0.0                       78.712216          -0.3827   \n",
       "4                     3.0                      -38.798908          -0.7934   \n",
       "\n",
       "   origin_dest_density_cluster_crossing  dest_distance_from_speed_center  \\\n",
       "0                                 208.0                         2.340467   \n",
       "1                                 280.0                         1.163552   \n",
       "2                                 242.0                         1.687353   \n",
       "3                                   8.0                         0.981524   \n",
       "4                                  68.0                         2.048684   \n",
       "\n",
       "   distance_origin_dest_squared  distance_origin_dest_density_cluster  \\\n",
       "0                      223.7575                             11.579899   \n",
       "1                       48.4413                              6.797729   \n",
       "2                      263.0874                             16.529506   \n",
       "3                       35.7054                              7.677298   \n",
       "4                       76.5171                              9.442479   \n",
       "\n",
       "   distance_origin_dest_density_cluster_squared  \\\n",
       "0                                      134.0941   \n",
       "1                                       46.2091   \n",
       "2                                      273.2246   \n",
       "3                                       58.9409   \n",
       "4                                       89.1604   \n",
       "\n",
       "   distance_origin_dest_speed_cluster  \n",
       "0                           14.279731  \n",
       "1                            8.698350  \n",
       "2                           16.736633  \n",
       "3                            5.179493  \n",
       "4                            9.511273  \n",
       "\n",
       "[5 rows x 38 columns]"
      ]
     },
     "execution_count": 12,
     "metadata": {},
     "output_type": "execute_result"
    }
   ],
   "source": [
    "valid_df.head()"
   ]
  },
  {
   "cell_type": "code",
   "execution_count": 13,
   "metadata": {},
   "outputs": [],
   "source": [
    "for v in cat_names:\n",
    "    valid_df[v] = valid_df[v].astype('int64')"
   ]
  },
  {
   "cell_type": "code",
   "execution_count": 70,
   "metadata": {},
   "outputs": [],
   "source": [
    "learn = load_learner('../models/', 'fastai-999.pkl')"
   ]
  },
  {
   "cell_type": "code",
   "execution_count": 89,
   "metadata": {},
   "outputs": [],
   "source": [
    "dicts = valid_df.to_dict('records')"
   ]
  },
  {
   "cell_type": "code",
   "execution_count": 111,
   "metadata": {},
   "outputs": [
    {
     "data": {
      "text/plain": [
       "((FloatItem [1219.3329], tensor([1219.3329]), tensor([1219.3329])), 922)"
      ]
     },
     "execution_count": 111,
     "metadata": {},
     "output_type": "execute_result"
    }
   ],
   "source": [
    "i = 2020\n",
    "learn.predict(dicts[i]), valid_df_duration.values[i]"
   ]
  },
  {
   "cell_type": "code",
   "execution_count": 102,
   "metadata": {},
   "outputs": [
    {
     "data": {
      "text/plain": [
       "1198.0458"
      ]
     },
     "execution_count": 102,
     "metadata": {},
     "output_type": "execute_result"
    }
   ],
   "source": [
    "learn.predict(dicts[0])[1].cpu().numpy()[0]"
   ]
  },
  {
   "cell_type": "code",
   "execution_count": 117,
   "metadata": {},
   "outputs": [],
   "source": [
    "res = {'actual': [], 'predicted': []}"
   ]
  },
  {
   "cell_type": "code",
   "execution_count": null,
   "metadata": {},
   "outputs": [
    {
     "name": "stdout",
     "output_type": "stream",
     "text": [
      "27693 28000\n"
     ]
    }
   ],
   "source": [
    "for i, row in enumerate(dicts):\n",
    "    print(i, len(dicts))\n",
    "    clear_output(wait=True)\n",
    "    pred = learn.predict(row)[1].cpu().numpy()[0]\n",
    "    actual = valid_df_duration.values[i]\n",
    "    res['actual'].append(actual)\n",
    "    res['predicted'].append(pred)"
   ]
  },
  {
   "cell_type": "code",
   "execution_count": null,
   "metadata": {},
   "outputs": [],
   "source": [
    "res_df = pd.DataFrame.from_dict(res)"
   ]
  },
  {
   "cell_type": "code",
   "execution_count": 120,
   "metadata": {},
   "outputs": [
    {
     "data": {
      "text/html": [
       "<div>\n",
       "<style scoped>\n",
       "    .dataframe tbody tr th:only-of-type {\n",
       "        vertical-align: middle;\n",
       "    }\n",
       "\n",
       "    .dataframe tbody tr th {\n",
       "        vertical-align: top;\n",
       "    }\n",
       "\n",
       "    .dataframe thead th {\n",
       "        text-align: right;\n",
       "    }\n",
       "</style>\n",
       "<table border=\"1\" class=\"dataframe\">\n",
       "  <thead>\n",
       "    <tr style=\"text-align: right;\">\n",
       "      <th></th>\n",
       "      <th>actual</th>\n",
       "      <th>predicted</th>\n",
       "    </tr>\n",
       "  </thead>\n",
       "  <tbody>\n",
       "    <tr>\n",
       "      <th>0</th>\n",
       "      <td>1019</td>\n",
       "      <td>1198.045776</td>\n",
       "    </tr>\n",
       "    <tr>\n",
       "      <th>1</th>\n",
       "      <td>979</td>\n",
       "      <td>512.201965</td>\n",
       "    </tr>\n",
       "    <tr>\n",
       "      <th>2</th>\n",
       "      <td>1629</td>\n",
       "      <td>1028.537720</td>\n",
       "    </tr>\n",
       "    <tr>\n",
       "      <th>3</th>\n",
       "      <td>1116</td>\n",
       "      <td>601.796875</td>\n",
       "    </tr>\n",
       "    <tr>\n",
       "      <th>4</th>\n",
       "      <td>1075</td>\n",
       "      <td>550.884949</td>\n",
       "    </tr>\n",
       "    <tr>\n",
       "      <th>...</th>\n",
       "      <td>...</td>\n",
       "      <td>...</td>\n",
       "    </tr>\n",
       "    <tr>\n",
       "      <th>27995</th>\n",
       "      <td>1277</td>\n",
       "      <td>731.642090</td>\n",
       "    </tr>\n",
       "    <tr>\n",
       "      <th>27996</th>\n",
       "      <td>1457</td>\n",
       "      <td>1451.917847</td>\n",
       "    </tr>\n",
       "    <tr>\n",
       "      <th>27997</th>\n",
       "      <td>1242</td>\n",
       "      <td>1022.171875</td>\n",
       "    </tr>\n",
       "    <tr>\n",
       "      <th>27998</th>\n",
       "      <td>1195</td>\n",
       "      <td>1105.796997</td>\n",
       "    </tr>\n",
       "    <tr>\n",
       "      <th>27999</th>\n",
       "      <td>971</td>\n",
       "      <td>680.671387</td>\n",
       "    </tr>\n",
       "  </tbody>\n",
       "</table>\n",
       "<p>28000 rows × 2 columns</p>\n",
       "</div>"
      ],
      "text/plain": [
       "       actual    predicted\n",
       "0        1019  1198.045776\n",
       "1         979   512.201965\n",
       "2        1629  1028.537720\n",
       "3        1116   601.796875\n",
       "4        1075   550.884949\n",
       "...       ...          ...\n",
       "27995    1277   731.642090\n",
       "27996    1457  1451.917847\n",
       "27997    1242  1022.171875\n",
       "27998    1195  1105.796997\n",
       "27999     971   680.671387\n",
       "\n",
       "[28000 rows x 2 columns]"
      ]
     },
     "execution_count": 120,
     "metadata": {},
     "output_type": "execute_result"
    }
   ],
   "source": [
    "res_df"
   ]
  },
  {
   "cell_type": "code",
   "execution_count": 122,
   "metadata": {},
   "outputs": [
    {
     "data": {
      "text/plain": [
       "446.3527508472628"
      ]
     },
     "execution_count": 122,
     "metadata": {},
     "output_type": "execute_result"
    }
   ],
   "source": [
    "((res_df.predicted - res_df.actual) ** 2).mean() ** .5"
   ]
  },
  {
   "cell_type": "code",
   "execution_count": 128,
   "metadata": {},
   "outputs": [
    {
     "data": {
      "text/plain": [
       "419.6867474474456"
      ]
     },
     "execution_count": 128,
     "metadata": {},
     "output_type": "execute_result"
    }
   ],
   "source": [
    "temp_df = res_df[res_df.actual < 3000]\n",
    "((temp_df.predicted - temp_df.actual) ** 2).mean() ** .5"
   ]
  },
  {
   "cell_type": "code",
   "execution_count": 130,
   "metadata": {},
   "outputs": [
    {
     "data": {
      "text/plain": [
       "<matplotlib.axes._subplots.AxesSubplot at 0x7fcc18bb08d0>"
      ]
     },
     "execution_count": 130,
     "metadata": {},
     "output_type": "execute_result"
    },
    {
     "data": {
      "image/png": "[encoded data removed]",
      "text/plain": [
       "<Figure size 432x288 with 1 Axes>"
      ]
     },
     "metadata": {
      "needs_background": "light"
     },
     "output_type": "display_data"
    }
   ],
   "source": [
    "temp_df.plot.scatter(x='actual', y='predicted')"
   ]
  },
  {
   "cell_type": "code",
   "execution_count": 139,
   "metadata": {},
   "outputs": [
    {
     "data": {
      "text/plain": [
       "<matplotlib.axes._subplots.AxesSubplot at 0x7fcc1009da90>"
      ]
     },
     "execution_count": 139,
     "metadata": {},
     "output_type": "execute_result"
    },
    {
     "data": {
      "image/png": "[encoded data removed]",
      "text/plain": [
       "<Figure size 432x288 with 1 Axes>"
      ]
     },
     "metadata": {
      "needs_background": "light"
     },
     "output_type": "display_data"
    }
   ],
   "source": [
    "res_df.plot.hist(bins=np.arange(600, 3000, 300))"
   ]
  },
  {
   "cell_type": "code",
   "execution_count": 140,
   "metadata": {},
   "outputs": [
    {
     "data": {
      "text/plain": [
       "<matplotlib.axes._subplots.AxesSubplot at 0x7fcc0b74fbd0>"
      ]
     },
     "execution_count": 140,
     "metadata": {},
     "output_type": "execute_result"
    },
    {
     "data": {
      "image/png": "[encoded data removed]",
      "text/plain": [
       "<Figure size 432x288 with 1 Axes>"
      ]
     },
     "metadata": {
      "needs_background": "light"
     },
     "output_type": "display_data"
    }
   ],
   "source": [
    "res_df.actual.plot.hist(bins=np.arange(600, 3000, 300))"
   ]
  },
  {
   "cell_type": "code",
   "execution_count": 18,
   "metadata": {},
   "outputs": [
    {
     "data": {
      "text/plain": [
       "<matplotlib.axes._subplots.AxesSubplot at 0x7fe672435510>"
      ]
     },
     "execution_count": 18,
     "metadata": {},
     "output_type": "execute_result"
    },
    {
     "data": {
      "image/png": "[encoded data removed]",
      "text/plain": [
       "<Figure size 432x288 with 1 Axes>"
      ]
     },
     "metadata": {
      "needs_background": "light"
     },
     "output_type": "display_data"
    }
   ],
   "source": [
    "valid_df.distance_origin_dest.plot.hist(bins=np.arange(0, 30, 1))"
   ]
  },
  {
   "cell_type": "code",
   "execution_count": 24,
   "metadata": {},
   "outputs": [
    {
     "data": {
      "text/plain": [
       "<matplotlib.axes._subplots.AxesSubplot at 0x7fe66bde2590>"
      ]
     },
     "execution_count": 24,
     "metadata": {},
     "output_type": "execute_result"
    },
    {
     "data": {
      "image/png": "[encoded data removed]",
      "text/plain": [
       "<Figure size 432x288 with 1 Axes>"
      ]
     },
     "metadata": {
      "needs_background": "light"
     },
     "output_type": "display_data"
    }
   ],
   "source": [
    "valid_df_duration.plot.hist(bins=np.arange(600, 2000, 100))"
   ]
  },
  {
   "cell_type": "code",
   "execution_count": null,
   "metadata": {},
   "outputs": [],
   "source": []
  }
 ],
 "metadata": {
  "kernelspec": {
   "display_name": "Python 3",
   "language": "python",
   "name": "python3"
  },
  "language_info": {
   "codemirror_mode": {
    "name": "ipython",
    "version": 3
   },
   "file_extension": ".py",
   "mimetype": "text/x-python",
   "name": "python",
   "nbconvert_exporter": "python",
   "pygments_lexer": "ipython3",
   "version": "3.7.6"
  }
 },
 "nbformat": 4,
 "nbformat_minor": 4
}
