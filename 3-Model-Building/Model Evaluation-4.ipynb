{
 "cells": [
  {
   "cell_type": "code",
   "execution_count": 3,
   "metadata": {},
   "outputs": [],
   "source": [
    "import pandas as pd\n",
    "import numpy as np\n",
    "\n",
    "import glob\n",
    "\n",
    "from sklearn.cluster import KMeans\n",
    "\n",
    "from fastai.tabular import *\n",
    "\n",
    "import datetime\n",
    "\n",
    "from math import radians, cos, sin, asin, sqrt, pi\n",
    "\n",
    "from geographiclib.geodesic import Geodesic\n",
    "\n",
    "import matplotlib.pyplot as plt \n",
    "\n",
    "from IPython.display import clear_output"
   ]
  },
  {
   "cell_type": "code",
   "execution_count": 4,
   "metadata": {},
   "outputs": [
    {
     "name": "stdout",
     "output_type": "stream",
     "text": [
      "dev-fastai-999-balance-2.pkl\t      fastai-999-balance-3.pkl\r\n",
      "dev-fastai-999-balance-3.pkl\t      fastai-999-balance.pkl\r\n",
      "dev-fastai-999-balance.pkl\t      fastai-999.pkl\r\n",
      "fastai-999\t\t\t      models\r\n",
      "fastai-999-balance-2-overfitting.pkl  traffic-cluster-density-20-kmeans.pkl\r\n",
      "fastai-999-balance-2.pkl\t      traffic-cluster-speed-20-kmeans.pkl\r\n",
      "fastai-999-balance-3-overfitting.pkl\r\n"
     ]
    }
   ],
   "source": [
    "!ls ../models"
   ]
  },
  {
   "cell_type": "code",
   "execution_count": 5,
   "metadata": {},
   "outputs": [],
   "source": [
    "density_kmeans = None\n",
    "speed_kmeans = None"
   ]
  },
  {
   "cell_type": "code",
   "execution_count": 6,
   "metadata": {},
   "outputs": [],
   "source": [
    "output_cols = [\n",
    "    'origin_day', 'origin_hour', 'origin_day_sin', 'origin_day_cos', 'origin_hour_sin', 'origin_hour_cos',\n",
    "    'origin_density_cluster', 'origin_speed_cluster',\n",
    "    'origin_distance_from_density_center', 'origin_bearing_from_density_center',\n",
    "    'origin_distance_from_speed_center', 'origin_bearing_from_speed_center',\n",
    "    'dest_density_cluster', 'dest_speed_cluster',\n",
    "    'dest_distance_from_density_center', 'dest_bearing_from_density_center',\n",
    "    'dest_distance_from_speed_center', 'dest_bearing_from_speed_center',\n",
    "    'distance_origin_dest', 'bearing_origin_dest',\n",
    "    'distance_origin_dest_density_cluster', 'distance_origin_dest_speed_cluster',\n",
    "    'origin_distance_from_density_center_squared', 'origin_distance_from_speed_center_squared',\n",
    "    'dest_distance_from_density_center_squared', 'dest_distance_from_speed_center_squared',\n",
    "    'distance_origin_dest_squared', \n",
    "    'distance_origin_dest_density_cluster_squared', 'distance_origin_dest_speed_cluster_squared',\n",
    "    'day_hour_crossing', \n",
    "    'origin_dest_density_cluster_crossing', 'origin_dest_speed_cluster_crossing',\n",
    "]\n",
    "\n",
    "def load_kmeans():\n",
    "    with open('../models/traffic-cluster-density-20-kmeans.pkl', 'rb') as pkl:\n",
    "        global density_kmeans\n",
    "        density_kmeans = pickle.load(pkl)\n",
    "    with open('../models/traffic-cluster-speed-20-kmeans.pkl', 'rb') as pkl:\n",
    "        global speed_kmeans\n",
    "        speed_kmeans = pickle.load(pkl)\n",
    "\n",
    "def haversine(lat1, lon1, lat2, lon2):\n",
    "    \"\"\"\n",
    "    Calculate the great circle distance between two points\n",
    "    on the earth (specified in decimal degrees)\n",
    "    \"\"\"\n",
    "    # convert decimal degrees to radians\n",
    "    lon1, lat1, lon2, lat2 = map(radians, [lon1, lat1, lon2, lat2])\n",
    "\n",
    "    # haversine formula\n",
    "    dlon = lon2 - lon1\n",
    "    dlat = lat2 - lat1\n",
    "    a = sin(dlat/2)**2 + cos(lat1) * cos(lat2) * sin(dlon/2)**2\n",
    "    c = 2 * asin(sqrt(a))\n",
    "    r = 6371  # Radius of earth in kilometers. Use 3956 for miles\n",
    "    return c * r\n",
    "\n",
    "def get_bearing(lat1, long1, lat2, long2):\n",
    "    brng = Geodesic.WGS84.Inverse(lat1, long1, lat2, long2)['azi1']\n",
    "    return brng\n",
    "\n",
    "def preproc(row, c):\n",
    "    dt = datetime.datetime.fromtimestamp(row['origin_timestamp'] - 28800)\n",
    "    row['origin_day'] = int(dt.weekday())\n",
    "    row['origin_hour'] = int(dt.hour)\n",
    "    row['origin_day_sin'] = round(sin(row['origin_day']*(pi/7)), 4)\n",
    "    row['origin_day_cos'] = round(cos(row['origin_day']*(pi/7)), 4)\n",
    "    row['origin_hour_sin'] = round(sin(row['origin_hour']*(pi/24)), 4)\n",
    "    row['origin_hour_cos'] = round(cos(row['origin_hour']*(pi/24)), 4)\n",
    "    \n",
    "    row['origin_density_cluster'] = int(c['density'].predict([[row['origin_lat'], row['origin_lng']]])[0])\n",
    "    row['origin_speed_cluster'] = int(c['speed'].predict([[row['origin_lat'], row['origin_lng']]])[0])\n",
    "    origin_density_center = c['density'].cluster_centers_[int(row['origin_density_cluster'])]\n",
    "    origin_speed_center = c['speed'].cluster_centers_[int(row['origin_speed_cluster'])]\n",
    "    \n",
    "    row['origin_distance_from_density_center'] = haversine(row['origin_lat'], row['origin_lng'], origin_density_center[0], origin_density_center[1])\n",
    "    row['origin_bearing_from_density_center'] = get_bearing(row['origin_lat'], row['origin_lng'], origin_density_center[0], origin_density_center[1])\n",
    "    row['origin_distance_from_speed_center'] = haversine(row['origin_lat'], row['origin_lng'], origin_speed_center[0], origin_speed_center[1])\n",
    "    row['origin_bearing_from_speed_center'] = get_bearing(row['origin_lat'], row['origin_lng'], origin_speed_center[0], origin_speed_center[1])\n",
    "    \n",
    "    # dest data stuffs\n",
    "    row['dest_density_cluster'] = int(c['density'].predict([[row['dest_lat'], row['dest_lng']]])[0])\n",
    "    row['dest_speed_cluster'] = int(c['speed'].predict([[row['dest_lat'], row['dest_lng']]])[0])\n",
    "    dest_density_center = c['density'].cluster_centers_[int(row['dest_density_cluster'])]\n",
    "    dest_speed_center = c['speed'].cluster_centers_[int(row['dest_speed_cluster'])]\n",
    "    \n",
    "    row['dest_distance_from_density_center'] = haversine(row['dest_lat'], row['dest_lng'], dest_density_center[0], dest_density_center[1])\n",
    "    row['dest_bearing_from_density_center'] = get_bearing(row['dest_lat'], row['dest_lng'], dest_density_center[0], dest_density_center[1])\n",
    "    row['dest_distance_from_speed_center'] = haversine(row['dest_lat'], row['dest_lng'], dest_speed_center[0], dest_speed_center[1])\n",
    "    row['dest_bearing_from_speed_center'] = get_bearing(row['dest_lat'], row['dest_lng'], dest_speed_center[0], dest_speed_center[1])\n",
    "    \n",
    "    # origin-destination stuffs\n",
    "    row['distance_origin_dest'] = haversine(row['origin_lat'], row['origin_lng'], row['dest_lat'], row['dest_lng'])\n",
    "    row['bearing_origin_dest'] = get_bearing(row['origin_lat'], row['origin_lng'], row['dest_lat'], row['dest_lng'])\n",
    "    \n",
    "    row['distance_origin_dest_density_cluster'] = haversine(origin_density_center[0], origin_density_center[1], dest_density_center[0], dest_density_center[1])\n",
    "    row['distance_origin_dest_speed_cluster'] = haversine(origin_speed_center[0], origin_speed_center[1], dest_speed_center[0], dest_speed_center[1])\n",
    "    \n",
    "    row['origin_distance_from_density_center_squared'] = round(row['origin_distance_from_density_center'] ** 2, 4)\n",
    "    row['origin_distance_from_speed_center_squared'] = round(row['origin_distance_from_speed_center'] ** 2, 4)\n",
    "    row['dest_distance_from_density_center_squared'] = round(row['dest_distance_from_density_center'] ** 2, 4)\n",
    "    row['dest_distance_from_speed_center_squared'] = round(row['dest_distance_from_speed_center'] ** 2, 4)\n",
    "    row['distance_origin_dest_squared'] = round(row['distance_origin_dest'] ** 2, 4)\n",
    "    row['distance_origin_dest_density_cluster_squared'] = round(row['distance_origin_dest_density_cluster'] ** 2, 4)\n",
    "    row['distance_origin_dest_speed_cluster_squared'] = round(row['distance_origin_dest_speed_cluster'] ** 2, 4)\n",
    "    \n",
    "    row['day_hour_crossing'] = int(row['origin_day']*24 + row['origin_hour'])\n",
    "    row['origin_dest_density_cluster_crossing'] = int(row['origin_density_cluster']*20 + row['dest_density_cluster'])\n",
    "    row['origin_dest_speed_cluster_crossing'] = int(row['origin_speed_cluster']*20 + row['dest_speed_cluster'])\n",
    "    \n",
    "    return row"
   ]
  },
  {
   "cell_type": "code",
   "execution_count": 7,
   "metadata": {},
   "outputs": [],
   "source": [
    "valid_df = pd.concat([pd.read_csv(f, encoding='latin1') for f in glob.glob('../data/validation/*.csv')])"
   ]
  },
  {
   "cell_type": "code",
   "execution_count": 8,
   "metadata": {},
   "outputs": [],
   "source": [
    "valid_df = valid_df.rename(columns={ \n",
    "    'rawlat': 'origin_lat', 'rawlng': 'origin_lng', 'pingtimestamp': 'origin_timestamp',\n",
    "    'rawlat2': 'dest_lat', 'rawlng2': 'dest_lng', 'pingtimestamp2': 'dest_timestamp',\n",
    "})"
   ]
  },
  {
   "cell_type": "code",
   "execution_count": 9,
   "metadata": {},
   "outputs": [],
   "source": [
    "valid_df_duration = valid_df.dest_timestamp - valid_df.origin_timestamp"
   ]
  },
  {
   "cell_type": "code",
   "execution_count": 10,
   "metadata": {},
   "outputs": [
    {
     "name": "stderr",
     "output_type": "stream",
     "text": [
      "/home/jjkoh/anaconda3/envs/ml-3.7/lib/python3.7/site-packages/sklearn/base.py:318: UserWarning: Trying to unpickle estimator KMeans from version 0.22.2.post1 when using version 0.22.1. This might lead to breaking code or invalid results. Use at your own risk.\n",
      "  UserWarning)\n"
     ]
    }
   ],
   "source": [
    "load_kmeans()"
   ]
  },
  {
   "cell_type": "code",
   "execution_count": 11,
   "metadata": {},
   "outputs": [],
   "source": [
    "for v in set(output_cols) - set(valid_df.columns):\n",
    "    valid_df[v] = 0\n",
    "    \n",
    "cat_names = [\n",
    "    \"origin_day\", \"origin_hour\",\n",
    "    \"origin_density_cluster\", \"origin_speed_cluster\",\n",
    "    \"dest_density_cluster\", \"dest_speed_cluster\",\n",
    "    \"day_hour_crossing\", \"origin_dest_density_cluster_crossing\", \"origin_dest_speed_cluster_crossing\"\n",
    "]\n",
    "\n",
    "for v in cat_names:\n",
    "    valid_df[v] = valid_df[v].astype('uint32')"
   ]
  },
  {
   "cell_type": "code",
   "execution_count": 12,
   "metadata": {},
   "outputs": [],
   "source": [
    "valid_df = valid_df.apply(lambda row: preproc(row, {'density': density_kmeans, 'speed': speed_kmeans}), axis=1)"
   ]
  },
  {
   "cell_type": "code",
   "execution_count": 13,
   "metadata": {},
   "outputs": [
    {
     "data": {
      "text/html": [
       "<div>\n",
       "<style scoped>\n",
       "    .dataframe tbody tr th:only-of-type {\n",
       "        vertical-align: middle;\n",
       "    }\n",
       "\n",
       "    .dataframe tbody tr th {\n",
       "        vertical-align: top;\n",
       "    }\n",
       "\n",
       "    .dataframe thead th {\n",
       "        text-align: right;\n",
       "    }\n",
       "</style>\n",
       "<table border=\"1\" class=\"dataframe\">\n",
       "  <thead>\n",
       "    <tr style=\"text-align: right;\">\n",
       "      <th></th>\n",
       "      <th>origin_lat</th>\n",
       "      <th>origin_lng</th>\n",
       "      <th>origin_timestamp</th>\n",
       "      <th>dest_lat</th>\n",
       "      <th>dest_lng</th>\n",
       "      <th>dest_timestamp</th>\n",
       "      <th>origin_distance_from_density_center_squared</th>\n",
       "      <th>dest_speed_cluster</th>\n",
       "      <th>dest_distance_from_density_center_squared</th>\n",
       "      <th>distance_origin_dest_squared</th>\n",
       "      <th>...</th>\n",
       "      <th>distance_origin_dest_density_cluster</th>\n",
       "      <th>dest_density_cluster</th>\n",
       "      <th>distance_origin_dest</th>\n",
       "      <th>origin_dest_speed_cluster_crossing</th>\n",
       "      <th>dest_distance_from_density_center</th>\n",
       "      <th>origin_day_cos</th>\n",
       "      <th>origin_density_cluster</th>\n",
       "      <th>origin_distance_from_density_center</th>\n",
       "      <th>distance_origin_dest_density_cluster_squared</th>\n",
       "      <th>day_hour_crossing</th>\n",
       "    </tr>\n",
       "  </thead>\n",
       "  <tbody>\n",
       "    <tr>\n",
       "      <th>0</th>\n",
       "      <td>1.340839</td>\n",
       "      <td>103.848598</td>\n",
       "      <td>1.554850e+09</td>\n",
       "      <td>1.344806</td>\n",
       "      <td>103.983101</td>\n",
       "      <td>1.554851e+09</td>\n",
       "      <td>2.9321</td>\n",
       "      <td>0.0</td>\n",
       "      <td>6.1363</td>\n",
       "      <td>223.7575</td>\n",
       "      <td>...</td>\n",
       "      <td>11.579899</td>\n",
       "      <td>8.0</td>\n",
       "      <td>14.958527</td>\n",
       "      <td>220.0</td>\n",
       "      <td>2.477152</td>\n",
       "      <td>0.9010</td>\n",
       "      <td>10.0</td>\n",
       "      <td>1.712340</td>\n",
       "      <td>134.0941</td>\n",
       "      <td>46.0</td>\n",
       "    </tr>\n",
       "    <tr>\n",
       "      <th>1</th>\n",
       "      <td>1.375949</td>\n",
       "      <td>103.854017</td>\n",
       "      <td>1.555030e+09</td>\n",
       "      <td>1.319886</td>\n",
       "      <td>103.881859</td>\n",
       "      <td>1.555031e+09</td>\n",
       "      <td>0.5152</td>\n",
       "      <td>6.0</td>\n",
       "      <td>4.0140</td>\n",
       "      <td>48.4413</td>\n",
       "      <td>...</td>\n",
       "      <td>6.797729</td>\n",
       "      <td>0.0</td>\n",
       "      <td>6.959980</td>\n",
       "      <td>286.0</td>\n",
       "      <td>2.003487</td>\n",
       "      <td>-0.2225</td>\n",
       "      <td>14.0</td>\n",
       "      <td>0.717754</td>\n",
       "      <td>46.2091</td>\n",
       "      <td>96.0</td>\n",
       "    </tr>\n",
       "    <tr>\n",
       "      <th>2</th>\n",
       "      <td>1.272912</td>\n",
       "      <td>103.843105</td>\n",
       "      <td>1.555585e+09</td>\n",
       "      <td>1.344893</td>\n",
       "      <td>103.716199</td>\n",
       "      <td>1.555587e+09</td>\n",
       "      <td>1.3844</td>\n",
       "      <td>17.0</td>\n",
       "      <td>1.7951</td>\n",
       "      <td>263.0874</td>\n",
       "      <td>...</td>\n",
       "      <td>16.529506</td>\n",
       "      <td>2.0</td>\n",
       "      <td>16.219968</td>\n",
       "      <td>97.0</td>\n",
       "      <td>1.339828</td>\n",
       "      <td>0.2225</td>\n",
       "      <td>12.0</td>\n",
       "      <td>1.176623</td>\n",
       "      <td>273.2246</td>\n",
       "      <td>83.0</td>\n",
       "    </tr>\n",
       "    <tr>\n",
       "      <th>3</th>\n",
       "      <td>1.318947</td>\n",
       "      <td>103.903400</td>\n",
       "      <td>1.555055e+09</td>\n",
       "      <td>1.360454</td>\n",
       "      <td>103.937541</td>\n",
       "      <td>1.555056e+09</td>\n",
       "      <td>0.9086</td>\n",
       "      <td>18.0</td>\n",
       "      <td>8.3115</td>\n",
       "      <td>35.7054</td>\n",
       "      <td>...</td>\n",
       "      <td>7.677298</td>\n",
       "      <td>8.0</td>\n",
       "      <td>5.975397</td>\n",
       "      <td>278.0</td>\n",
       "      <td>2.882960</td>\n",
       "      <td>-0.2225</td>\n",
       "      <td>0.0</td>\n",
       "      <td>0.953201</td>\n",
       "      <td>58.9409</td>\n",
       "      <td>103.0</td>\n",
       "    </tr>\n",
       "    <tr>\n",
       "      <th>4</th>\n",
       "      <td>1.302866</td>\n",
       "      <td>103.893107</td>\n",
       "      <td>1.555326e+09</td>\n",
       "      <td>1.347796</td>\n",
       "      <td>103.957698</td>\n",
       "      <td>1.555327e+09</td>\n",
       "      <td>0.1053</td>\n",
       "      <td>18.0</td>\n",
       "      <td>0.6066</td>\n",
       "      <td>76.5171</td>\n",
       "      <td>...</td>\n",
       "      <td>9.442479</td>\n",
       "      <td>8.0</td>\n",
       "      <td>8.747406</td>\n",
       "      <td>138.0</td>\n",
       "      <td>0.778862</td>\n",
       "      <td>1.0000</td>\n",
       "      <td>3.0</td>\n",
       "      <td>0.324433</td>\n",
       "      <td>89.1604</td>\n",
       "      <td>11.0</td>\n",
       "    </tr>\n",
       "  </tbody>\n",
       "</table>\n",
       "<p>5 rows × 38 columns</p>\n",
       "</div>"
      ],
      "text/plain": [
       "   origin_lat  origin_lng  origin_timestamp  dest_lat    dest_lng  \\\n",
       "0    1.340839  103.848598      1.554850e+09  1.344806  103.983101   \n",
       "1    1.375949  103.854017      1.555030e+09  1.319886  103.881859   \n",
       "2    1.272912  103.843105      1.555585e+09  1.344893  103.716199   \n",
       "3    1.318947  103.903400      1.555055e+09  1.360454  103.937541   \n",
       "4    1.302866  103.893107      1.555326e+09  1.347796  103.957698   \n",
       "\n",
       "   dest_timestamp  origin_distance_from_density_center_squared  \\\n",
       "0    1.554851e+09                                       2.9321   \n",
       "1    1.555031e+09                                       0.5152   \n",
       "2    1.555587e+09                                       1.3844   \n",
       "3    1.555056e+09                                       0.9086   \n",
       "4    1.555327e+09                                       0.1053   \n",
       "\n",
       "   dest_speed_cluster  dest_distance_from_density_center_squared  \\\n",
       "0                 0.0                                     6.1363   \n",
       "1                 6.0                                     4.0140   \n",
       "2                17.0                                     1.7951   \n",
       "3                18.0                                     8.3115   \n",
       "4                18.0                                     0.6066   \n",
       "\n",
       "   distance_origin_dest_squared  ...  distance_origin_dest_density_cluster  \\\n",
       "0                      223.7575  ...                             11.579899   \n",
       "1                       48.4413  ...                              6.797729   \n",
       "2                      263.0874  ...                             16.529506   \n",
       "3                       35.7054  ...                              7.677298   \n",
       "4                       76.5171  ...                              9.442479   \n",
       "\n",
       "   dest_density_cluster  distance_origin_dest  \\\n",
       "0                   8.0             14.958527   \n",
       "1                   0.0              6.959980   \n",
       "2                   2.0             16.219968   \n",
       "3                   8.0              5.975397   \n",
       "4                   8.0              8.747406   \n",
       "\n",
       "   origin_dest_speed_cluster_crossing  dest_distance_from_density_center  \\\n",
       "0                               220.0                           2.477152   \n",
       "1                               286.0                           2.003487   \n",
       "2                                97.0                           1.339828   \n",
       "3                               278.0                           2.882960   \n",
       "4                               138.0                           0.778862   \n",
       "\n",
       "   origin_day_cos  origin_density_cluster  \\\n",
       "0          0.9010                    10.0   \n",
       "1         -0.2225                    14.0   \n",
       "2          0.2225                    12.0   \n",
       "3         -0.2225                     0.0   \n",
       "4          1.0000                     3.0   \n",
       "\n",
       "   origin_distance_from_density_center  \\\n",
       "0                             1.712340   \n",
       "1                             0.717754   \n",
       "2                             1.176623   \n",
       "3                             0.953201   \n",
       "4                             0.324433   \n",
       "\n",
       "   distance_origin_dest_density_cluster_squared  day_hour_crossing  \n",
       "0                                      134.0941               46.0  \n",
       "1                                       46.2091               96.0  \n",
       "2                                      273.2246               83.0  \n",
       "3                                       58.9409              103.0  \n",
       "4                                       89.1604               11.0  \n",
       "\n",
       "[5 rows x 38 columns]"
      ]
     },
     "execution_count": 13,
     "metadata": {},
     "output_type": "execute_result"
    }
   ],
   "source": [
    "valid_df.head()"
   ]
  },
  {
   "cell_type": "code",
   "execution_count": 14,
   "metadata": {},
   "outputs": [],
   "source": [
    "for v in cat_names:\n",
    "    valid_df[v] = valid_df[v].astype('int64')"
   ]
  },
  {
   "cell_type": "code",
   "execution_count": 15,
   "metadata": {},
   "outputs": [],
   "source": [
    "valid_df.to_pickle('valid_df.pkl')"
   ]
  },
  {
   "cell_type": "code",
   "execution_count": 16,
   "metadata": {},
   "outputs": [],
   "source": [
    "learn = load_learner('../models/', 'fastai-999-balance-3.pkl')"
   ]
  },
  {
   "cell_type": "code",
   "execution_count": 17,
   "metadata": {},
   "outputs": [],
   "source": [
    "dicts = valid_df.to_dict('records')"
   ]
  },
  {
   "cell_type": "code",
   "execution_count": 18,
   "metadata": {},
   "outputs": [
    {
     "data": {
      "text/plain": [
       "((FloatItem [882.89575], tensor([882.8958]), tensor([882.8958])), 1019)"
      ]
     },
     "execution_count": 18,
     "metadata": {},
     "output_type": "execute_result"
    }
   ],
   "source": [
    "i = 0\n",
    "learn.predict(dicts[i]), valid_df_duration.values[i]"
   ]
  },
  {
   "cell_type": "code",
   "execution_count": 19,
   "metadata": {},
   "outputs": [
    {
     "data": {
      "text/plain": [
       "882.89575"
      ]
     },
     "execution_count": 19,
     "metadata": {},
     "output_type": "execute_result"
    }
   ],
   "source": [
    "learn.predict(dicts[i])[1].cpu().numpy()[0]"
   ]
  },
  {
   "cell_type": "code",
   "execution_count": 20,
   "metadata": {},
   "outputs": [],
   "source": [
    "res = {'actual': [], 'predicted': []}"
   ]
  },
  {
   "cell_type": "code",
   "execution_count": 21,
   "metadata": {},
   "outputs": [
    {
     "name": "stdout",
     "output_type": "stream",
     "text": [
      "27999 28000\n"
     ]
    }
   ],
   "source": [
    "for i, row in enumerate(dicts):\n",
    "    print(i, len(dicts))\n",
    "    clear_output(wait=True)\n",
    "    pred = learn.predict(row)[1].cpu().numpy()[0]\n",
    "    actual = valid_df_duration.values[i]\n",
    "    res['actual'].append(actual)\n",
    "    res['predicted'].append(pred)"
   ]
  },
  {
   "cell_type": "code",
   "execution_count": 22,
   "metadata": {},
   "outputs": [],
   "source": [
    "res_df = pd.DataFrame.from_dict(res)"
   ]
  },
  {
   "cell_type": "code",
   "execution_count": 23,
   "metadata": {},
   "outputs": [
    {
     "data": {
      "text/html": [
       "<div>\n",
       "<style scoped>\n",
       "    .dataframe tbody tr th:only-of-type {\n",
       "        vertical-align: middle;\n",
       "    }\n",
       "\n",
       "    .dataframe tbody tr th {\n",
       "        vertical-align: top;\n",
       "    }\n",
       "\n",
       "    .dataframe thead th {\n",
       "        text-align: right;\n",
       "    }\n",
       "</style>\n",
       "<table border=\"1\" class=\"dataframe\">\n",
       "  <thead>\n",
       "    <tr style=\"text-align: right;\">\n",
       "      <th></th>\n",
       "      <th>actual</th>\n",
       "      <th>predicted</th>\n",
       "    </tr>\n",
       "  </thead>\n",
       "  <tbody>\n",
       "    <tr>\n",
       "      <th>0</th>\n",
       "      <td>1019</td>\n",
       "      <td>882.895752</td>\n",
       "    </tr>\n",
       "    <tr>\n",
       "      <th>1</th>\n",
       "      <td>979</td>\n",
       "      <td>836.875916</td>\n",
       "    </tr>\n",
       "    <tr>\n",
       "      <th>2</th>\n",
       "      <td>1629</td>\n",
       "      <td>1131.133179</td>\n",
       "    </tr>\n",
       "    <tr>\n",
       "      <th>3</th>\n",
       "      <td>1116</td>\n",
       "      <td>976.360901</td>\n",
       "    </tr>\n",
       "    <tr>\n",
       "      <th>4</th>\n",
       "      <td>1075</td>\n",
       "      <td>823.609863</td>\n",
       "    </tr>\n",
       "  </tbody>\n",
       "</table>\n",
       "</div>"
      ],
      "text/plain": [
       "   actual    predicted\n",
       "0    1019   882.895752\n",
       "1     979   836.875916\n",
       "2    1629  1131.133179\n",
       "3    1116   976.360901\n",
       "4    1075   823.609863"
      ]
     },
     "execution_count": 23,
     "metadata": {},
     "output_type": "execute_result"
    }
   ],
   "source": [
    "res_df.head()"
   ]
  },
  {
   "cell_type": "code",
   "execution_count": 24,
   "metadata": {},
   "outputs": [
    {
     "data": {
      "text/plain": [
       "339.5646065995873"
      ]
     },
     "execution_count": 24,
     "metadata": {},
     "output_type": "execute_result"
    }
   ],
   "source": [
    "((res_df.predicted - res_df.actual) ** 2).mean() ** .5"
   ]
  },
  {
   "cell_type": "code",
   "execution_count": 36,
   "metadata": {},
   "outputs": [
    {
     "data": {
      "text/plain": [
       "262.00812369196854"
      ]
     },
     "execution_count": 36,
     "metadata": {},
     "output_type": "execute_result"
    }
   ],
   "source": [
    "temp_df = res_df[res_df.actual < 2000]\n",
    "((temp_df.predicted - temp_df.actual) ** 2).mean() ** .5"
   ]
  },
  {
   "cell_type": "code",
   "execution_count": 37,
   "metadata": {},
   "outputs": [
    {
     "data": {
      "text/plain": [
       "<matplotlib.axes._subplots.AxesSubplot at 0x7fb0e46309d0>"
      ]
     },
     "execution_count": 37,
     "metadata": {},
     "output_type": "execute_result"
    },
    {
     "data": {
      "image/png": "[encoded data removed]",
      "text/plain": [
       "<Figure size 432x288 with 1 Axes>"
      ]
     },
     "metadata": {
      "needs_background": "light"
     },
     "output_type": "display_data"
    }
   ],
   "source": [
    "temp_df.plot.scatter(x='actual', y='predicted')"
   ]
  },
  {
   "cell_type": "code",
   "execution_count": 27,
   "metadata": {},
   "outputs": [
    {
     "data": {
      "text/plain": [
       "<matplotlib.axes._subplots.AxesSubplot at 0x7fb0e6e53810>"
      ]
     },
     "execution_count": 27,
     "metadata": {},
     "output_type": "execute_result"
    },
    {
     "data": {
      "image/png": "[encoded data removed]",
      "text/plain": [
       "<Figure size 432x288 with 1 Axes>"
      ]
     },
     "metadata": {
      "needs_background": "light"
     },
     "output_type": "display_data"
    }
   ],
   "source": [
    "res_df.plot.hist(bins=np.arange(600, 3000, 100))"
   ]
  },
  {
   "cell_type": "code",
   "execution_count": 28,
   "metadata": {},
   "outputs": [
    {
     "data": {
      "text/plain": [
       "<matplotlib.axes._subplots.AxesSubplot at 0x7fb0e9290790>"
      ]
     },
     "execution_count": 28,
     "metadata": {},
     "output_type": "execute_result"
    },
    {
     "data": {
      "image/png": "[encoded data removed]",
      "text/plain": [
       "<Figure size 432x288 with 1 Axes>"
      ]
     },
     "metadata": {
      "needs_background": "light"
     },
     "output_type": "display_data"
    }
   ],
   "source": [
    "res_df.actual.plot.hist(bins=np.arange(600, 3000, 100))"
   ]
  },
  {
   "cell_type": "code",
   "execution_count": 29,
   "metadata": {},
   "outputs": [
    {
     "data": {
      "text/plain": [
       "<matplotlib.axes._subplots.AxesSubplot at 0x7fb0e9196850>"
      ]
     },
     "execution_count": 29,
     "metadata": {},
     "output_type": "execute_result"
    },
    {
     "data": {
      "image/png": "[encoded data removed]",
      "text/plain": [
       "<Figure size 432x288 with 1 Axes>"
      ]
     },
     "metadata": {
      "needs_background": "light"
     },
     "output_type": "display_data"
    }
   ],
   "source": [
    "res_df.predicted.plot.hist(bins=np.arange(600, 3000, 100))"
   ]
  },
  {
   "cell_type": "code",
   "execution_count": null,
   "metadata": {},
   "outputs": [],
   "source": []
  }
 ],
 "metadata": {
  "kernelspec": {
   "display_name": "Python 3",
   "language": "python",
   "name": "python3"
  }
 },
 "nbformat": 4,
 "nbformat_minor": 4
}
