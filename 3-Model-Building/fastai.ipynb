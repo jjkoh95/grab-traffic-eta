{
 "cells": [
  {
   "cell_type": "code",
   "execution_count": 1,
   "metadata": {},
   "outputs": [],
   "source": [
    "from fastai.tabular import *\n",
    "\n",
    "import pandas as pd\n",
    "import numpy as np\n",
    "\n",
    "import glob"
   ]
  },
  {
   "cell_type": "code",
   "execution_count": null,
   "metadata": {},
   "outputs": [],
   "source": [
    "df = pd.concat([pd.read_csv(f, encoding='latin1') for f in glob.glob('../data/v3/*.csv')])"
   ]
  },
  {
   "cell_type": "code",
   "execution_count": 2,
   "metadata": {},
   "outputs": [
    {
     "ename": "NameError",
     "evalue": "name 'df' is not defined",
     "output_type": "error",
     "traceback": [
      "\u001b[0;31m---------------------------------------------------------------------------\u001b[0m",
      "\u001b[0;31mNameError\u001b[0m                                 Traceback (most recent call last)",
      "\u001b[0;32m<ipython-input-2-633337079cd0>\u001b[0m in \u001b[0;36m<module>\u001b[0;34m\u001b[0m\n\u001b[0;32m----> 1\u001b[0;31m \u001b[0mdf\u001b[0m\u001b[0;34m.\u001b[0m\u001b[0mshape\u001b[0m\u001b[0;34m\u001b[0m\u001b[0;34m\u001b[0m\u001b[0m\n\u001b[0m",
      "\u001b[0;31mNameError\u001b[0m: name 'df' is not defined"
     ]
    }
   ],
   "source": [
    "df.shape"
   ]
  },
  {
   "cell_type": "code",
   "execution_count": 4,
   "metadata": {},
   "outputs": [
    {
     "data": {
      "text/html": [
       "<div>\n",
       "<style scoped>\n",
       "    .dataframe tbody tr th:only-of-type {\n",
       "        vertical-align: middle;\n",
       "    }\n",
       "\n",
       "    .dataframe tbody tr th {\n",
       "        vertical-align: top;\n",
       "    }\n",
       "\n",
       "    .dataframe thead th {\n",
       "        text-align: right;\n",
       "    }\n",
       "</style>\n",
       "<table border=\"1\" class=\"dataframe\">\n",
       "  <thead>\n",
       "    <tr style=\"text-align: right;\">\n",
       "      <th></th>\n",
       "      <th>origin_day</th>\n",
       "      <th>origin_hour</th>\n",
       "      <th>origin_day_sin</th>\n",
       "      <th>origin_day_cos</th>\n",
       "      <th>origin_hour_sin</th>\n",
       "      <th>origin_hour_cos</th>\n",
       "      <th>origin_density_cluster</th>\n",
       "      <th>origin_speed_cluster</th>\n",
       "      <th>origin_distance_from_density_center</th>\n",
       "      <th>origin_bearing_from_density_center</th>\n",
       "      <th>...</th>\n",
       "      <th>origin_distance_from_speed_center_squared</th>\n",
       "      <th>dest_distance_from_density_center_squared</th>\n",
       "      <th>dest_distance_from_speed_center_squared</th>\n",
       "      <th>distance_origin_dest_squared</th>\n",
       "      <th>distance_origin_dest_density_cluster_squared</th>\n",
       "      <th>distance_origin_dest_speed_cluster_squared</th>\n",
       "      <th>day_hour_crossing</th>\n",
       "      <th>origin_dest_density_cluster_crossing</th>\n",
       "      <th>origin_dest_speed_cluster_crossing</th>\n",
       "      <th>duration</th>\n",
       "    </tr>\n",
       "  </thead>\n",
       "  <tbody>\n",
       "    <tr>\n",
       "      <th>0</th>\n",
       "      <td>1</td>\n",
       "      <td>3</td>\n",
       "      <td>0.4339</td>\n",
       "      <td>0.9010</td>\n",
       "      <td>0.3827</td>\n",
       "      <td>0.9239</td>\n",
       "      <td>7</td>\n",
       "      <td>4</td>\n",
       "      <td>1.4468</td>\n",
       "      <td>148.5357</td>\n",
       "      <td>...</td>\n",
       "      <td>0.8868</td>\n",
       "      <td>2.1252</td>\n",
       "      <td>0.2426</td>\n",
       "      <td>242.2319</td>\n",
       "      <td>173.7757</td>\n",
       "      <td>229.8559</td>\n",
       "      <td>27</td>\n",
       "      <td>148</td>\n",
       "      <td>88</td>\n",
       "      <td>780</td>\n",
       "    </tr>\n",
       "    <tr>\n",
       "      <th>1</th>\n",
       "      <td>4</td>\n",
       "      <td>1</td>\n",
       "      <td>0.9749</td>\n",
       "      <td>-0.2225</td>\n",
       "      <td>0.1305</td>\n",
       "      <td>0.9914</td>\n",
       "      <td>3</td>\n",
       "      <td>15</td>\n",
       "      <td>2.0544</td>\n",
       "      <td>110.3500</td>\n",
       "      <td>...</td>\n",
       "      <td>3.5521</td>\n",
       "      <td>1.0870</td>\n",
       "      <td>3.5521</td>\n",
       "      <td>208.4703</td>\n",
       "      <td>170.0207</td>\n",
       "      <td>215.9548</td>\n",
       "      <td>97</td>\n",
       "      <td>62</td>\n",
       "      <td>306</td>\n",
       "      <td>967</td>\n",
       "    </tr>\n",
       "    <tr>\n",
       "      <th>2</th>\n",
       "      <td>2</td>\n",
       "      <td>0</td>\n",
       "      <td>0.7818</td>\n",
       "      <td>0.6235</td>\n",
       "      <td>0.0000</td>\n",
       "      <td>1.0000</td>\n",
       "      <td>18</td>\n",
       "      <td>7</td>\n",
       "      <td>1.8751</td>\n",
       "      <td>-98.2730</td>\n",
       "      <td>...</td>\n",
       "      <td>5.3084</td>\n",
       "      <td>5.1456</td>\n",
       "      <td>1.6656</td>\n",
       "      <td>61.6995</td>\n",
       "      <td>82.8901</td>\n",
       "      <td>28.1536</td>\n",
       "      <td>48</td>\n",
       "      <td>360</td>\n",
       "      <td>145</td>\n",
       "      <td>360</td>\n",
       "    </tr>\n",
       "    <tr>\n",
       "      <th>3</th>\n",
       "      <td>6</td>\n",
       "      <td>6</td>\n",
       "      <td>0.4339</td>\n",
       "      <td>-0.9010</td>\n",
       "      <td>0.7071</td>\n",
       "      <td>0.7071</td>\n",
       "      <td>3</td>\n",
       "      <td>19</td>\n",
       "      <td>1.0985</td>\n",
       "      <td>-86.8403</td>\n",
       "      <td>...</td>\n",
       "      <td>3.7473</td>\n",
       "      <td>2.6791</td>\n",
       "      <td>5.1611</td>\n",
       "      <td>27.4586</td>\n",
       "      <td>23.1217</td>\n",
       "      <td>25.9631</td>\n",
       "      <td>150</td>\n",
       "      <td>77</td>\n",
       "      <td>392</td>\n",
       "      <td>300</td>\n",
       "    </tr>\n",
       "    <tr>\n",
       "      <th>4</th>\n",
       "      <td>5</td>\n",
       "      <td>4</td>\n",
       "      <td>0.7818</td>\n",
       "      <td>-0.6235</td>\n",
       "      <td>0.5000</td>\n",
       "      <td>0.8660</td>\n",
       "      <td>15</td>\n",
       "      <td>2</td>\n",
       "      <td>2.5745</td>\n",
       "      <td>115.7678</td>\n",
       "      <td>...</td>\n",
       "      <td>7.4049</td>\n",
       "      <td>4.6955</td>\n",
       "      <td>9.8552</td>\n",
       "      <td>139.8543</td>\n",
       "      <td>54.3788</td>\n",
       "      <td>36.9093</td>\n",
       "      <td>124</td>\n",
       "      <td>311</td>\n",
       "      <td>46</td>\n",
       "      <td>1017</td>\n",
       "    </tr>\n",
       "  </tbody>\n",
       "</table>\n",
       "<p>5 rows × 33 columns</p>\n",
       "</div>"
      ],
      "text/plain": [
       "   origin_day  origin_hour  origin_day_sin  origin_day_cos  origin_hour_sin  \\\n",
       "0           1            3          0.4339          0.9010           0.3827   \n",
       "1           4            1          0.9749         -0.2225           0.1305   \n",
       "2           2            0          0.7818          0.6235           0.0000   \n",
       "3           6            6          0.4339         -0.9010           0.7071   \n",
       "4           5            4          0.7818         -0.6235           0.5000   \n",
       "\n",
       "   origin_hour_cos  origin_density_cluster  origin_speed_cluster  \\\n",
       "0           0.9239                       7                     4   \n",
       "1           0.9914                       3                    15   \n",
       "2           1.0000                      18                     7   \n",
       "3           0.7071                       3                    19   \n",
       "4           0.8660                      15                     2   \n",
       "\n",
       "   origin_distance_from_density_center  origin_bearing_from_density_center  \\\n",
       "0                               1.4468                            148.5357   \n",
       "1                               2.0544                            110.3500   \n",
       "2                               1.8751                            -98.2730   \n",
       "3                               1.0985                            -86.8403   \n",
       "4                               2.5745                            115.7678   \n",
       "\n",
       "   ...  origin_distance_from_speed_center_squared  \\\n",
       "0  ...                                     0.8868   \n",
       "1  ...                                     3.5521   \n",
       "2  ...                                     5.3084   \n",
       "3  ...                                     3.7473   \n",
       "4  ...                                     7.4049   \n",
       "\n",
       "   dest_distance_from_density_center_squared  \\\n",
       "0                                     2.1252   \n",
       "1                                     1.0870   \n",
       "2                                     5.1456   \n",
       "3                                     2.6791   \n",
       "4                                     4.6955   \n",
       "\n",
       "   dest_distance_from_speed_center_squared  distance_origin_dest_squared  \\\n",
       "0                                   0.2426                      242.2319   \n",
       "1                                   3.5521                      208.4703   \n",
       "2                                   1.6656                       61.6995   \n",
       "3                                   5.1611                       27.4586   \n",
       "4                                   9.8552                      139.8543   \n",
       "\n",
       "   distance_origin_dest_density_cluster_squared  \\\n",
       "0                                      173.7757   \n",
       "1                                      170.0207   \n",
       "2                                       82.8901   \n",
       "3                                       23.1217   \n",
       "4                                       54.3788   \n",
       "\n",
       "   distance_origin_dest_speed_cluster_squared  day_hour_crossing  \\\n",
       "0                                    229.8559                 27   \n",
       "1                                    215.9548                 97   \n",
       "2                                     28.1536                 48   \n",
       "3                                     25.9631                150   \n",
       "4                                     36.9093                124   \n",
       "\n",
       "   origin_dest_density_cluster_crossing  origin_dest_speed_cluster_crossing  \\\n",
       "0                                   148                                  88   \n",
       "1                                    62                                 306   \n",
       "2                                   360                                 145   \n",
       "3                                    77                                 392   \n",
       "4                                   311                                  46   \n",
       "\n",
       "   duration  \n",
       "0       780  \n",
       "1       967  \n",
       "2       360  \n",
       "3       300  \n",
       "4      1017  \n",
       "\n",
       "[5 rows x 33 columns]"
      ]
     },
     "execution_count": 4,
     "metadata": {},
     "output_type": "execute_result"
    }
   ],
   "source": [
    "df.head()"
   ]
  },
  {
   "cell_type": "code",
   "execution_count": 5,
   "metadata": {},
   "outputs": [],
   "source": [
    "df.duration = df.duration.astype('float32')"
   ]
  },
  {
   "cell_type": "code",
   "execution_count": 6,
   "metadata": {},
   "outputs": [],
   "source": [
    "cont_names = [\n",
    "    'origin_day_sin', 'origin_day_cos', 'origin_hour_sin', 'origin_hour_cos',\n",
    "    'origin_distance_from_density_center', 'origin_bearing_from_density_center',\n",
    "    'origin_distance_from_speed_center', 'origin_bearing_from_speed_center',\n",
    "    'dest_distance_from_density_center', 'dest_bearing_from_density_center',\n",
    "    'dest_distance_from_speed_center', 'dest_bearing_from_speed_center',\n",
    "    'distance_origin_dest', 'bearing_origin_dest',\n",
    "    'distance_origin_dest_density_cluster', 'distance_origin_dest_speed_cluster',\n",
    "    'origin_distance_from_density_center_squared', 'origin_distance_from_speed_center_squared',\n",
    "    'dest_distance_from_density_center_squared', 'dest_distance_from_speed_center_squared',\n",
    "    'distance_origin_dest_squared', \n",
    "    'distance_origin_dest_density_cluster_squared', 'distance_origin_dest_speed_cluster_squared',\n",
    "]\n",
    "cat_names = [\n",
    "    \"origin_day\", \"origin_hour\",\n",
    "    \"origin_density_cluster\", \"origin_speed_cluster\",\n",
    "    \"dest_density_cluster\", \"dest_speed_cluster\",\n",
    "    \"day_hour_crossing\", \"origin_dest_density_cluster_crossing\", \"origin_dest_speed_cluster_crossing\"\n",
    "]\n",
    "dep_var = 'duration'"
   ]
  },
  {
   "cell_type": "code",
   "execution_count": 7,
   "metadata": {},
   "outputs": [],
   "source": [
    "procs = [Categorify, Normalize]"
   ]
  },
  {
   "cell_type": "code",
   "execution_count": 8,
   "metadata": {},
   "outputs": [],
   "source": [
    "np.random.seed(2020)\n",
    "valids = np.random.random(4030555)"
   ]
  },
  {
   "cell_type": "code",
   "execution_count": 9,
   "metadata": {},
   "outputs": [],
   "source": [
    "valid_idx = df[valids > 0.9999].index"
   ]
  },
  {
   "cell_type": "code",
   "execution_count": 10,
   "metadata": {},
   "outputs": [],
   "source": [
    "data = TabularDataBunch.from_df(\n",
    "    '../models', df, dep_var, valid_idx=valid_idx, procs=procs, \n",
    "    cat_names=cat_names, cont_names=cont_names\n",
    ")"
   ]
  },
  {
   "cell_type": "code",
   "execution_count": 11,
   "metadata": {},
   "outputs": [],
   "source": [
    "learn = tabular_learner(\n",
    "    data, layers=[128, 32], metrics=root_mean_squared_error\n",
    ")"
   ]
  },
  {
   "cell_type": "code",
   "execution_count": 12,
   "metadata": {},
   "outputs": [
    {
     "data": {
      "text/html": [
       "\n",
       "    <div>\n",
       "        <style>\n",
       "            /* Turns off some styling */\n",
       "            progress {\n",
       "                /* gets rid of default border in Firefox and Opera. */\n",
       "                border: none;\n",
       "                /* Needs to be in here for Safari polyfill so background images work as expected. */\n",
       "                background-size: auto;\n",
       "            }\n",
       "            .progress-bar-interrupted, .progress-bar-interrupted::-webkit-progress-bar {\n",
       "                background: #F44336;\n",
       "            }\n",
       "        </style>\n",
       "      <progress value='0' class='' max='1', style='width:300px; height:20px; vertical-align: middle;'></progress>\n",
       "      0.00% [0/1 00:00<00:00]\n",
       "    </div>\n",
       "    \n",
       "<table border=\"1\" class=\"dataframe\">\n",
       "  <thead>\n",
       "    <tr style=\"text-align: left;\">\n",
       "      <th>epoch</th>\n",
       "      <th>train_loss</th>\n",
       "      <th>valid_loss</th>\n",
       "      <th>root_mean_squared_error</th>\n",
       "      <th>time</th>\n",
       "    </tr>\n",
       "  </thead>\n",
       "  <tbody>\n",
       "  </tbody>\n",
       "</table><p>\n",
       "\n",
       "    <div>\n",
       "        <style>\n",
       "            /* Turns off some styling */\n",
       "            progress {\n",
       "                /* gets rid of default border in Firefox and Opera. */\n",
       "                border: none;\n",
       "                /* Needs to be in here for Safari polyfill so background images work as expected. */\n",
       "                background-size: auto;\n",
       "            }\n",
       "            .progress-bar-interrupted, .progress-bar-interrupted::-webkit-progress-bar {\n",
       "                background: #F44336;\n",
       "            }\n",
       "        </style>\n",
       "      <progress value='96' class='' max='62971', style='width:300px; height:20px; vertical-align: middle;'></progress>\n",
       "      0.15% [96/62971 00:02<22:40 289667.4375]\n",
       "    </div>\n",
       "    "
      ],
      "text/plain": [
       "<IPython.core.display.HTML object>"
      ]
     },
     "metadata": {},
     "output_type": "display_data"
    },
    {
     "name": "stdout",
     "output_type": "stream",
     "text": [
      "LR Finder is complete, type {learner_name}.recorder.plot() to see the graph.\n"
     ]
    }
   ],
   "source": [
    "learn.lr_find()"
   ]
  },
  {
   "cell_type": "code",
   "execution_count": 13,
   "metadata": {},
   "outputs": [
    {
     "data": {
      "image/png": "[encoded data removed]",
      "text/plain": [
       "<Figure size 432x288 with 1 Axes>"
      ]
     },
     "metadata": {
      "needs_background": "light"
     },
     "output_type": "display_data"
    }
   ],
   "source": [
    "learn.recorder.plot()"
   ]
  },
  {
   "cell_type": "code",
   "execution_count": 14,
   "metadata": {},
   "outputs": [
    {
     "data": {
      "text/plain": [
       "TabularModel(\n",
       "  (embeds): ModuleList(\n",
       "    (0): Embedding(8, 5)\n",
       "    (1): Embedding(25, 10)\n",
       "    (2): Embedding(21, 9)\n",
       "    (3): Embedding(21, 9)\n",
       "    (4): Embedding(21, 9)\n",
       "    (5): Embedding(21, 9)\n",
       "    (6): Embedding(169, 28)\n",
       "    (7): Embedding(401, 46)\n",
       "    (8): Embedding(397, 46)\n",
       "  )\n",
       "  (emb_drop): Dropout(p=0.0, inplace=False)\n",
       "  (bn_cont): BatchNorm1d(23, eps=1e-05, momentum=0.1, affine=True, track_running_stats=True)\n",
       "  (layers): Sequential(\n",
       "    (0): Linear(in_features=194, out_features=128, bias=True)\n",
       "    (1): ReLU(inplace=True)\n",
       "    (2): BatchNorm1d(128, eps=1e-05, momentum=0.1, affine=True, track_running_stats=True)\n",
       "    (3): Linear(in_features=128, out_features=32, bias=True)\n",
       "    (4): ReLU(inplace=True)\n",
       "    (5): BatchNorm1d(32, eps=1e-05, momentum=0.1, affine=True, track_running_stats=True)\n",
       "    (6): Linear(in_features=32, out_features=1, bias=True)\n",
       "  )\n",
       ")"
      ]
     },
     "execution_count": 14,
     "metadata": {},
     "output_type": "execute_result"
    }
   ],
   "source": [
    "learn.model"
   ]
  },
  {
   "cell_type": "code",
   "execution_count": 15,
   "metadata": {},
   "outputs": [
    {
     "data": {
      "text/html": [
       "\n",
       "    <div>\n",
       "        <style>\n",
       "            /* Turns off some styling */\n",
       "            progress {\n",
       "                /* gets rid of default border in Firefox and Opera. */\n",
       "                border: none;\n",
       "                /* Needs to be in here for Safari polyfill so background images work as expected. */\n",
       "                background-size: auto;\n",
       "            }\n",
       "            .progress-bar-interrupted, .progress-bar-interrupted::-webkit-progress-bar {\n",
       "                background: #F44336;\n",
       "            }\n",
       "        </style>\n",
       "      <progress value='0' class='' max='1', style='width:300px; height:20px; vertical-align: middle;'></progress>\n",
       "      0.00% [0/1 00:00<00:00]\n",
       "    </div>\n",
       "    \n",
       "<table border=\"1\" class=\"dataframe\">\n",
       "  <thead>\n",
       "    <tr style=\"text-align: left;\">\n",
       "      <th>epoch</th>\n",
       "      <th>train_loss</th>\n",
       "      <th>valid_loss</th>\n",
       "      <th>root_mean_squared_error</th>\n",
       "      <th>time</th>\n",
       "    </tr>\n",
       "  </thead>\n",
       "  <tbody>\n",
       "  </tbody>\n",
       "</table><p>\n",
       "\n",
       "    <div>\n",
       "        <style>\n",
       "            /* Turns off some styling */\n",
       "            progress {\n",
       "                /* gets rid of default border in Firefox and Opera. */\n",
       "                border: none;\n",
       "                /* Needs to be in here for Safari polyfill so background images work as expected. */\n",
       "                background-size: auto;\n",
       "            }\n",
       "            .progress-bar-interrupted, .progress-bar-interrupted::-webkit-progress-bar {\n",
       "                background: #F44336;\n",
       "            }\n",
       "        </style>\n",
       "      <progress value='973' class='' max='62971', style='width:300px; height:20px; vertical-align: middle;'></progress>\n",
       "      1.55% [973/62971 00:28<30:46 41937.6328]\n",
       "    </div>\n",
       "    "
      ],
      "text/plain": [
       "<IPython.core.display.HTML object>"
      ]
     },
     "metadata": {},
     "output_type": "display_data"
    },
    {
     "name": "stderr",
     "output_type": "stream",
     "text": [
      "ERROR:root:Internal Python error in the inspect module.\n",
      "Below is the traceback from this internal error.\n",
      "\n"
     ]
    },
    {
     "name": "stdout",
     "output_type": "stream",
     "text": [
      "Traceback (most recent call last):\n",
      "  File \"/home/jjkoh/anaconda3/envs/ml-3.7/lib/python3.7/site-packages/IPython/core/interactiveshell.py\", line 3331, in run_code\n",
      "    exec(code_obj, self.user_global_ns, self.user_ns)\n",
      "  File \"<ipython-input-15-41a010479f3a>\", line 1, in <module>\n",
      "    learn.fit_one_cycle(1, 0.2)\n",
      "  File \"/home/jjkoh/anaconda3/envs/ml-3.7/lib/python3.7/site-packages/fastai/train.py\", line 23, in fit_one_cycle\n",
      "    learn.fit(cyc_len, max_lr, wd=wd, callbacks=callbacks)\n",
      "  File \"/home/jjkoh/anaconda3/envs/ml-3.7/lib/python3.7/site-packages/fastai/basic_train.py\", line 200, in fit\n",
      "    fit(epochs, self, metrics=self.metrics, callbacks=self.callbacks+callbacks)\n",
      "  File \"/home/jjkoh/anaconda3/envs/ml-3.7/lib/python3.7/site-packages/fastai/basic_train.py\", line 101, in fit\n",
      "    loss = loss_batch(learn.model, xb, yb, learn.loss_func, learn.opt, cb_handler)\n",
      "  File \"/home/jjkoh/anaconda3/envs/ml-3.7/lib/python3.7/site-packages/fastai/basic_train.py\", line 26, in loss_batch\n",
      "    out = model(*xb)\n",
      "  File \"/home/jjkoh/anaconda3/envs/ml-3.7/lib/python3.7/site-packages/torch/nn/modules/module.py\", line 550, in __call__\n",
      "    result = self.forward(*input, **kwargs)\n",
      "  File \"/home/jjkoh/anaconda3/envs/ml-3.7/lib/python3.7/site-packages/fastai/tabular/models.py\", line 35, in forward\n",
      "    x_cont = self.bn_cont(x_cont)\n",
      "  File \"/home/jjkoh/anaconda3/envs/ml-3.7/lib/python3.7/site-packages/torch/nn/modules/module.py\", line 550, in __call__\n",
      "    result = self.forward(*input, **kwargs)\n",
      "  File \"/home/jjkoh/anaconda3/envs/ml-3.7/lib/python3.7/site-packages/torch/nn/modules/batchnorm.py\", line 106, in forward\n",
      "    exponential_average_factor, self.eps)\n",
      "  File \"/home/jjkoh/anaconda3/envs/ml-3.7/lib/python3.7/site-packages/torch/nn/functional.py\", line 1923, in batch_norm\n",
      "    training, momentum, eps, torch.backends.cudnn.enabled\n",
      "KeyboardInterrupt\n",
      "\n",
      "During handling of the above exception, another exception occurred:\n",
      "\n",
      "Traceback (most recent call last):\n",
      "  File \"/home/jjkoh/anaconda3/envs/ml-3.7/lib/python3.7/site-packages/IPython/core/interactiveshell.py\", line 2044, in showtraceback\n",
      "    stb = value._render_traceback_()\n",
      "AttributeError: 'KeyboardInterrupt' object has no attribute '_render_traceback_'\n",
      "\n",
      "During handling of the above exception, another exception occurred:\n",
      "\n",
      "Traceback (most recent call last):\n",
      "  File \"/home/jjkoh/anaconda3/envs/ml-3.7/lib/python3.7/site-packages/IPython/core/ultratb.py\", line 1151, in get_records\n",
      "    return _fixed_getinnerframes(etb, number_of_lines_of_context, tb_offset)\n",
      "  File \"/home/jjkoh/anaconda3/envs/ml-3.7/lib/python3.7/site-packages/IPython/core/ultratb.py\", line 319, in wrapped\n",
      "    return f(*args, **kwargs)\n",
      "  File \"/home/jjkoh/anaconda3/envs/ml-3.7/lib/python3.7/site-packages/IPython/core/ultratb.py\", line 353, in _fixed_getinnerframes\n",
      "    records = fix_frame_records_filenames(inspect.getinnerframes(etb, context))\n",
      "  File \"/home/jjkoh/anaconda3/envs/ml-3.7/lib/python3.7/inspect.py\", line 1502, in getinnerframes\n",
      "    frameinfo = (tb.tb_frame,) + getframeinfo(tb, context)\n",
      "  File \"/home/jjkoh/anaconda3/envs/ml-3.7/lib/python3.7/inspect.py\", line 1460, in getframeinfo\n",
      "    filename = getsourcefile(frame) or getfile(frame)\n",
      "  File \"/home/jjkoh/anaconda3/envs/ml-3.7/lib/python3.7/inspect.py\", line 696, in getsourcefile\n",
      "    if getattr(getmodule(object, filename), '__loader__', None) is not None:\n",
      "  File \"/home/jjkoh/anaconda3/envs/ml-3.7/lib/python3.7/inspect.py\", line 742, in getmodule\n",
      "    os.path.realpath(f)] = module.__name__\n",
      "  File \"/home/jjkoh/anaconda3/envs/ml-3.7/lib/python3.7/posixpath.py\", line 396, in realpath\n",
      "    return abspath(path)\n",
      "  File \"/home/jjkoh/anaconda3/envs/ml-3.7/lib/python3.7/posixpath.py\", line 385, in abspath\n",
      "    return normpath(path)\n",
      "  File \"/home/jjkoh/anaconda3/envs/ml-3.7/lib/python3.7/posixpath.py\", line 340, in normpath\n",
      "    path = os.fspath(path)\n",
      "KeyboardInterrupt\n"
     ]
    },
    {
     "ename": "KeyboardInterrupt",
     "evalue": "",
     "output_type": "error",
     "traceback": [
      "\u001b[0;31m---------------------------------------------------------------------------\u001b[0m"
     ]
    }
   ],
   "source": [
    "learn.fit_one_cycle(1, 0.2)"
   ]
  },
  {
   "cell_type": "code",
   "execution_count": null,
   "metadata": {},
   "outputs": [],
   "source": [
    "learn.fit_one_cycle(1, 0.5)"
   ]
  },
  {
   "cell_type": "code",
   "execution_count": null,
   "metadata": {},
   "outputs": [],
   "source": [
    "learn.fit_one_cycle(2, 0.1)"
   ]
  },
  {
   "cell_type": "code",
   "execution_count": null,
   "metadata": {},
   "outputs": [],
   "source": [
    "learn.recorder.plot_losses()"
   ]
  },
  {
   "cell_type": "code",
   "execution_count": null,
   "metadata": {},
   "outputs": [],
   "source": [
    "learn.export('fastai-999.pkl')"
   ]
  },
  {
   "cell_type": "code",
   "execution_count": null,
   "metadata": {},
   "outputs": [],
   "source": [
    "learn = load_learner('../models/', 'fastai-999.pkl')"
   ]
  },
  {
   "cell_type": "code",
   "execution_count": null,
   "metadata": {},
   "outputs": [],
   "source": []
  },
  {
   "cell_type": "code",
   "execution_count": null,
   "metadata": {},
   "outputs": [],
   "source": []
  }
 ],
 "metadata": {
  "kernelspec": {
   "display_name": "Python 3",
   "language": "python",
   "name": "python3"
  },
  "language_info": {
   "codemirror_mode": {
    "name": "ipython",
    "version": 3
   },
   "file_extension": ".py",
   "mimetype": "text/x-python",
   "name": "python",
   "nbconvert_exporter": "python",
   "pygments_lexer": "ipython3",
   "version": "3.7.6"
  }
 },
 "nbformat": 4,
 "nbformat_minor": 4
}
