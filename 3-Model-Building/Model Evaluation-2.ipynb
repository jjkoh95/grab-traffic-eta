{
 "cells": [
  {
   "cell_type": "code",
   "execution_count": 1,
   "metadata": {},
   "outputs": [],
   "source": [
    "import pandas as pd\n",
    "import numpy as np\n",
    "\n",
    "import glob\n",
    "\n",
    "from sklearn.cluster import KMeans\n",
    "\n",
    "from fastai.tabular import *\n",
    "\n",
    "import datetime\n",
    "\n",
    "from math import radians, cos, sin, asin, sqrt, pi\n",
    "\n",
    "from geographiclib.geodesic import Geodesic\n",
    "\n",
    "import matplotlib.pyplot as plt \n",
    "\n",
    "from IPython.display import clear_output"
   ]
  },
  {
   "cell_type": "code",
   "execution_count": 2,
   "metadata": {},
   "outputs": [
    {
     "name": "stdout",
     "output_type": "stream",
     "text": [
      "dev-fastai-999-balance.pkl  models\r\n",
      "fastai-999\t\t    traffic-cluster-density-20-kmeans.pkl\r\n",
      "fastai-999.pkl\t\t    traffic-cluster-speed-20-kmeans.pkl\r\n"
     ]
    }
   ],
   "source": [
    "!ls ../models"
   ]
  },
  {
   "cell_type": "code",
   "execution_count": 3,
   "metadata": {},
   "outputs": [],
   "source": [
    "density_kmeans = None\n",
    "speed_kmeans = None"
   ]
  },
  {
   "cell_type": "code",
   "execution_count": 4,
   "metadata": {},
   "outputs": [],
   "source": [
    "output_cols = [\n",
    "    'origin_day', 'origin_hour', 'origin_day_sin', 'origin_day_cos', 'origin_hour_sin', 'origin_hour_cos',\n",
    "    'origin_density_cluster', 'origin_speed_cluster',\n",
    "    'origin_distance_from_density_center', 'origin_bearing_from_density_center',\n",
    "    'origin_distance_from_speed_center', 'origin_bearing_from_speed_center',\n",
    "    'dest_density_cluster', 'dest_speed_cluster',\n",
    "    'dest_distance_from_density_center', 'dest_bearing_from_density_center',\n",
    "    'dest_distance_from_speed_center', 'dest_bearing_from_speed_center',\n",
    "    'distance_origin_dest', 'bearing_origin_dest',\n",
    "    'distance_origin_dest_density_cluster', 'distance_origin_dest_speed_cluster',\n",
    "    'origin_distance_from_density_center_squared', 'origin_distance_from_speed_center_squared',\n",
    "    'dest_distance_from_density_center_squared', 'dest_distance_from_speed_center_squared',\n",
    "    'distance_origin_dest_squared', \n",
    "    'distance_origin_dest_density_cluster_squared', 'distance_origin_dest_speed_cluster_squared',\n",
    "    'day_hour_crossing', \n",
    "    'origin_dest_density_cluster_crossing', 'origin_dest_speed_cluster_crossing',\n",
    "]\n",
    "\n",
    "def load_kmeans():\n",
    "    with open('../models/traffic-cluster-density-20-kmeans.pkl', 'rb') as pkl:\n",
    "        global density_kmeans\n",
    "        density_kmeans = pickle.load(pkl)\n",
    "    with open('../models/traffic-cluster-speed-20-kmeans.pkl', 'rb') as pkl:\n",
    "        global speed_kmeans\n",
    "        speed_kmeans = pickle.load(pkl)\n",
    "\n",
    "def haversine(lat1, lon1, lat2, lon2):\n",
    "    \"\"\"\n",
    "    Calculate the great circle distance between two points\n",
    "    on the earth (specified in decimal degrees)\n",
    "    \"\"\"\n",
    "    # convert decimal degrees to radians\n",
    "    lon1, lat1, lon2, lat2 = map(radians, [lon1, lat1, lon2, lat2])\n",
    "\n",
    "    # haversine formula\n",
    "    dlon = lon2 - lon1\n",
    "    dlat = lat2 - lat1\n",
    "    a = sin(dlat/2)**2 + cos(lat1) * cos(lat2) * sin(dlon/2)**2\n",
    "    c = 2 * asin(sqrt(a))\n",
    "    r = 6371  # Radius of earth in kilometers. Use 3956 for miles\n",
    "    return c * r\n",
    "\n",
    "def get_bearing(lat1, long1, lat2, long2):\n",
    "    brng = Geodesic.WGS84.Inverse(lat1, long1, lat2, long2)['azi1']\n",
    "    return brng\n",
    "\n",
    "def preproc(row, c):\n",
    "    dt = datetime.datetime.fromtimestamp(row['origin_timestamp'])\n",
    "    row['origin_day'] = int(dt.weekday())\n",
    "    row['origin_hour'] = int(dt.hour)\n",
    "    row['origin_day_sin'] = round(sin(row['origin_day']*(pi/7)), 4)\n",
    "    row['origin_day_cos'] = round(cos(row['origin_day']*(pi/7)), 4)\n",
    "    row['origin_hour_sin'] = round(sin(row['origin_hour']*(pi/24)), 4)\n",
    "    row['origin_hour_cos'] = round(cos(row['origin_hour']*(pi/24)), 4)\n",
    "    \n",
    "    row['origin_density_cluster'] = int(c['density'].predict([[row['origin_lat'], row['origin_lng']]])[0])\n",
    "    row['origin_speed_cluster'] = int(c['speed'].predict([[row['origin_lat'], row['origin_lng']]])[0])\n",
    "    origin_density_center = c['density'].cluster_centers_[int(row['origin_density_cluster'])]\n",
    "    origin_speed_center = c['speed'].cluster_centers_[int(row['origin_speed_cluster'])]\n",
    "    \n",
    "    row['origin_distance_from_density_center'] = haversine(row['origin_lat'], row['origin_lng'], origin_density_center[0], origin_density_center[1])\n",
    "    row['origin_bearing_from_density_center'] = get_bearing(row['origin_lat'], row['origin_lng'], origin_density_center[0], origin_density_center[1])\n",
    "    row['origin_distance_from_speed_center'] = haversine(row['origin_lat'], row['origin_lng'], origin_speed_center[0], origin_speed_center[1])\n",
    "    row['origin_bearing_from_speed_center'] = get_bearing(row['origin_lat'], row['origin_lng'], origin_speed_center[0], origin_speed_center[1])\n",
    "    \n",
    "    # dest data stuffs\n",
    "    row['dest_density_cluster'] = int(c['density'].predict([[row['dest_lat'], row['dest_lng']]])[0])\n",
    "    row['dest_speed_cluster'] = int(c['speed'].predict([[row['dest_lat'], row['dest_lng']]])[0])\n",
    "    dest_density_center = c['density'].cluster_centers_[int(row['dest_density_cluster'])]\n",
    "    dest_speed_center = c['speed'].cluster_centers_[int(row['dest_speed_cluster'])]\n",
    "    \n",
    "    row['dest_distance_from_density_center'] = haversine(row['dest_lat'], row['dest_lng'], dest_density_center[0], dest_density_center[1])\n",
    "    row['dest_bearing_from_density_center'] = get_bearing(row['dest_lat'], row['dest_lng'], dest_density_center[0], dest_density_center[1])\n",
    "    row['dest_distance_from_speed_center'] = haversine(row['dest_lat'], row['dest_lng'], dest_speed_center[0], dest_speed_center[1])\n",
    "    row['dest_bearing_from_speed_center'] = get_bearing(row['dest_lat'], row['dest_lng'], dest_speed_center[0], dest_speed_center[1])\n",
    "    \n",
    "    # origin-destination stuffs\n",
    "    row['distance_origin_dest'] = haversine(row['origin_lat'], row['origin_lng'], row['dest_lat'], row['dest_lng'])\n",
    "    row['bearing_origin_dest'] = get_bearing(row['origin_lat'], row['origin_lng'], row['dest_lat'], row['dest_lng'])\n",
    "    \n",
    "    row['distance_origin_dest_density_cluster'] = haversine(origin_density_center[0], origin_density_center[1], dest_density_center[0], dest_density_center[1])\n",
    "    row['distance_origin_dest_speed_cluster'] = haversine(origin_speed_center[0], origin_speed_center[1], dest_speed_center[0], dest_speed_center[1])\n",
    "    \n",
    "    row['origin_distance_from_density_center_squared'] = round(row['origin_distance_from_density_center'] ** 2, 4)\n",
    "    row['origin_distance_from_speed_center_squared'] = round(row['origin_distance_from_speed_center'] ** 2, 4)\n",
    "    row['dest_distance_from_density_center_squared'] = round(row['dest_distance_from_density_center'] ** 2, 4)\n",
    "    row['dest_distance_from_speed_center_squared'] = round(row['dest_distance_from_speed_center'] ** 2, 4)\n",
    "    row['distance_origin_dest_squared'] = round(row['distance_origin_dest'] ** 2, 4)\n",
    "    row['distance_origin_dest_density_cluster_squared'] = round(row['distance_origin_dest_density_cluster'] ** 2, 4)\n",
    "    row['distance_origin_dest_speed_cluster_squared'] = round(row['distance_origin_dest_speed_cluster'] ** 2, 4)\n",
    "    \n",
    "    row['day_hour_crossing'] = int(row['origin_day']*24 + row['origin_hour'])\n",
    "    row['origin_dest_density_cluster_crossing'] = int(row['origin_density_cluster']*20 + row['dest_density_cluster'])\n",
    "    row['origin_dest_speed_cluster_crossing'] = int(row['origin_speed_cluster']*20 + row['dest_speed_cluster'])\n",
    "    \n",
    "    return row"
   ]
  },
  {
   "cell_type": "code",
   "execution_count": 5,
   "metadata": {},
   "outputs": [],
   "source": [
    "valid_df = pd.concat([pd.read_csv(f, encoding='latin1') for f in glob.glob('../data/validation/*.csv')])"
   ]
  },
  {
   "cell_type": "code",
   "execution_count": 6,
   "metadata": {},
   "outputs": [],
   "source": [
    "valid_df = valid_df.rename(columns={ \n",
    "    'rawlat': 'origin_lat', 'rawlng': 'origin_lng', 'pingtimestamp': 'origin_timestamp',\n",
    "    'rawlat2': 'dest_lat', 'rawlng2': 'dest_lng', 'pingtimestamp2': 'dest_timestamp',\n",
    "})"
   ]
  },
  {
   "cell_type": "code",
   "execution_count": 7,
   "metadata": {},
   "outputs": [],
   "source": [
    "valid_df_duration = valid_df.dest_timestamp - valid_df.origin_timestamp"
   ]
  },
  {
   "cell_type": "code",
   "execution_count": 8,
   "metadata": {},
   "outputs": [
    {
     "name": "stderr",
     "output_type": "stream",
     "text": [
      "/home/jjkoh/anaconda3/envs/ml-3.7/lib/python3.7/site-packages/sklearn/base.py:318: UserWarning: Trying to unpickle estimator KMeans from version 0.22.2.post1 when using version 0.22.1. This might lead to breaking code or invalid results. Use at your own risk.\n",
      "  UserWarning)\n"
     ]
    }
   ],
   "source": [
    "load_kmeans()"
   ]
  },
  {
   "cell_type": "code",
   "execution_count": 9,
   "metadata": {},
   "outputs": [],
   "source": [
    "for v in set(output_cols) - set(valid_df.columns):\n",
    "    valid_df[v] = 0\n",
    "    \n",
    "cat_names = [\n",
    "    \"origin_day\", \"origin_hour\",\n",
    "    \"origin_density_cluster\", \"origin_speed_cluster\",\n",
    "    \"dest_density_cluster\", \"dest_speed_cluster\",\n",
    "    \"day_hour_crossing\", \"origin_dest_density_cluster_crossing\", \"origin_dest_speed_cluster_crossing\"\n",
    "]\n",
    "\n",
    "for v in cat_names:\n",
    "    valid_df[v] = valid_df[v].astype('uint32')"
   ]
  },
  {
   "cell_type": "code",
   "execution_count": 10,
   "metadata": {},
   "outputs": [],
   "source": [
    "valid_df = valid_df.apply(lambda row: preproc(row, {'density': density_kmeans, 'speed': speed_kmeans}), axis=1)"
   ]
  },
  {
   "cell_type": "code",
   "execution_count": 11,
   "metadata": {},
   "outputs": [
    {
     "data": {
      "text/html": [
       "<div>\n",
       "<style scoped>\n",
       "    .dataframe tbody tr th:only-of-type {\n",
       "        vertical-align: middle;\n",
       "    }\n",
       "\n",
       "    .dataframe tbody tr th {\n",
       "        vertical-align: top;\n",
       "    }\n",
       "\n",
       "    .dataframe thead th {\n",
       "        text-align: right;\n",
       "    }\n",
       "</style>\n",
       "<table border=\"1\" class=\"dataframe\">\n",
       "  <thead>\n",
       "    <tr style=\"text-align: right;\">\n",
       "      <th></th>\n",
       "      <th>origin_lat</th>\n",
       "      <th>origin_lng</th>\n",
       "      <th>origin_timestamp</th>\n",
       "      <th>dest_lat</th>\n",
       "      <th>dest_lng</th>\n",
       "      <th>dest_timestamp</th>\n",
       "      <th>origin_hour</th>\n",
       "      <th>dest_bearing_from_density_center</th>\n",
       "      <th>origin_dest_density_cluster_crossing</th>\n",
       "      <th>origin_distance_from_speed_center_squared</th>\n",
       "      <th>...</th>\n",
       "      <th>origin_distance_from_density_center</th>\n",
       "      <th>distance_origin_dest_speed_cluster_squared</th>\n",
       "      <th>dest_distance_from_density_center_squared</th>\n",
       "      <th>origin_density_cluster</th>\n",
       "      <th>origin_distance_from_density_center_squared</th>\n",
       "      <th>dest_distance_from_density_center</th>\n",
       "      <th>dest_density_cluster</th>\n",
       "      <th>origin_speed_cluster</th>\n",
       "      <th>distance_origin_dest_squared</th>\n",
       "      <th>origin_bearing_from_speed_center</th>\n",
       "    </tr>\n",
       "  </thead>\n",
       "  <tbody>\n",
       "    <tr>\n",
       "      <th>0</th>\n",
       "      <td>1.340839</td>\n",
       "      <td>103.848598</td>\n",
       "      <td>1.554850e+09</td>\n",
       "      <td>1.344806</td>\n",
       "      <td>103.983101</td>\n",
       "      <td>1.554851e+09</td>\n",
       "      <td>6.0</td>\n",
       "      <td>-68.535168</td>\n",
       "      <td>208.0</td>\n",
       "      <td>3.1514</td>\n",
       "      <td>...</td>\n",
       "      <td>1.712340</td>\n",
       "      <td>203.9107</td>\n",
       "      <td>6.1363</td>\n",
       "      <td>10.0</td>\n",
       "      <td>2.9321</td>\n",
       "      <td>2.477152</td>\n",
       "      <td>8.0</td>\n",
       "      <td>11.0</td>\n",
       "      <td>223.7575</td>\n",
       "      <td>-145.981166</td>\n",
       "    </tr>\n",
       "    <tr>\n",
       "      <th>1</th>\n",
       "      <td>1.375949</td>\n",
       "      <td>103.854017</td>\n",
       "      <td>1.555030e+09</td>\n",
       "      <td>1.319886</td>\n",
       "      <td>103.881859</td>\n",
       "      <td>1.555031e+09</td>\n",
       "      <td>8.0</td>\n",
       "      <td>69.767056</td>\n",
       "      <td>280.0</td>\n",
       "      <td>0.9855</td>\n",
       "      <td>...</td>\n",
       "      <td>0.717754</td>\n",
       "      <td>75.6613</td>\n",
       "      <td>4.0140</td>\n",
       "      <td>14.0</td>\n",
       "      <td>0.5152</td>\n",
       "      <td>2.003487</td>\n",
       "      <td>0.0</td>\n",
       "      <td>14.0</td>\n",
       "      <td>48.4413</td>\n",
       "      <td>-49.568700</td>\n",
       "    </tr>\n",
       "    <tr>\n",
       "      <th>2</th>\n",
       "      <td>1.272912</td>\n",
       "      <td>103.843105</td>\n",
       "      <td>1.555585e+09</td>\n",
       "      <td>1.344893</td>\n",
       "      <td>103.716199</td>\n",
       "      <td>1.555587e+09</td>\n",
       "      <td>19.0</td>\n",
       "      <td>-34.295552</td>\n",
       "      <td>242.0</td>\n",
       "      <td>1.4648</td>\n",
       "      <td>...</td>\n",
       "      <td>1.176623</td>\n",
       "      <td>280.1149</td>\n",
       "      <td>1.7951</td>\n",
       "      <td>12.0</td>\n",
       "      <td>1.3844</td>\n",
       "      <td>1.339828</td>\n",
       "      <td>2.0</td>\n",
       "      <td>4.0</td>\n",
       "      <td>263.0874</td>\n",
       "      <td>-32.049059</td>\n",
       "    </tr>\n",
       "    <tr>\n",
       "      <th>3</th>\n",
       "      <td>1.318947</td>\n",
       "      <td>103.903400</td>\n",
       "      <td>1.555055e+09</td>\n",
       "      <td>1.360454</td>\n",
       "      <td>103.937541</td>\n",
       "      <td>1.555056e+09</td>\n",
       "      <td>15.0</td>\n",
       "      <td>106.589826</td>\n",
       "      <td>8.0</td>\n",
       "      <td>3.9661</td>\n",
       "      <td>...</td>\n",
       "      <td>0.953201</td>\n",
       "      <td>26.8272</td>\n",
       "      <td>8.3115</td>\n",
       "      <td>0.0</td>\n",
       "      <td>0.9086</td>\n",
       "      <td>2.882960</td>\n",
       "      <td>8.0</td>\n",
       "      <td>13.0</td>\n",
       "      <td>35.7054</td>\n",
       "      <td>76.587036</td>\n",
       "    </tr>\n",
       "    <tr>\n",
       "      <th>4</th>\n",
       "      <td>1.302866</td>\n",
       "      <td>103.893107</td>\n",
       "      <td>1.555326e+09</td>\n",
       "      <td>1.347796</td>\n",
       "      <td>103.957698</td>\n",
       "      <td>1.555327e+09</td>\n",
       "      <td>19.0</td>\n",
       "      <td>42.144536</td>\n",
       "      <td>68.0</td>\n",
       "      <td>3.3018</td>\n",
       "      <td>...</td>\n",
       "      <td>0.324433</td>\n",
       "      <td>90.4643</td>\n",
       "      <td>0.6066</td>\n",
       "      <td>3.0</td>\n",
       "      <td>0.1053</td>\n",
       "      <td>0.778862</td>\n",
       "      <td>8.0</td>\n",
       "      <td>6.0</td>\n",
       "      <td>76.5171</td>\n",
       "      <td>-64.233656</td>\n",
       "    </tr>\n",
       "  </tbody>\n",
       "</table>\n",
       "<p>5 rows × 38 columns</p>\n",
       "</div>"
      ],
      "text/plain": [
       "   origin_lat  origin_lng  origin_timestamp  dest_lat    dest_lng  \\\n",
       "0    1.340839  103.848598      1.554850e+09  1.344806  103.983101   \n",
       "1    1.375949  103.854017      1.555030e+09  1.319886  103.881859   \n",
       "2    1.272912  103.843105      1.555585e+09  1.344893  103.716199   \n",
       "3    1.318947  103.903400      1.555055e+09  1.360454  103.937541   \n",
       "4    1.302866  103.893107      1.555326e+09  1.347796  103.957698   \n",
       "\n",
       "   dest_timestamp  origin_hour  dest_bearing_from_density_center  \\\n",
       "0    1.554851e+09          6.0                        -68.535168   \n",
       "1    1.555031e+09          8.0                         69.767056   \n",
       "2    1.555587e+09         19.0                        -34.295552   \n",
       "3    1.555056e+09         15.0                        106.589826   \n",
       "4    1.555327e+09         19.0                         42.144536   \n",
       "\n",
       "   origin_dest_density_cluster_crossing  \\\n",
       "0                                 208.0   \n",
       "1                                 280.0   \n",
       "2                                 242.0   \n",
       "3                                   8.0   \n",
       "4                                  68.0   \n",
       "\n",
       "   origin_distance_from_speed_center_squared  ...  \\\n",
       "0                                     3.1514  ...   \n",
       "1                                     0.9855  ...   \n",
       "2                                     1.4648  ...   \n",
       "3                                     3.9661  ...   \n",
       "4                                     3.3018  ...   \n",
       "\n",
       "   origin_distance_from_density_center  \\\n",
       "0                             1.712340   \n",
       "1                             0.717754   \n",
       "2                             1.176623   \n",
       "3                             0.953201   \n",
       "4                             0.324433   \n",
       "\n",
       "   distance_origin_dest_speed_cluster_squared  \\\n",
       "0                                    203.9107   \n",
       "1                                     75.6613   \n",
       "2                                    280.1149   \n",
       "3                                     26.8272   \n",
       "4                                     90.4643   \n",
       "\n",
       "   dest_distance_from_density_center_squared  origin_density_cluster  \\\n",
       "0                                     6.1363                    10.0   \n",
       "1                                     4.0140                    14.0   \n",
       "2                                     1.7951                    12.0   \n",
       "3                                     8.3115                     0.0   \n",
       "4                                     0.6066                     3.0   \n",
       "\n",
       "   origin_distance_from_density_center_squared  \\\n",
       "0                                       2.9321   \n",
       "1                                       0.5152   \n",
       "2                                       1.3844   \n",
       "3                                       0.9086   \n",
       "4                                       0.1053   \n",
       "\n",
       "   dest_distance_from_density_center  dest_density_cluster  \\\n",
       "0                           2.477152                   8.0   \n",
       "1                           2.003487                   0.0   \n",
       "2                           1.339828                   2.0   \n",
       "3                           2.882960                   8.0   \n",
       "4                           0.778862                   8.0   \n",
       "\n",
       "   origin_speed_cluster  distance_origin_dest_squared  \\\n",
       "0                  11.0                      223.7575   \n",
       "1                  14.0                       48.4413   \n",
       "2                   4.0                      263.0874   \n",
       "3                  13.0                       35.7054   \n",
       "4                   6.0                       76.5171   \n",
       "\n",
       "   origin_bearing_from_speed_center  \n",
       "0                       -145.981166  \n",
       "1                        -49.568700  \n",
       "2                        -32.049059  \n",
       "3                         76.587036  \n",
       "4                        -64.233656  \n",
       "\n",
       "[5 rows x 38 columns]"
      ]
     },
     "execution_count": 11,
     "metadata": {},
     "output_type": "execute_result"
    }
   ],
   "source": [
    "valid_df.head()"
   ]
  },
  {
   "cell_type": "code",
   "execution_count": 12,
   "metadata": {},
   "outputs": [],
   "source": [
    "for v in cat_names:\n",
    "    valid_df[v] = valid_df[v].astype('int64')"
   ]
  },
  {
   "cell_type": "code",
   "execution_count": 14,
   "metadata": {},
   "outputs": [],
   "source": [
    "valid_df.to_pickle('valid_df.pkl')"
   ]
  },
  {
   "cell_type": "code",
   "execution_count": 30,
   "metadata": {},
   "outputs": [],
   "source": [
    "learn = load_learner('../models/', 'dev-fastai-999-balance.pkl')"
   ]
  },
  {
   "cell_type": "code",
   "execution_count": 31,
   "metadata": {},
   "outputs": [],
   "source": [
    "dicts = valid_df.to_dict('records')"
   ]
  },
  {
   "cell_type": "code",
   "execution_count": 32,
   "metadata": {},
   "outputs": [
    {
     "data": {
      "text/plain": [
       "((FloatItem [1205.503], tensor([1205.5031]), tensor([1205.5031])), 922)"
      ]
     },
     "execution_count": 32,
     "metadata": {},
     "output_type": "execute_result"
    }
   ],
   "source": [
    "i = 2020\n",
    "learn.predict(dicts[i]), valid_df_duration.values[i]"
   ]
  },
  {
   "cell_type": "code",
   "execution_count": 33,
   "metadata": {},
   "outputs": [
    {
     "data": {
      "text/plain": [
       "1205.503"
      ]
     },
     "execution_count": 33,
     "metadata": {},
     "output_type": "execute_result"
    }
   ],
   "source": [
    "learn.predict(dicts[i])[1].cpu().numpy()[0]"
   ]
  },
  {
   "cell_type": "code",
   "execution_count": 34,
   "metadata": {},
   "outputs": [],
   "source": [
    "res = {'actual': [], 'predicted': []}"
   ]
  },
  {
   "cell_type": "code",
   "execution_count": 35,
   "metadata": {},
   "outputs": [
    {
     "name": "stdout",
     "output_type": "stream",
     "text": [
      "27999 28000\n"
     ]
    }
   ],
   "source": [
    "for i, row in enumerate(dicts):\n",
    "    print(i, len(dicts))\n",
    "    clear_output(wait=True)\n",
    "    pred = learn.predict(row)[1].cpu().numpy()[0]\n",
    "    actual = valid_df_duration.values[i]\n",
    "    res['actual'].append(actual)\n",
    "    res['predicted'].append(pred)"
   ]
  },
  {
   "cell_type": "code",
   "execution_count": 36,
   "metadata": {},
   "outputs": [],
   "source": [
    "res_df = pd.DataFrame.from_dict(res)"
   ]
  },
  {
   "cell_type": "code",
   "execution_count": 37,
   "metadata": {},
   "outputs": [
    {
     "data": {
      "text/html": [
       "<div>\n",
       "<style scoped>\n",
       "    .dataframe tbody tr th:only-of-type {\n",
       "        vertical-align: middle;\n",
       "    }\n",
       "\n",
       "    .dataframe tbody tr th {\n",
       "        vertical-align: top;\n",
       "    }\n",
       "\n",
       "    .dataframe thead th {\n",
       "        text-align: right;\n",
       "    }\n",
       "</style>\n",
       "<table border=\"1\" class=\"dataframe\">\n",
       "  <thead>\n",
       "    <tr style=\"text-align: right;\">\n",
       "      <th></th>\n",
       "      <th>actual</th>\n",
       "      <th>predicted</th>\n",
       "    </tr>\n",
       "  </thead>\n",
       "  <tbody>\n",
       "    <tr>\n",
       "      <th>0</th>\n",
       "      <td>1019</td>\n",
       "      <td>1036.233154</td>\n",
       "    </tr>\n",
       "    <tr>\n",
       "      <th>1</th>\n",
       "      <td>979</td>\n",
       "      <td>1026.076782</td>\n",
       "    </tr>\n",
       "    <tr>\n",
       "      <th>2</th>\n",
       "      <td>1629</td>\n",
       "      <td>1067.387573</td>\n",
       "    </tr>\n",
       "    <tr>\n",
       "      <th>3</th>\n",
       "      <td>1116</td>\n",
       "      <td>1073.095093</td>\n",
       "    </tr>\n",
       "    <tr>\n",
       "      <th>4</th>\n",
       "      <td>1075</td>\n",
       "      <td>992.388306</td>\n",
       "    </tr>\n",
       "  </tbody>\n",
       "</table>\n",
       "</div>"
      ],
      "text/plain": [
       "   actual    predicted\n",
       "0    1019  1036.233154\n",
       "1     979  1026.076782\n",
       "2    1629  1067.387573\n",
       "3    1116  1073.095093\n",
       "4    1075   992.388306"
      ]
     },
     "execution_count": 37,
     "metadata": {},
     "output_type": "execute_result"
    }
   ],
   "source": [
    "res_df.head()"
   ]
  },
  {
   "cell_type": "code",
   "execution_count": 38,
   "metadata": {},
   "outputs": [
    {
     "data": {
      "text/plain": [
       "397.4771463267267"
      ]
     },
     "execution_count": 38,
     "metadata": {},
     "output_type": "execute_result"
    }
   ],
   "source": [
    "((res_df.predicted - res_df.actual) ** 2).mean() ** .5"
   ]
  },
  {
   "cell_type": "code",
   "execution_count": 39,
   "metadata": {},
   "outputs": [
    {
     "data": {
      "text/plain": [
       "360.4554413589786"
      ]
     },
     "execution_count": 39,
     "metadata": {},
     "output_type": "execute_result"
    }
   ],
   "source": [
    "temp_df = res_df[res_df.actual < 3000]\n",
    "((temp_df.predicted - temp_df.actual) ** 2).mean() ** .5"
   ]
  },
  {
   "cell_type": "code",
   "execution_count": 40,
   "metadata": {},
   "outputs": [
    {
     "data": {
      "text/plain": [
       "<matplotlib.axes._subplots.AxesSubplot at 0x7f1e18b04610>"
      ]
     },
     "execution_count": 40,
     "metadata": {},
     "output_type": "execute_result"
    },
    {
     "data": {
      "image/png": "[encoded data removed]",
      "text/plain": [
       "<Figure size 432x288 with 1 Axes>"
      ]
     },
     "metadata": {
      "needs_background": "light"
     },
     "output_type": "display_data"
    }
   ],
   "source": [
    "temp_df.plot.scatter(x='actual', y='predicted')"
   ]
  },
  {
   "cell_type": "code",
   "execution_count": 41,
   "metadata": {},
   "outputs": [
    {
     "data": {
      "text/plain": [
       "<matplotlib.axes._subplots.AxesSubplot at 0x7f1e189fbd50>"
      ]
     },
     "execution_count": 41,
     "metadata": {},
     "output_type": "execute_result"
    },
    {
     "data": {
      "image/png": "[encoded data removed]",
      "text/plain": [
       "<Figure size 432x288 with 1 Axes>"
      ]
     },
     "metadata": {
      "needs_background": "light"
     },
     "output_type": "display_data"
    }
   ],
   "source": [
    "res_df.plot.hist(bins=np.arange(600, 3000, 300))"
   ]
  },
  {
   "cell_type": "code",
   "execution_count": 42,
   "metadata": {},
   "outputs": [
    {
     "data": {
      "text/plain": [
       "<matplotlib.axes._subplots.AxesSubplot at 0x7f1e18a58710>"
      ]
     },
     "execution_count": 42,
     "metadata": {},
     "output_type": "execute_result"
    },
    {
     "data": {
      "image/png": "[encoded data removed]",
      "text/plain": [
       "<Figure size 432x288 with 1 Axes>"
      ]
     },
     "metadata": {
      "needs_background": "light"
     },
     "output_type": "display_data"
    }
   ],
   "source": [
    "res_df.actual.plot.hist(bins=np.arange(600, 3000, 300))"
   ]
  },
  {
   "cell_type": "code",
   "execution_count": 43,
   "metadata": {},
   "outputs": [
    {
     "data": {
      "text/plain": [
       "<matplotlib.axes._subplots.AxesSubplot at 0x7f1e164c6a90>"
      ]
     },
     "execution_count": 43,
     "metadata": {},
     "output_type": "execute_result"
    },
    {
     "data": {
      "image/png": "[encoded data removed]",
      "text/plain": [
       "<Figure size 432x288 with 1 Axes>"
      ]
     },
     "metadata": {
      "needs_background": "light"
     },
     "output_type": "display_data"
    }
   ],
   "source": [
    "valid_df.distance_origin_dest.plot.hist(bins=np.arange(0, 30, 1))"
   ]
  },
  {
   "cell_type": "code",
   "execution_count": 44,
   "metadata": {},
   "outputs": [
    {
     "data": {
      "text/plain": [
       "<matplotlib.axes._subplots.AxesSubplot at 0x7f1e163ec450>"
      ]
     },
     "execution_count": 44,
     "metadata": {},
     "output_type": "execute_result"
    },
    {
     "data": {
      "image/png": "[encoded data removed]",
      "text/plain": [
       "<Figure size 432x288 with 1 Axes>"
      ]
     },
     "metadata": {
      "needs_background": "light"
     },
     "output_type": "display_data"
    }
   ],
   "source": [
    "valid_df_duration.plot.hist(bins=np.arange(600, 2000, 100))"
   ]
  },
  {
   "cell_type": "code",
   "execution_count": null,
   "metadata": {},
   "outputs": [],
   "source": []
  }
 ],
 "metadata": {
  "kernelspec": {
   "display_name": "Python 3",
   "language": "python",
   "name": "python3"
  },
  "language_info": {
   "codemirror_mode": {
    "name": "ipython",
    "version": 3
   },
   "file_extension": ".py",
   "mimetype": "text/x-python",
   "name": "python",
   "nbconvert_exporter": "python",
   "pygments_lexer": "ipython3",
   "version": "3.7.6"
  }
 },
 "nbformat": 4,
 "nbformat_minor": 4
}
