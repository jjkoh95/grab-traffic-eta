{
 "cells": [
  {
   "cell_type": "code",
   "execution_count": 1,
   "metadata": {},
   "outputs": [],
   "source": [
    "import pandas as pd\n",
    "import numpy as np\n",
    "\n",
    "import glob\n",
    "\n",
    "from sklearn.cluster import KMeans\n",
    "\n",
    "from fastai.tabular import *\n",
    "\n",
    "import datetime\n",
    "\n",
    "from math import radians, cos, sin, asin, sqrt, pi\n",
    "\n",
    "from geographiclib.geodesic import Geodesic\n",
    "\n",
    "import matplotlib.pyplot as plt \n",
    "\n",
    "from IPython.display import clear_output"
   ]
  },
  {
   "cell_type": "code",
   "execution_count": 2,
   "metadata": {},
   "outputs": [
    {
     "name": "stdout",
     "output_type": "stream",
     "text": [
      "dev-fastai-999-balance-2.pkl\t      fastai-999-balance.pkl\r\n",
      "dev-fastai-999-balance.pkl\t      fastai-999.pkl\r\n",
      "fastai-999\t\t\t      models\r\n",
      "fastai-999-balance-2-overfitting.pkl  traffic-cluster-density-20-kmeans.pkl\r\n",
      "fastai-999-balance-2.pkl\t      traffic-cluster-speed-20-kmeans.pkl\r\n"
     ]
    }
   ],
   "source": [
    "!ls ../models"
   ]
  },
  {
   "cell_type": "code",
   "execution_count": 3,
   "metadata": {},
   "outputs": [],
   "source": [
    "density_kmeans = None\n",
    "speed_kmeans = None"
   ]
  },
  {
   "cell_type": "code",
   "execution_count": 4,
   "metadata": {},
   "outputs": [],
   "source": [
    "output_cols = [\n",
    "    'origin_day', 'origin_hour', 'origin_day_sin', 'origin_day_cos', 'origin_hour_sin', 'origin_hour_cos',\n",
    "    'origin_density_cluster', 'origin_speed_cluster',\n",
    "    'origin_distance_from_density_center', 'origin_bearing_from_density_center',\n",
    "    'origin_distance_from_speed_center', 'origin_bearing_from_speed_center',\n",
    "    'dest_density_cluster', 'dest_speed_cluster',\n",
    "    'dest_distance_from_density_center', 'dest_bearing_from_density_center',\n",
    "    'dest_distance_from_speed_center', 'dest_bearing_from_speed_center',\n",
    "    'distance_origin_dest', 'bearing_origin_dest',\n",
    "    'distance_origin_dest_density_cluster', 'distance_origin_dest_speed_cluster',\n",
    "    'origin_distance_from_density_center_squared', 'origin_distance_from_speed_center_squared',\n",
    "    'dest_distance_from_density_center_squared', 'dest_distance_from_speed_center_squared',\n",
    "    'distance_origin_dest_squared', \n",
    "    'distance_origin_dest_density_cluster_squared', 'distance_origin_dest_speed_cluster_squared',\n",
    "    'day_hour_crossing', \n",
    "    'origin_dest_density_cluster_crossing', 'origin_dest_speed_cluster_crossing',\n",
    "]\n",
    "\n",
    "def load_kmeans():\n",
    "    with open('../models/traffic-cluster-density-20-kmeans.pkl', 'rb') as pkl:\n",
    "        global density_kmeans\n",
    "        density_kmeans = pickle.load(pkl)\n",
    "    with open('../models/traffic-cluster-speed-20-kmeans.pkl', 'rb') as pkl:\n",
    "        global speed_kmeans\n",
    "        speed_kmeans = pickle.load(pkl)\n",
    "\n",
    "def haversine(lat1, lon1, lat2, lon2):\n",
    "    \"\"\"\n",
    "    Calculate the great circle distance between two points\n",
    "    on the earth (specified in decimal degrees)\n",
    "    \"\"\"\n",
    "    # convert decimal degrees to radians\n",
    "    lon1, lat1, lon2, lat2 = map(radians, [lon1, lat1, lon2, lat2])\n",
    "\n",
    "    # haversine formula\n",
    "    dlon = lon2 - lon1\n",
    "    dlat = lat2 - lat1\n",
    "    a = sin(dlat/2)**2 + cos(lat1) * cos(lat2) * sin(dlon/2)**2\n",
    "    c = 2 * asin(sqrt(a))\n",
    "    r = 6371  # Radius of earth in kilometers. Use 3956 for miles\n",
    "    return c * r\n",
    "\n",
    "def get_bearing(lat1, long1, lat2, long2):\n",
    "    brng = Geodesic.WGS84.Inverse(lat1, long1, lat2, long2)['azi1']\n",
    "    return brng\n",
    "\n",
    "def preproc(row, c):\n",
    "    dt = datetime.datetime.fromtimestamp(row['origin_timestamp'])\n",
    "    row['origin_day'] = int(dt.weekday())\n",
    "    row['origin_hour'] = int(dt.hour)\n",
    "    row['origin_day_sin'] = round(sin(row['origin_day']*(pi/7)), 4)\n",
    "    row['origin_day_cos'] = round(cos(row['origin_day']*(pi/7)), 4)\n",
    "    row['origin_hour_sin'] = round(sin(row['origin_hour']*(pi/24)), 4)\n",
    "    row['origin_hour_cos'] = round(cos(row['origin_hour']*(pi/24)), 4)\n",
    "    \n",
    "    row['origin_density_cluster'] = int(c['density'].predict([[row['origin_lat'], row['origin_lng']]])[0])\n",
    "    row['origin_speed_cluster'] = int(c['speed'].predict([[row['origin_lat'], row['origin_lng']]])[0])\n",
    "    origin_density_center = c['density'].cluster_centers_[int(row['origin_density_cluster'])]\n",
    "    origin_speed_center = c['speed'].cluster_centers_[int(row['origin_speed_cluster'])]\n",
    "    \n",
    "    row['origin_distance_from_density_center'] = haversine(row['origin_lat'], row['origin_lng'], origin_density_center[0], origin_density_center[1])\n",
    "    row['origin_bearing_from_density_center'] = get_bearing(row['origin_lat'], row['origin_lng'], origin_density_center[0], origin_density_center[1])\n",
    "    row['origin_distance_from_speed_center'] = haversine(row['origin_lat'], row['origin_lng'], origin_speed_center[0], origin_speed_center[1])\n",
    "    row['origin_bearing_from_speed_center'] = get_bearing(row['origin_lat'], row['origin_lng'], origin_speed_center[0], origin_speed_center[1])\n",
    "    \n",
    "    # dest data stuffs\n",
    "    row['dest_density_cluster'] = int(c['density'].predict([[row['dest_lat'], row['dest_lng']]])[0])\n",
    "    row['dest_speed_cluster'] = int(c['speed'].predict([[row['dest_lat'], row['dest_lng']]])[0])\n",
    "    dest_density_center = c['density'].cluster_centers_[int(row['dest_density_cluster'])]\n",
    "    dest_speed_center = c['speed'].cluster_centers_[int(row['dest_speed_cluster'])]\n",
    "    \n",
    "    row['dest_distance_from_density_center'] = haversine(row['dest_lat'], row['dest_lng'], dest_density_center[0], dest_density_center[1])\n",
    "    row['dest_bearing_from_density_center'] = get_bearing(row['dest_lat'], row['dest_lng'], dest_density_center[0], dest_density_center[1])\n",
    "    row['dest_distance_from_speed_center'] = haversine(row['dest_lat'], row['dest_lng'], dest_speed_center[0], dest_speed_center[1])\n",
    "    row['dest_bearing_from_speed_center'] = get_bearing(row['dest_lat'], row['dest_lng'], dest_speed_center[0], dest_speed_center[1])\n",
    "    \n",
    "    # origin-destination stuffs\n",
    "    row['distance_origin_dest'] = haversine(row['origin_lat'], row['origin_lng'], row['dest_lat'], row['dest_lng'])\n",
    "    row['bearing_origin_dest'] = get_bearing(row['origin_lat'], row['origin_lng'], row['dest_lat'], row['dest_lng'])\n",
    "    \n",
    "    row['distance_origin_dest_density_cluster'] = haversine(origin_density_center[0], origin_density_center[1], dest_density_center[0], dest_density_center[1])\n",
    "    row['distance_origin_dest_speed_cluster'] = haversine(origin_speed_center[0], origin_speed_center[1], dest_speed_center[0], dest_speed_center[1])\n",
    "    \n",
    "    row['origin_distance_from_density_center_squared'] = round(row['origin_distance_from_density_center'] ** 2, 4)\n",
    "    row['origin_distance_from_speed_center_squared'] = round(row['origin_distance_from_speed_center'] ** 2, 4)\n",
    "    row['dest_distance_from_density_center_squared'] = round(row['dest_distance_from_density_center'] ** 2, 4)\n",
    "    row['dest_distance_from_speed_center_squared'] = round(row['dest_distance_from_speed_center'] ** 2, 4)\n",
    "    row['distance_origin_dest_squared'] = round(row['distance_origin_dest'] ** 2, 4)\n",
    "    row['distance_origin_dest_density_cluster_squared'] = round(row['distance_origin_dest_density_cluster'] ** 2, 4)\n",
    "    row['distance_origin_dest_speed_cluster_squared'] = round(row['distance_origin_dest_speed_cluster'] ** 2, 4)\n",
    "    \n",
    "    row['day_hour_crossing'] = int(row['origin_day']*24 + row['origin_hour'])\n",
    "    row['origin_dest_density_cluster_crossing'] = int(row['origin_density_cluster']*20 + row['dest_density_cluster'])\n",
    "    row['origin_dest_speed_cluster_crossing'] = int(row['origin_speed_cluster']*20 + row['dest_speed_cluster'])\n",
    "    \n",
    "    return row"
   ]
  },
  {
   "cell_type": "code",
   "execution_count": 5,
   "metadata": {},
   "outputs": [],
   "source": [
    "valid_df = pd.concat([pd.read_csv(f, encoding='latin1') for f in glob.glob('../data/validation/*.csv')])"
   ]
  },
  {
   "cell_type": "code",
   "execution_count": 6,
   "metadata": {},
   "outputs": [],
   "source": [
    "valid_df = valid_df.rename(columns={ \n",
    "    'rawlat': 'origin_lat', 'rawlng': 'origin_lng', 'pingtimestamp': 'origin_timestamp',\n",
    "    'rawlat2': 'dest_lat', 'rawlng2': 'dest_lng', 'pingtimestamp2': 'dest_timestamp',\n",
    "})"
   ]
  },
  {
   "cell_type": "code",
   "execution_count": 7,
   "metadata": {},
   "outputs": [],
   "source": [
    "valid_df_duration = valid_df.dest_timestamp - valid_df.origin_timestamp"
   ]
  },
  {
   "cell_type": "code",
   "execution_count": 8,
   "metadata": {},
   "outputs": [
    {
     "name": "stderr",
     "output_type": "stream",
     "text": [
      "/home/jjkoh/anaconda3/envs/ml-3.7/lib/python3.7/site-packages/sklearn/base.py:318: UserWarning: Trying to unpickle estimator KMeans from version 0.22.2.post1 when using version 0.22.1. This might lead to breaking code or invalid results. Use at your own risk.\n",
      "  UserWarning)\n"
     ]
    }
   ],
   "source": [
    "load_kmeans()"
   ]
  },
  {
   "cell_type": "code",
   "execution_count": 9,
   "metadata": {},
   "outputs": [],
   "source": [
    "for v in set(output_cols) - set(valid_df.columns):\n",
    "    valid_df[v] = 0\n",
    "    \n",
    "cat_names = [\n",
    "    \"origin_day\", \"origin_hour\",\n",
    "    \"origin_density_cluster\", \"origin_speed_cluster\",\n",
    "    \"dest_density_cluster\", \"dest_speed_cluster\",\n",
    "    \"day_hour_crossing\", \"origin_dest_density_cluster_crossing\", \"origin_dest_speed_cluster_crossing\"\n",
    "]\n",
    "\n",
    "for v in cat_names:\n",
    "    valid_df[v] = valid_df[v].astype('uint32')"
   ]
  },
  {
   "cell_type": "code",
   "execution_count": 10,
   "metadata": {},
   "outputs": [],
   "source": [
    "valid_df = valid_df.apply(lambda row: preproc(row, {'density': density_kmeans, 'speed': speed_kmeans}), axis=1)"
   ]
  },
  {
   "cell_type": "code",
   "execution_count": 11,
   "metadata": {},
   "outputs": [
    {
     "data": {
      "text/html": [
       "<div>\n",
       "<style scoped>\n",
       "    .dataframe tbody tr th:only-of-type {\n",
       "        vertical-align: middle;\n",
       "    }\n",
       "\n",
       "    .dataframe tbody tr th {\n",
       "        vertical-align: top;\n",
       "    }\n",
       "\n",
       "    .dataframe thead th {\n",
       "        text-align: right;\n",
       "    }\n",
       "</style>\n",
       "<table border=\"1\" class=\"dataframe\">\n",
       "  <thead>\n",
       "    <tr style=\"text-align: right;\">\n",
       "      <th></th>\n",
       "      <th>origin_lat</th>\n",
       "      <th>origin_lng</th>\n",
       "      <th>origin_timestamp</th>\n",
       "      <th>dest_lat</th>\n",
       "      <th>dest_lng</th>\n",
       "      <th>dest_timestamp</th>\n",
       "      <th>distance_origin_dest_squared</th>\n",
       "      <th>dest_distance_from_speed_center</th>\n",
       "      <th>origin_day</th>\n",
       "      <th>origin_hour</th>\n",
       "      <th>...</th>\n",
       "      <th>dest_distance_from_speed_center_squared</th>\n",
       "      <th>dest_distance_from_density_center</th>\n",
       "      <th>dest_speed_cluster</th>\n",
       "      <th>origin_hour_sin</th>\n",
       "      <th>distance_origin_dest_speed_cluster_squared</th>\n",
       "      <th>origin_day_cos</th>\n",
       "      <th>distance_origin_dest</th>\n",
       "      <th>dest_bearing_from_speed_center</th>\n",
       "      <th>origin_distance_from_speed_center_squared</th>\n",
       "      <th>origin_dest_speed_cluster_crossing</th>\n",
       "    </tr>\n",
       "  </thead>\n",
       "  <tbody>\n",
       "    <tr>\n",
       "      <th>0</th>\n",
       "      <td>1.340839</td>\n",
       "      <td>103.848598</td>\n",
       "      <td>1.554850e+09</td>\n",
       "      <td>1.344806</td>\n",
       "      <td>103.983101</td>\n",
       "      <td>1.554851e+09</td>\n",
       "      <td>223.7575</td>\n",
       "      <td>2.340467</td>\n",
       "      <td>2.0</td>\n",
       "      <td>6.0</td>\n",
       "      <td>...</td>\n",
       "      <td>5.4778</td>\n",
       "      <td>2.477152</td>\n",
       "      <td>0.0</td>\n",
       "      <td>0.7071</td>\n",
       "      <td>203.9107</td>\n",
       "      <td>0.6235</td>\n",
       "      <td>14.958527</td>\n",
       "      <td>-134.511328</td>\n",
       "      <td>3.1514</td>\n",
       "      <td>220.0</td>\n",
       "    </tr>\n",
       "    <tr>\n",
       "      <th>1</th>\n",
       "      <td>1.375949</td>\n",
       "      <td>103.854017</td>\n",
       "      <td>1.555030e+09</td>\n",
       "      <td>1.319886</td>\n",
       "      <td>103.881859</td>\n",
       "      <td>1.555031e+09</td>\n",
       "      <td>48.4413</td>\n",
       "      <td>1.163552</td>\n",
       "      <td>4.0</td>\n",
       "      <td>8.0</td>\n",
       "      <td>...</td>\n",
       "      <td>1.3539</td>\n",
       "      <td>2.003487</td>\n",
       "      <td>6.0</td>\n",
       "      <td>0.8660</td>\n",
       "      <td>75.6613</td>\n",
       "      <td>-0.2225</td>\n",
       "      <td>6.959980</td>\n",
       "      <td>-160.609568</td>\n",
       "      <td>0.9855</td>\n",
       "      <td>286.0</td>\n",
       "    </tr>\n",
       "    <tr>\n",
       "      <th>2</th>\n",
       "      <td>1.272912</td>\n",
       "      <td>103.843105</td>\n",
       "      <td>1.555585e+09</td>\n",
       "      <td>1.344893</td>\n",
       "      <td>103.716199</td>\n",
       "      <td>1.555587e+09</td>\n",
       "      <td>263.0874</td>\n",
       "      <td>1.687353</td>\n",
       "      <td>3.0</td>\n",
       "      <td>19.0</td>\n",
       "      <td>...</td>\n",
       "      <td>2.8472</td>\n",
       "      <td>1.339828</td>\n",
       "      <td>17.0</td>\n",
       "      <td>0.6088</td>\n",
       "      <td>280.1149</td>\n",
       "      <td>0.2225</td>\n",
       "      <td>16.219968</td>\n",
       "      <td>-40.047700</td>\n",
       "      <td>1.4648</td>\n",
       "      <td>97.0</td>\n",
       "    </tr>\n",
       "    <tr>\n",
       "      <th>3</th>\n",
       "      <td>1.318947</td>\n",
       "      <td>103.903400</td>\n",
       "      <td>1.555055e+09</td>\n",
       "      <td>1.360454</td>\n",
       "      <td>103.937541</td>\n",
       "      <td>1.555056e+09</td>\n",
       "      <td>35.7054</td>\n",
       "      <td>0.981524</td>\n",
       "      <td>4.0</td>\n",
       "      <td>15.0</td>\n",
       "      <td>...</td>\n",
       "      <td>0.9634</td>\n",
       "      <td>2.882960</td>\n",
       "      <td>18.0</td>\n",
       "      <td>0.9239</td>\n",
       "      <td>26.8272</td>\n",
       "      <td>-0.2225</td>\n",
       "      <td>5.975397</td>\n",
       "      <td>78.712216</td>\n",
       "      <td>3.9661</td>\n",
       "      <td>278.0</td>\n",
       "    </tr>\n",
       "    <tr>\n",
       "      <th>4</th>\n",
       "      <td>1.302866</td>\n",
       "      <td>103.893107</td>\n",
       "      <td>1.555326e+09</td>\n",
       "      <td>1.347796</td>\n",
       "      <td>103.957698</td>\n",
       "      <td>1.555327e+09</td>\n",
       "      <td>76.5171</td>\n",
       "      <td>2.048684</td>\n",
       "      <td>0.0</td>\n",
       "      <td>19.0</td>\n",
       "      <td>...</td>\n",
       "      <td>4.1971</td>\n",
       "      <td>0.778862</td>\n",
       "      <td>18.0</td>\n",
       "      <td>0.6088</td>\n",
       "      <td>90.4643</td>\n",
       "      <td>1.0000</td>\n",
       "      <td>8.747406</td>\n",
       "      <td>-38.798908</td>\n",
       "      <td>3.3018</td>\n",
       "      <td>138.0</td>\n",
       "    </tr>\n",
       "  </tbody>\n",
       "</table>\n",
       "<p>5 rows × 38 columns</p>\n",
       "</div>"
      ],
      "text/plain": [
       "   origin_lat  origin_lng  origin_timestamp  dest_lat    dest_lng  \\\n",
       "0    1.340839  103.848598      1.554850e+09  1.344806  103.983101   \n",
       "1    1.375949  103.854017      1.555030e+09  1.319886  103.881859   \n",
       "2    1.272912  103.843105      1.555585e+09  1.344893  103.716199   \n",
       "3    1.318947  103.903400      1.555055e+09  1.360454  103.937541   \n",
       "4    1.302866  103.893107      1.555326e+09  1.347796  103.957698   \n",
       "\n",
       "   dest_timestamp  distance_origin_dest_squared  \\\n",
       "0    1.554851e+09                      223.7575   \n",
       "1    1.555031e+09                       48.4413   \n",
       "2    1.555587e+09                      263.0874   \n",
       "3    1.555056e+09                       35.7054   \n",
       "4    1.555327e+09                       76.5171   \n",
       "\n",
       "   dest_distance_from_speed_center  origin_day  origin_hour  ...  \\\n",
       "0                         2.340467         2.0          6.0  ...   \n",
       "1                         1.163552         4.0          8.0  ...   \n",
       "2                         1.687353         3.0         19.0  ...   \n",
       "3                         0.981524         4.0         15.0  ...   \n",
       "4                         2.048684         0.0         19.0  ...   \n",
       "\n",
       "   dest_distance_from_speed_center_squared  dest_distance_from_density_center  \\\n",
       "0                                   5.4778                           2.477152   \n",
       "1                                   1.3539                           2.003487   \n",
       "2                                   2.8472                           1.339828   \n",
       "3                                   0.9634                           2.882960   \n",
       "4                                   4.1971                           0.778862   \n",
       "\n",
       "   dest_speed_cluster  origin_hour_sin  \\\n",
       "0                 0.0           0.7071   \n",
       "1                 6.0           0.8660   \n",
       "2                17.0           0.6088   \n",
       "3                18.0           0.9239   \n",
       "4                18.0           0.6088   \n",
       "\n",
       "   distance_origin_dest_speed_cluster_squared  origin_day_cos  \\\n",
       "0                                    203.9107          0.6235   \n",
       "1                                     75.6613         -0.2225   \n",
       "2                                    280.1149          0.2225   \n",
       "3                                     26.8272         -0.2225   \n",
       "4                                     90.4643          1.0000   \n",
       "\n",
       "   distance_origin_dest  dest_bearing_from_speed_center  \\\n",
       "0             14.958527                     -134.511328   \n",
       "1              6.959980                     -160.609568   \n",
       "2             16.219968                      -40.047700   \n",
       "3              5.975397                       78.712216   \n",
       "4              8.747406                      -38.798908   \n",
       "\n",
       "   origin_distance_from_speed_center_squared  \\\n",
       "0                                     3.1514   \n",
       "1                                     0.9855   \n",
       "2                                     1.4648   \n",
       "3                                     3.9661   \n",
       "4                                     3.3018   \n",
       "\n",
       "   origin_dest_speed_cluster_crossing  \n",
       "0                               220.0  \n",
       "1                               286.0  \n",
       "2                                97.0  \n",
       "3                               278.0  \n",
       "4                               138.0  \n",
       "\n",
       "[5 rows x 38 columns]"
      ]
     },
     "execution_count": 11,
     "metadata": {},
     "output_type": "execute_result"
    }
   ],
   "source": [
    "valid_df.head()"
   ]
  },
  {
   "cell_type": "code",
   "execution_count": 12,
   "metadata": {},
   "outputs": [],
   "source": [
    "for v in cat_names:\n",
    "    valid_df[v] = valid_df[v].astype('int64')"
   ]
  },
  {
   "cell_type": "code",
   "execution_count": 13,
   "metadata": {},
   "outputs": [],
   "source": [
    "valid_df.to_pickle('valid_df.pkl')"
   ]
  },
  {
   "cell_type": "code",
   "execution_count": 14,
   "metadata": {},
   "outputs": [],
   "source": [
    "learn = load_learner('../models/', 'fastai-999-balance-2.pkl')"
   ]
  },
  {
   "cell_type": "code",
   "execution_count": 15,
   "metadata": {},
   "outputs": [],
   "source": [
    "dicts = valid_df.to_dict('records')"
   ]
  },
  {
   "cell_type": "code",
   "execution_count": 16,
   "metadata": {},
   "outputs": [
    {
     "data": {
      "text/plain": [
       "((FloatItem [1036.5273], tensor([1036.5273]), tensor([1036.5273])), 986)"
      ]
     },
     "execution_count": 16,
     "metadata": {},
     "output_type": "execute_result"
    }
   ],
   "source": [
    "i = 1000\n",
    "learn.predict(dicts[i]), valid_df_duration.values[i]"
   ]
  },
  {
   "cell_type": "code",
   "execution_count": 17,
   "metadata": {},
   "outputs": [
    {
     "data": {
      "text/plain": [
       "1036.5273"
      ]
     },
     "execution_count": 17,
     "metadata": {},
     "output_type": "execute_result"
    }
   ],
   "source": [
    "learn.predict(dicts[i])[1].cpu().numpy()[0]"
   ]
  },
  {
   "cell_type": "code",
   "execution_count": 18,
   "metadata": {},
   "outputs": [],
   "source": [
    "res = {'actual': [], 'predicted': []}"
   ]
  },
  {
   "cell_type": "code",
   "execution_count": 19,
   "metadata": {},
   "outputs": [
    {
     "name": "stdout",
     "output_type": "stream",
     "text": [
      "27999 28000\n"
     ]
    }
   ],
   "source": [
    "for i, row in enumerate(dicts):\n",
    "    print(i, len(dicts))\n",
    "    clear_output(wait=True)\n",
    "    pred = learn.predict(row)[1].cpu().numpy()[0]\n",
    "    actual = valid_df_duration.values[i]\n",
    "    res['actual'].append(actual)\n",
    "    res['predicted'].append(pred)"
   ]
  },
  {
   "cell_type": "code",
   "execution_count": 20,
   "metadata": {},
   "outputs": [],
   "source": [
    "res_df = pd.DataFrame.from_dict(res)"
   ]
  },
  {
   "cell_type": "code",
   "execution_count": 21,
   "metadata": {},
   "outputs": [
    {
     "data": {
      "text/html": [
       "<div>\n",
       "<style scoped>\n",
       "    .dataframe tbody tr th:only-of-type {\n",
       "        vertical-align: middle;\n",
       "    }\n",
       "\n",
       "    .dataframe tbody tr th {\n",
       "        vertical-align: top;\n",
       "    }\n",
       "\n",
       "    .dataframe thead th {\n",
       "        text-align: right;\n",
       "    }\n",
       "</style>\n",
       "<table border=\"1\" class=\"dataframe\">\n",
       "  <thead>\n",
       "    <tr style=\"text-align: right;\">\n",
       "      <th></th>\n",
       "      <th>actual</th>\n",
       "      <th>predicted</th>\n",
       "    </tr>\n",
       "  </thead>\n",
       "  <tbody>\n",
       "    <tr>\n",
       "      <th>0</th>\n",
       "      <td>1019</td>\n",
       "      <td>1003.357300</td>\n",
       "    </tr>\n",
       "    <tr>\n",
       "      <th>1</th>\n",
       "      <td>979</td>\n",
       "      <td>999.804504</td>\n",
       "    </tr>\n",
       "    <tr>\n",
       "      <th>2</th>\n",
       "      <td>1629</td>\n",
       "      <td>1023.706482</td>\n",
       "    </tr>\n",
       "    <tr>\n",
       "      <th>3</th>\n",
       "      <td>1116</td>\n",
       "      <td>1044.744263</td>\n",
       "    </tr>\n",
       "    <tr>\n",
       "      <th>4</th>\n",
       "      <td>1075</td>\n",
       "      <td>970.762390</td>\n",
       "    </tr>\n",
       "  </tbody>\n",
       "</table>\n",
       "</div>"
      ],
      "text/plain": [
       "   actual    predicted\n",
       "0    1019  1003.357300\n",
       "1     979   999.804504\n",
       "2    1629  1023.706482\n",
       "3    1116  1044.744263\n",
       "4    1075   970.762390"
      ]
     },
     "execution_count": 21,
     "metadata": {},
     "output_type": "execute_result"
    }
   ],
   "source": [
    "res_df.head()"
   ]
  },
  {
   "cell_type": "code",
   "execution_count": 22,
   "metadata": {},
   "outputs": [
    {
     "data": {
      "text/plain": [
       "356.57303098402764"
      ]
     },
     "execution_count": 22,
     "metadata": {},
     "output_type": "execute_result"
    }
   ],
   "source": [
    "((res_df.predicted - res_df.actual) ** 2).mean() ** .5"
   ]
  },
  {
   "cell_type": "code",
   "execution_count": 23,
   "metadata": {},
   "outputs": [
    {
     "data": {
      "text/plain": [
       "324.4508474197594"
      ]
     },
     "execution_count": 23,
     "metadata": {},
     "output_type": "execute_result"
    }
   ],
   "source": [
    "temp_df = res_df[res_df.actual < 3000]\n",
    "((temp_df.predicted - temp_df.actual) ** 2).mean() ** .5"
   ]
  },
  {
   "cell_type": "code",
   "execution_count": 24,
   "metadata": {},
   "outputs": [
    {
     "data": {
      "text/plain": [
       "<matplotlib.axes._subplots.AxesSubplot at 0x7fd06a245490>"
      ]
     },
     "execution_count": 24,
     "metadata": {},
     "output_type": "execute_result"
    },
    {
     "data": {
      "image/png": "[encoded data removed]",
      "text/plain": [
       "<Figure size 432x288 with 1 Axes>"
      ]
     },
     "metadata": {
      "needs_background": "light"
     },
     "output_type": "display_data"
    }
   ],
   "source": [
    "temp_df.plot.scatter(x='actual', y='predicted')"
   ]
  },
  {
   "cell_type": "code",
   "execution_count": 30,
   "metadata": {},
   "outputs": [
    {
     "data": {
      "text/plain": [
       "<matplotlib.axes._subplots.AxesSubplot at 0x7fd063af1e50>"
      ]
     },
     "execution_count": 30,
     "metadata": {},
     "output_type": "execute_result"
    },
    {
     "data": {
      "image/png": "[encoded data removed]",
      "text/plain": [
       "<Figure size 432x288 with 1 Axes>"
      ]
     },
     "metadata": {
      "needs_background": "light"
     },
     "output_type": "display_data"
    }
   ],
   "source": [
    "res_df.plot.hist(bins=np.arange(600, 3000, 100))"
   ]
  },
  {
   "cell_type": "code",
   "execution_count": 29,
   "metadata": {},
   "outputs": [
    {
     "data": {
      "text/plain": [
       "<matplotlib.axes._subplots.AxesSubplot at 0x7fd063afc5d0>"
      ]
     },
     "execution_count": 29,
     "metadata": {},
     "output_type": "execute_result"
    },
    {
     "data": {
      "image/png": "[encoded data removed]",
      "text/plain": [
       "<Figure size 432x288 with 1 Axes>"
      ]
     },
     "metadata": {
      "needs_background": "light"
     },
     "output_type": "display_data"
    }
   ],
   "source": [
    "res_df.actual.plot.hist(bins=np.arange(600, 3000, 100))"
   ]
  },
  {
   "cell_type": "code",
   "execution_count": 31,
   "metadata": {},
   "outputs": [
    {
     "data": {
      "text/plain": [
       "<matplotlib.axes._subplots.AxesSubplot at 0x7fd0638f6ed0>"
      ]
     },
     "execution_count": 31,
     "metadata": {},
     "output_type": "execute_result"
    },
    {
     "data": {
      "image/png": "[encoded data removed]",
      "text/plain": [
       "<Figure size 432x288 with 1 Axes>"
      ]
     },
     "metadata": {
      "needs_background": "light"
     },
     "output_type": "display_data"
    }
   ],
   "source": [
    "res_df.predicted.plot.hist(bins=np.arange(600, 3000, 100))"
   ]
  },
  {
   "cell_type": "code",
   "execution_count": null,
   "metadata": {},
   "outputs": [],
   "source": []
  }
 ],
 "metadata": {
  "kernelspec": {
   "display_name": "Python 3",
   "language": "python",
   "name": "python3"
  },
  "language_info": {
   "codemirror_mode": {
    "name": "ipython",
    "version": 3
   },
   "file_extension": ".py",
   "mimetype": "text/x-python",
   "name": "python",
   "nbconvert_exporter": "python",
   "pygments_lexer": "ipython3",
   "version": "3.7.6"
  }
 },
 "nbformat": 4,
 "nbformat_minor": 4
}
