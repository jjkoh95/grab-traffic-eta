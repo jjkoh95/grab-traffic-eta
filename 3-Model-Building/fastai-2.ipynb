{
 "cells": [
  {
   "cell_type": "code",
   "execution_count": 1,
   "metadata": {},
   "outputs": [],
   "source": [
    "from fastai.tabular import *\n",
    "\n",
    "import pandas as pd\n",
    "import numpy as np\n",
    "\n",
    "import glob"
   ]
  },
  {
   "cell_type": "code",
   "execution_count": 2,
   "metadata": {},
   "outputs": [],
   "source": [
    "df = pd.concat([pd.read_csv(f, encoding='latin1') for f in glob.glob('../data/v4/*.csv')])"
   ]
  },
  {
   "cell_type": "code",
   "execution_count": 3,
   "metadata": {},
   "outputs": [
    {
     "data": {
      "text/plain": [
       "(521444, 33)"
      ]
     },
     "execution_count": 3,
     "metadata": {},
     "output_type": "execute_result"
    }
   ],
   "source": [
    "df.shape"
   ]
  },
  {
   "cell_type": "code",
   "execution_count": 4,
   "metadata": {},
   "outputs": [
    {
     "data": {
      "text/html": [
       "<div>\n",
       "<style scoped>\n",
       "    .dataframe tbody tr th:only-of-type {\n",
       "        vertical-align: middle;\n",
       "    }\n",
       "\n",
       "    .dataframe tbody tr th {\n",
       "        vertical-align: top;\n",
       "    }\n",
       "\n",
       "    .dataframe thead th {\n",
       "        text-align: right;\n",
       "    }\n",
       "</style>\n",
       "<table border=\"1\" class=\"dataframe\">\n",
       "  <thead>\n",
       "    <tr style=\"text-align: right;\">\n",
       "      <th></th>\n",
       "      <th>origin_day</th>\n",
       "      <th>origin_hour</th>\n",
       "      <th>origin_day_sin</th>\n",
       "      <th>origin_day_cos</th>\n",
       "      <th>origin_hour_sin</th>\n",
       "      <th>origin_hour_cos</th>\n",
       "      <th>origin_density_cluster</th>\n",
       "      <th>origin_speed_cluster</th>\n",
       "      <th>origin_distance_from_density_center</th>\n",
       "      <th>origin_bearing_from_density_center</th>\n",
       "      <th>...</th>\n",
       "      <th>origin_distance_from_speed_center_squared</th>\n",
       "      <th>dest_distance_from_density_center_squared</th>\n",
       "      <th>dest_distance_from_speed_center_squared</th>\n",
       "      <th>distance_origin_dest_squared</th>\n",
       "      <th>distance_origin_dest_density_cluster_squared</th>\n",
       "      <th>distance_origin_dest_speed_cluster_squared</th>\n",
       "      <th>day_hour_crossing</th>\n",
       "      <th>origin_dest_density_cluster_crossing</th>\n",
       "      <th>origin_dest_speed_cluster_crossing</th>\n",
       "      <th>duration</th>\n",
       "    </tr>\n",
       "  </thead>\n",
       "  <tbody>\n",
       "    <tr>\n",
       "      <th>0</th>\n",
       "      <td>3</td>\n",
       "      <td>9</td>\n",
       "      <td>0.9749</td>\n",
       "      <td>0.2225</td>\n",
       "      <td>0.9239</td>\n",
       "      <td>0.3827</td>\n",
       "      <td>12</td>\n",
       "      <td>16</td>\n",
       "      <td>1.0846</td>\n",
       "      <td>-174.3222</td>\n",
       "      <td>...</td>\n",
       "      <td>5.6027</td>\n",
       "      <td>2.1880</td>\n",
       "      <td>6.0128</td>\n",
       "      <td>369.5314</td>\n",
       "      <td>344.2287</td>\n",
       "      <td>322.8346</td>\n",
       "      <td>81</td>\n",
       "      <td>243</td>\n",
       "      <td>339</td>\n",
       "      <td>2130</td>\n",
       "    </tr>\n",
       "    <tr>\n",
       "      <th>1</th>\n",
       "      <td>4</td>\n",
       "      <td>11</td>\n",
       "      <td>0.9749</td>\n",
       "      <td>-0.2225</td>\n",
       "      <td>0.9914</td>\n",
       "      <td>0.1305</td>\n",
       "      <td>3</td>\n",
       "      <td>15</td>\n",
       "      <td>2.1962</td>\n",
       "      <td>112.9280</td>\n",
       "      <td>...</td>\n",
       "      <td>3.5547</td>\n",
       "      <td>0.7585</td>\n",
       "      <td>7.3100</td>\n",
       "      <td>230.9367</td>\n",
       "      <td>198.0916</td>\n",
       "      <td>205.6585</td>\n",
       "      <td>107</td>\n",
       "      <td>76</td>\n",
       "      <td>308</td>\n",
       "      <td>900</td>\n",
       "    </tr>\n",
       "    <tr>\n",
       "      <th>2</th>\n",
       "      <td>0</td>\n",
       "      <td>2</td>\n",
       "      <td>0.0000</td>\n",
       "      <td>1.0000</td>\n",
       "      <td>0.2588</td>\n",
       "      <td>0.9659</td>\n",
       "      <td>4</td>\n",
       "      <td>10</td>\n",
       "      <td>1.6362</td>\n",
       "      <td>2.8973</td>\n",
       "      <td>...</td>\n",
       "      <td>1.2735</td>\n",
       "      <td>0.3941</td>\n",
       "      <td>2.7278</td>\n",
       "      <td>109.4304</td>\n",
       "      <td>128.2534</td>\n",
       "      <td>99.2036</td>\n",
       "      <td>2</td>\n",
       "      <td>91</td>\n",
       "      <td>206</td>\n",
       "      <td>977</td>\n",
       "    </tr>\n",
       "    <tr>\n",
       "      <th>3</th>\n",
       "      <td>2</td>\n",
       "      <td>22</td>\n",
       "      <td>0.7818</td>\n",
       "      <td>0.6235</td>\n",
       "      <td>0.2588</td>\n",
       "      <td>-0.9659</td>\n",
       "      <td>3</td>\n",
       "      <td>19</td>\n",
       "      <td>0.8167</td>\n",
       "      <td>-167.5233</td>\n",
       "      <td>...</td>\n",
       "      <td>3.9295</td>\n",
       "      <td>7.0405</td>\n",
       "      <td>5.8443</td>\n",
       "      <td>104.5016</td>\n",
       "      <td>125.6125</td>\n",
       "      <td>81.9966</td>\n",
       "      <td>70</td>\n",
       "      <td>61</td>\n",
       "      <td>391</td>\n",
       "      <td>935</td>\n",
       "    </tr>\n",
       "    <tr>\n",
       "      <th>4</th>\n",
       "      <td>6</td>\n",
       "      <td>22</td>\n",
       "      <td>0.4339</td>\n",
       "      <td>-0.9010</td>\n",
       "      <td>0.2588</td>\n",
       "      <td>-0.9659</td>\n",
       "      <td>13</td>\n",
       "      <td>0</td>\n",
       "      <td>0.8750</td>\n",
       "      <td>-44.0458</td>\n",
       "      <td>...</td>\n",
       "      <td>9.5883</td>\n",
       "      <td>1.6569</td>\n",
       "      <td>0.2905</td>\n",
       "      <td>204.1955</td>\n",
       "      <td>196.4034</td>\n",
       "      <td>254.5333</td>\n",
       "      <td>166</td>\n",
       "      <td>271</td>\n",
       "      <td>6</td>\n",
       "      <td>1477</td>\n",
       "    </tr>\n",
       "  </tbody>\n",
       "</table>\n",
       "<p>5 rows × 33 columns</p>\n",
       "</div>"
      ],
      "text/plain": [
       "   origin_day  origin_hour  origin_day_sin  origin_day_cos  origin_hour_sin  \\\n",
       "0           3            9          0.9749          0.2225           0.9239   \n",
       "1           4           11          0.9749         -0.2225           0.9914   \n",
       "2           0            2          0.0000          1.0000           0.2588   \n",
       "3           2           22          0.7818          0.6235           0.2588   \n",
       "4           6           22          0.4339         -0.9010           0.2588   \n",
       "\n",
       "   origin_hour_cos  origin_density_cluster  origin_speed_cluster  \\\n",
       "0           0.3827                      12                    16   \n",
       "1           0.1305                       3                    15   \n",
       "2           0.9659                       4                    10   \n",
       "3          -0.9659                       3                    19   \n",
       "4          -0.9659                      13                     0   \n",
       "\n",
       "   origin_distance_from_density_center  origin_bearing_from_density_center  \\\n",
       "0                               1.0846                           -174.3222   \n",
       "1                               2.1962                            112.9280   \n",
       "2                               1.6362                              2.8973   \n",
       "3                               0.8167                           -167.5233   \n",
       "4                               0.8750                            -44.0458   \n",
       "\n",
       "   ...  origin_distance_from_speed_center_squared  \\\n",
       "0  ...                                     5.6027   \n",
       "1  ...                                     3.5547   \n",
       "2  ...                                     1.2735   \n",
       "3  ...                                     3.9295   \n",
       "4  ...                                     9.5883   \n",
       "\n",
       "   dest_distance_from_density_center_squared  \\\n",
       "0                                     2.1880   \n",
       "1                                     0.7585   \n",
       "2                                     0.3941   \n",
       "3                                     7.0405   \n",
       "4                                     1.6569   \n",
       "\n",
       "   dest_distance_from_speed_center_squared  distance_origin_dest_squared  \\\n",
       "0                                   6.0128                      369.5314   \n",
       "1                                   7.3100                      230.9367   \n",
       "2                                   2.7278                      109.4304   \n",
       "3                                   5.8443                      104.5016   \n",
       "4                                   0.2905                      204.1955   \n",
       "\n",
       "   distance_origin_dest_density_cluster_squared  \\\n",
       "0                                      344.2287   \n",
       "1                                      198.0916   \n",
       "2                                      128.2534   \n",
       "3                                      125.6125   \n",
       "4                                      196.4034   \n",
       "\n",
       "   distance_origin_dest_speed_cluster_squared  day_hour_crossing  \\\n",
       "0                                    322.8346                 81   \n",
       "1                                    205.6585                107   \n",
       "2                                     99.2036                  2   \n",
       "3                                     81.9966                 70   \n",
       "4                                    254.5333                166   \n",
       "\n",
       "   origin_dest_density_cluster_crossing  origin_dest_speed_cluster_crossing  \\\n",
       "0                                   243                                 339   \n",
       "1                                    76                                 308   \n",
       "2                                    91                                 206   \n",
       "3                                    61                                 391   \n",
       "4                                   271                                   6   \n",
       "\n",
       "   duration  \n",
       "0      2130  \n",
       "1       900  \n",
       "2       977  \n",
       "3       935  \n",
       "4      1477  \n",
       "\n",
       "[5 rows x 33 columns]"
      ]
     },
     "execution_count": 4,
     "metadata": {},
     "output_type": "execute_result"
    }
   ],
   "source": [
    "df.head()"
   ]
  },
  {
   "cell_type": "code",
   "execution_count": 5,
   "metadata": {},
   "outputs": [],
   "source": [
    "df.duration = df.duration.astype('float32')"
   ]
  },
  {
   "cell_type": "code",
   "execution_count": 6,
   "metadata": {},
   "outputs": [],
   "source": [
    "cont_names = [\n",
    "    'origin_day_sin', 'origin_day_cos', 'origin_hour_sin', 'origin_hour_cos',\n",
    "    'origin_distance_from_density_center', 'origin_bearing_from_density_center',\n",
    "    'origin_distance_from_speed_center', 'origin_bearing_from_speed_center',\n",
    "    'dest_distance_from_density_center', 'dest_bearing_from_density_center',\n",
    "    'dest_distance_from_speed_center', 'dest_bearing_from_speed_center',\n",
    "    'distance_origin_dest', 'bearing_origin_dest',\n",
    "    'distance_origin_dest_density_cluster', 'distance_origin_dest_speed_cluster',\n",
    "    'origin_distance_from_density_center_squared', 'origin_distance_from_speed_center_squared',\n",
    "    'dest_distance_from_density_center_squared', 'dest_distance_from_speed_center_squared',\n",
    "    'distance_origin_dest_squared', \n",
    "    'distance_origin_dest_density_cluster_squared', 'distance_origin_dest_speed_cluster_squared',\n",
    "]\n",
    "cat_names = [\n",
    "    \"origin_day\", \"origin_hour\",\n",
    "    \"origin_density_cluster\", \"origin_speed_cluster\",\n",
    "    \"dest_density_cluster\", \"dest_speed_cluster\",\n",
    "    \"day_hour_crossing\", \"origin_dest_density_cluster_crossing\", \"origin_dest_speed_cluster_crossing\"\n",
    "]\n",
    "dep_var = 'duration'"
   ]
  },
  {
   "cell_type": "code",
   "execution_count": 7,
   "metadata": {},
   "outputs": [],
   "source": [
    "procs = [Categorify, Normalize]"
   ]
  },
  {
   "cell_type": "code",
   "execution_count": 8,
   "metadata": {},
   "outputs": [],
   "source": [
    "np.random.seed(2020)\n",
    "valids = np.random.random(521444)"
   ]
  },
  {
   "cell_type": "code",
   "execution_count": 9,
   "metadata": {},
   "outputs": [],
   "source": [
    "valid_idx = df[valids > 0.9].index"
   ]
  },
  {
   "cell_type": "code",
   "execution_count": 10,
   "metadata": {},
   "outputs": [],
   "source": [
    "data = TabularDataBunch.from_df(\n",
    "    '../models', df, dep_var, valid_idx=valid_idx, procs=procs, \n",
    "    cat_names=cat_names, cont_names=cont_names\n",
    ")"
   ]
  },
  {
   "cell_type": "code",
   "execution_count": 11,
   "metadata": {},
   "outputs": [],
   "source": [
    "learn = tabular_learner(\n",
    "    data, layers=[512, 256, 64], ps=[0.4, 0.4, 0.4], metrics=root_mean_squared_error\n",
    ")"
   ]
  },
  {
   "cell_type": "code",
   "execution_count": 12,
   "metadata": {},
   "outputs": [
    {
     "data": {
      "text/html": [
       "\n",
       "    <div>\n",
       "        <style>\n",
       "            /* Turns off some styling */\n",
       "            progress {\n",
       "                /* gets rid of default border in Firefox and Opera. */\n",
       "                border: none;\n",
       "                /* Needs to be in here for Safari polyfill so background images work as expected. */\n",
       "                background-size: auto;\n",
       "            }\n",
       "            .progress-bar-interrupted, .progress-bar-interrupted::-webkit-progress-bar {\n",
       "                background: #F44336;\n",
       "            }\n",
       "        </style>\n",
       "      <progress value='0' class='' max='1', style='width:300px; height:20px; vertical-align: middle;'></progress>\n",
       "      0.00% [0/1 00:00<00:00]\n",
       "    </div>\n",
       "    \n",
       "<table border=\"1\" class=\"dataframe\">\n",
       "  <thead>\n",
       "    <tr style=\"text-align: left;\">\n",
       "      <th>epoch</th>\n",
       "      <th>train_loss</th>\n",
       "      <th>valid_loss</th>\n",
       "      <th>root_mean_squared_error</th>\n",
       "      <th>time</th>\n",
       "    </tr>\n",
       "  </thead>\n",
       "  <tbody>\n",
       "  </tbody>\n",
       "</table><p>\n",
       "\n",
       "    <div>\n",
       "        <style>\n",
       "            /* Turns off some styling */\n",
       "            progress {\n",
       "                /* gets rid of default border in Firefox and Opera. */\n",
       "                border: none;\n",
       "                /* Needs to be in here for Safari polyfill so background images work as expected. */\n",
       "                background-size: auto;\n",
       "            }\n",
       "            .progress-bar-interrupted, .progress-bar-interrupted::-webkit-progress-bar {\n",
       "                background: #F44336;\n",
       "            }\n",
       "        </style>\n",
       "      <progress value='99' class='' max='8105', style='width:300px; height:20px; vertical-align: middle;'></progress>\n",
       "      1.22% [99/8105 00:03<05:21 1199491.0000]\n",
       "    </div>\n",
       "    "
      ],
      "text/plain": [
       "<IPython.core.display.HTML object>"
      ]
     },
     "metadata": {},
     "output_type": "display_data"
    },
    {
     "name": "stdout",
     "output_type": "stream",
     "text": [
      "LR Finder is complete, type {learner_name}.recorder.plot() to see the graph.\n"
     ]
    }
   ],
   "source": [
    "learn.lr_find()"
   ]
  },
  {
   "cell_type": "code",
   "execution_count": 13,
   "metadata": {},
   "outputs": [
    {
     "data": {
      "image/png": "[encoded data removed]",
      "text/plain": [
       "<Figure size 432x288 with 1 Axes>"
      ]
     },
     "metadata": {
      "needs_background": "light"
     },
     "output_type": "display_data"
    }
   ],
   "source": [
    "learn.recorder.plot()"
   ]
  },
  {
   "cell_type": "code",
   "execution_count": 14,
   "metadata": {},
   "outputs": [
    {
     "data": {
      "text/plain": [
       "TabularModel(\n",
       "  (embeds): ModuleList(\n",
       "    (0): Embedding(8, 5)\n",
       "    (1): Embedding(25, 10)\n",
       "    (2): Embedding(21, 9)\n",
       "    (3): Embedding(21, 9)\n",
       "    (4): Embedding(21, 9)\n",
       "    (5): Embedding(21, 9)\n",
       "    (6): Embedding(169, 28)\n",
       "    (7): Embedding(401, 46)\n",
       "    (8): Embedding(397, 46)\n",
       "  )\n",
       "  (emb_drop): Dropout(p=0.0, inplace=False)\n",
       "  (bn_cont): BatchNorm1d(23, eps=1e-05, momentum=0.1, affine=True, track_running_stats=True)\n",
       "  (layers): Sequential(\n",
       "    (0): Linear(in_features=194, out_features=512, bias=True)\n",
       "    (1): ReLU(inplace=True)\n",
       "    (2): BatchNorm1d(512, eps=1e-05, momentum=0.1, affine=True, track_running_stats=True)\n",
       "    (3): Dropout(p=0.4, inplace=False)\n",
       "    (4): Linear(in_features=512, out_features=256, bias=True)\n",
       "    (5): ReLU(inplace=True)\n",
       "    (6): BatchNorm1d(256, eps=1e-05, momentum=0.1, affine=True, track_running_stats=True)\n",
       "    (7): Dropout(p=0.4, inplace=False)\n",
       "    (8): Linear(in_features=256, out_features=64, bias=True)\n",
       "    (9): ReLU(inplace=True)\n",
       "    (10): BatchNorm1d(64, eps=1e-05, momentum=0.1, affine=True, track_running_stats=True)\n",
       "    (11): Dropout(p=0.4, inplace=False)\n",
       "    (12): Linear(in_features=64, out_features=1, bias=True)\n",
       "  )\n",
       ")"
      ]
     },
     "execution_count": 14,
     "metadata": {},
     "output_type": "execute_result"
    }
   ],
   "source": [
    "learn.model"
   ]
  },
  {
   "cell_type": "code",
   "execution_count": 15,
   "metadata": {},
   "outputs": [
    {
     "data": {
      "text/html": [
       "<table border=\"1\" class=\"dataframe\">\n",
       "  <thead>\n",
       "    <tr style=\"text-align: left;\">\n",
       "      <th>epoch</th>\n",
       "      <th>train_loss</th>\n",
       "      <th>valid_loss</th>\n",
       "      <th>root_mean_squared_error</th>\n",
       "      <th>time</th>\n",
       "    </tr>\n",
       "  </thead>\n",
       "  <tbody>\n",
       "    <tr>\n",
       "      <td>0</td>\n",
       "      <td>79551.414062</td>\n",
       "      <td>62020.082031</td>\n",
       "      <td>243.964279</td>\n",
       "      <td>05:33</td>\n",
       "    </tr>\n",
       "  </tbody>\n",
       "</table>"
      ],
      "text/plain": [
       "<IPython.core.display.HTML object>"
      ]
     },
     "metadata": {},
     "output_type": "display_data"
    }
   ],
   "source": [
    "learn.fit_one_cycle(1, 0.2)"
   ]
  },
  {
   "cell_type": "code",
   "execution_count": 16,
   "metadata": {},
   "outputs": [
    {
     "data": {
      "text/html": [
       "<table border=\"1\" class=\"dataframe\">\n",
       "  <thead>\n",
       "    <tr style=\"text-align: left;\">\n",
       "      <th>epoch</th>\n",
       "      <th>train_loss</th>\n",
       "      <th>valid_loss</th>\n",
       "      <th>root_mean_squared_error</th>\n",
       "      <th>time</th>\n",
       "    </tr>\n",
       "  </thead>\n",
       "  <tbody>\n",
       "    <tr>\n",
       "      <td>0</td>\n",
       "      <td>85882.796875</td>\n",
       "      <td>3342515.500000</td>\n",
       "      <td>907.569031</td>\n",
       "      <td>06:16</td>\n",
       "    </tr>\n",
       "  </tbody>\n",
       "</table>"
      ],
      "text/plain": [
       "<IPython.core.display.HTML object>"
      ]
     },
     "metadata": {},
     "output_type": "display_data"
    }
   ],
   "source": [
    "learn.fit_one_cycle(1, 0.5)"
   ]
  },
  {
   "cell_type": "code",
   "execution_count": 17,
   "metadata": {},
   "outputs": [
    {
     "data": {
      "text/html": [
       "<table border=\"1\" class=\"dataframe\">\n",
       "  <thead>\n",
       "    <tr style=\"text-align: left;\">\n",
       "      <th>epoch</th>\n",
       "      <th>train_loss</th>\n",
       "      <th>valid_loss</th>\n",
       "      <th>root_mean_squared_error</th>\n",
       "      <th>time</th>\n",
       "    </tr>\n",
       "  </thead>\n",
       "  <tbody>\n",
       "    <tr>\n",
       "      <td>0</td>\n",
       "      <td>75196.164062</td>\n",
       "      <td>73914.835938</td>\n",
       "      <td>251.662567</td>\n",
       "      <td>05:47</td>\n",
       "    </tr>\n",
       "  </tbody>\n",
       "</table>"
      ],
      "text/plain": [
       "<IPython.core.display.HTML object>"
      ]
     },
     "metadata": {},
     "output_type": "display_data"
    }
   ],
   "source": [
    "learn.fit_one_cycle(1, 0.02)"
   ]
  },
  {
   "cell_type": "code",
   "execution_count": 18,
   "metadata": {},
   "outputs": [],
   "source": [
    "learn.export('dev-fastai-999-balance.pkl')"
   ]
  },
  {
   "cell_type": "code",
   "execution_count": 19,
   "metadata": {},
   "outputs": [],
   "source": [
    "# for production - train 100 % of the data"
   ]
  },
  {
   "cell_type": "code",
   "execution_count": 28,
   "metadata": {},
   "outputs": [],
   "source": [
    "data = TabularDataBunch.from_df(\n",
    "    '../models', df, dep_var, valid_idx=df.index, procs=procs, \n",
    "    cat_names=cat_names, cont_names=cont_names\n",
    ")"
   ]
  },
  {
   "cell_type": "code",
   "execution_count": 29,
   "metadata": {},
   "outputs": [],
   "source": [
    "learn = tabular_learner(\n",
    "    data, layers=[512, 256, 64], ps=[0.4, 0.4, 0.4], metrics=root_mean_squared_error\n",
    ")"
   ]
  },
  {
   "cell_type": "code",
   "execution_count": 30,
   "metadata": {},
   "outputs": [
    {
     "data": {
      "text/html": [
       "<table border=\"1\" class=\"dataframe\">\n",
       "  <thead>\n",
       "    <tr style=\"text-align: left;\">\n",
       "      <th>epoch</th>\n",
       "      <th>train_loss</th>\n",
       "      <th>valid_loss</th>\n",
       "      <th>root_mean_squared_error</th>\n",
       "      <th>time</th>\n",
       "    </tr>\n",
       "  </thead>\n",
       "  <tbody>\n",
       "    <tr>\n",
       "      <td>0</td>\n",
       "      <td>89078.359375</td>\n",
       "      <td>86087.976562</td>\n",
       "      <td>280.761047</td>\n",
       "      <td>08:55</td>\n",
       "    </tr>\n",
       "    <tr>\n",
       "      <td>1</td>\n",
       "      <td>92311.312500</td>\n",
       "      <td>79973.703125</td>\n",
       "      <td>276.164520</td>\n",
       "      <td>08:46</td>\n",
       "    </tr>\n",
       "    <tr>\n",
       "      <td>2</td>\n",
       "      <td>98712.328125</td>\n",
       "      <td>79926.546875</td>\n",
       "      <td>275.925476</td>\n",
       "      <td>08:37</td>\n",
       "    </tr>\n",
       "    <tr>\n",
       "      <td>3</td>\n",
       "      <td>102012.328125</td>\n",
       "      <td>80200.500000</td>\n",
       "      <td>277.367157</td>\n",
       "      <td>08:34</td>\n",
       "    </tr>\n",
       "    <tr>\n",
       "      <td>4</td>\n",
       "      <td>92856.859375</td>\n",
       "      <td>75346.023438</td>\n",
       "      <td>269.041321</td>\n",
       "      <td>06:05</td>\n",
       "    </tr>\n",
       "    <tr>\n",
       "      <td>5</td>\n",
       "      <td>90283.609375</td>\n",
       "      <td>71915.750000</td>\n",
       "      <td>262.873688</td>\n",
       "      <td>05:28</td>\n",
       "    </tr>\n",
       "    <tr>\n",
       "      <td>6</td>\n",
       "      <td>78576.023438</td>\n",
       "      <td>68243.859375</td>\n",
       "      <td>253.588791</td>\n",
       "      <td>05:33</td>\n",
       "    </tr>\n",
       "    <tr>\n",
       "      <td>7</td>\n",
       "      <td>70336.367188</td>\n",
       "      <td>51477.988281</td>\n",
       "      <td>223.487045</td>\n",
       "      <td>05:32</td>\n",
       "    </tr>\n",
       "  </tbody>\n",
       "</table>"
      ],
      "text/plain": [
       "<IPython.core.display.HTML object>"
      ]
     },
     "metadata": {},
     "output_type": "display_data"
    }
   ],
   "source": [
    "learn.fit_one_cycle(8, 0.2)"
   ]
  },
  {
   "cell_type": "code",
   "execution_count": 31,
   "metadata": {},
   "outputs": [
    {
     "data": {
      "text/html": [
       "<table border=\"1\" class=\"dataframe\">\n",
       "  <thead>\n",
       "    <tr style=\"text-align: left;\">\n",
       "      <th>epoch</th>\n",
       "      <th>train_loss</th>\n",
       "      <th>valid_loss</th>\n",
       "      <th>root_mean_squared_error</th>\n",
       "      <th>time</th>\n",
       "    </tr>\n",
       "  </thead>\n",
       "  <tbody>\n",
       "    <tr>\n",
       "      <td>0</td>\n",
       "      <td>98657.039062</td>\n",
       "      <td>81909.062500</td>\n",
       "      <td>278.232025</td>\n",
       "      <td>05:27</td>\n",
       "    </tr>\n",
       "    <tr>\n",
       "      <td>1</td>\n",
       "      <td>81344.320312</td>\n",
       "      <td>66597.773438</td>\n",
       "      <td>250.679413</td>\n",
       "      <td>05:30</td>\n",
       "    </tr>\n",
       "  </tbody>\n",
       "</table>"
      ],
      "text/plain": [
       "<IPython.core.display.HTML object>"
      ]
     },
     "metadata": {},
     "output_type": "display_data"
    }
   ],
   "source": [
    "learn.fit_one_cycle(2, 0.4)"
   ]
  },
  {
   "cell_type": "code",
   "execution_count": 32,
   "metadata": {},
   "outputs": [
    {
     "data": {
      "text/html": [
       "<table border=\"1\" class=\"dataframe\">\n",
       "  <thead>\n",
       "    <tr style=\"text-align: left;\">\n",
       "      <th>epoch</th>\n",
       "      <th>train_loss</th>\n",
       "      <th>valid_loss</th>\n",
       "      <th>root_mean_squared_error</th>\n",
       "      <th>time</th>\n",
       "    </tr>\n",
       "  </thead>\n",
       "  <tbody>\n",
       "    <tr>\n",
       "      <td>0</td>\n",
       "      <td>76453.328125</td>\n",
       "      <td>57393.820312</td>\n",
       "      <td>235.488251</td>\n",
       "      <td>05:24</td>\n",
       "    </tr>\n",
       "    <tr>\n",
       "      <td>1</td>\n",
       "      <td>83200.437500</td>\n",
       "      <td>86980.007812</td>\n",
       "      <td>276.048340</td>\n",
       "      <td>05:27</td>\n",
       "    </tr>\n",
       "    <tr>\n",
       "      <td>2</td>\n",
       "      <td>78065.296875</td>\n",
       "      <td>60275.800781</td>\n",
       "      <td>240.832199</td>\n",
       "      <td>05:27</td>\n",
       "    </tr>\n",
       "    <tr>\n",
       "      <td>3</td>\n",
       "      <td>75282.156250</td>\n",
       "      <td>60118.644531</td>\n",
       "      <td>240.365295</td>\n",
       "      <td>05:29</td>\n",
       "    </tr>\n",
       "    <tr>\n",
       "      <td>4</td>\n",
       "      <td>73328.304688</td>\n",
       "      <td>56992.195312</td>\n",
       "      <td>233.764938</td>\n",
       "      <td>05:29</td>\n",
       "    </tr>\n",
       "    <tr>\n",
       "      <td>5</td>\n",
       "      <td>67961.460938</td>\n",
       "      <td>49898.085938</td>\n",
       "      <td>219.530884</td>\n",
       "      <td>05:27</td>\n",
       "    </tr>\n",
       "    <tr>\n",
       "      <td>6</td>\n",
       "      <td>61487.378906</td>\n",
       "      <td>45515.589844</td>\n",
       "      <td>209.737625</td>\n",
       "      <td>05:28</td>\n",
       "    </tr>\n",
       "    <tr>\n",
       "      <td>7</td>\n",
       "      <td>63393.839844</td>\n",
       "      <td>43756.410156</td>\n",
       "      <td>205.604553</td>\n",
       "      <td>05:29</td>\n",
       "    </tr>\n",
       "  </tbody>\n",
       "</table>"
      ],
      "text/plain": [
       "<IPython.core.display.HTML object>"
      ]
     },
     "metadata": {},
     "output_type": "display_data"
    }
   ],
   "source": [
    "learn.fit_one_cycle(8, 0.02)"
   ]
  },
  {
   "cell_type": "code",
   "execution_count": 33,
   "metadata": {},
   "outputs": [
    {
     "data": {
      "text/html": [
       "<table border=\"1\" class=\"dataframe\">\n",
       "  <thead>\n",
       "    <tr style=\"text-align: left;\">\n",
       "      <th>epoch</th>\n",
       "      <th>train_loss</th>\n",
       "      <th>valid_loss</th>\n",
       "      <th>root_mean_squared_error</th>\n",
       "      <th>time</th>\n",
       "    </tr>\n",
       "  </thead>\n",
       "  <tbody>\n",
       "    <tr>\n",
       "      <td>0</td>\n",
       "      <td>68021.343750</td>\n",
       "      <td>49120.910156</td>\n",
       "      <td>217.574509</td>\n",
       "      <td>05:31</td>\n",
       "    </tr>\n",
       "    <tr>\n",
       "      <td>1</td>\n",
       "      <td>69865.312500</td>\n",
       "      <td>47750.957031</td>\n",
       "      <td>215.184052</td>\n",
       "      <td>05:27</td>\n",
       "    </tr>\n",
       "    <tr>\n",
       "      <td>2</td>\n",
       "      <td>62380.914062</td>\n",
       "      <td>44008.402344</td>\n",
       "      <td>206.287308</td>\n",
       "      <td>05:28</td>\n",
       "    </tr>\n",
       "    <tr>\n",
       "      <td>3</td>\n",
       "      <td>57919.062500</td>\n",
       "      <td>40482.589844</td>\n",
       "      <td>197.856003</td>\n",
       "      <td>05:28</td>\n",
       "    </tr>\n",
       "  </tbody>\n",
       "</table>"
      ],
      "text/plain": [
       "<IPython.core.display.HTML object>"
      ]
     },
     "metadata": {},
     "output_type": "display_data"
    }
   ],
   "source": [
    "learn.fit_one_cycle(4, 0.005)"
   ]
  },
  {
   "cell_type": "code",
   "execution_count": 34,
   "metadata": {},
   "outputs": [
    {
     "data": {
      "image/png": "[encoded data removed]",
      "text/plain": [
       "<Figure size 432x288 with 1 Axes>"
      ]
     },
     "metadata": {
      "needs_background": "light"
     },
     "output_type": "display_data"
    }
   ],
   "source": [
    "learn.recorder.plot_losses()"
   ]
  },
  {
   "cell_type": "code",
   "execution_count": 35,
   "metadata": {},
   "outputs": [],
   "source": [
    "learn.export('fastai-999-balance.pkl')"
   ]
  },
  {
   "cell_type": "code",
   "execution_count": null,
   "metadata": {},
   "outputs": [],
   "source": [
    "learn = load_learner('../models/', 'fastai-999-balance.pkl')"
   ]
  },
  {
   "cell_type": "code",
   "execution_count": null,
   "metadata": {},
   "outputs": [],
   "source": []
  },
  {
   "cell_type": "code",
   "execution_count": null,
   "metadata": {},
   "outputs": [],
   "source": []
  }
 ],
 "metadata": {
  "kernelspec": {
   "display_name": "Python 3",
   "language": "python",
   "name": "python3"
  },
  "language_info": {
   "codemirror_mode": {
    "name": "ipython",
    "version": 3
   },
   "file_extension": ".py",
   "mimetype": "text/x-python",
   "name": "python",
   "nbconvert_exporter": "python",
   "pygments_lexer": "ipython3",
   "version": "3.7.6"
  }
 },
 "nbformat": 4,
 "nbformat_minor": 4
}
