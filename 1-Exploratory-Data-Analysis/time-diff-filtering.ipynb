{
 "cells": [
  {
   "cell_type": "code",
   "execution_count": 1,
   "metadata": {},
   "outputs": [],
   "source": [
    "# Google BQ connector\n",
    "from google.cloud import bigquery\n",
    "\n",
    "# Data processing libraries\n",
    "import pandas as pd\n",
    "import numpy as np\n",
    "\n",
    "# Data visualisation tools\n",
    "import matplotlib.pyplot as plt\n",
    "from IPython.display import clear_output\n",
    "\n",
    "# scikit learn\n",
    "from sklearn.cluster import KMeans, DBSCAN\n",
    "\n",
    "# pickle\n",
    "import pickle\n",
    "\n",
    "# IPython display\n",
    "from IPython.display import clear_output"
   ]
  },
  {
   "cell_type": "code",
   "execution_count": 2,
   "metadata": {},
   "outputs": [],
   "source": [
    "# creating a BQ client\n",
    "bqclient = bigquery.Client()"
   ]
  },
  {
   "cell_type": "code",
   "execution_count": 17,
   "metadata": {},
   "outputs": [],
   "source": [
    "query = \"\"\"\n",
    "SELECT\n",
    "  MIN(pingtimestamp) as min_timestamp,\n",
    "  MAX(pingtimestamp) as max_timestamp,\n",
    "  MAX(pingtimestamp) - MIN(pingtimestamp) as diff_timestamp,\n",
    "  trj_id as trip_id\n",
    "FROM\n",
    "  `jjkoh95.jjkoh.grab_raw_singapore`\n",
    "GROUP BY\n",
    "  trj_id\n",
    "ORDER BY\n",
    "  diff_timestamp DESC\n",
    "\"\"\""
   ]
  },
  {
   "cell_type": "code",
   "execution_count": 18,
   "metadata": {},
   "outputs": [],
   "source": [
    "df = bqclient.query(query).result().to_dataframe()"
   ]
  },
  {
   "cell_type": "code",
   "execution_count": 19,
   "metadata": {},
   "outputs": [
    {
     "data": {
      "text/html": [
       "<div>\n",
       "<style scoped>\n",
       "    .dataframe tbody tr th:only-of-type {\n",
       "        vertical-align: middle;\n",
       "    }\n",
       "\n",
       "    .dataframe tbody tr th {\n",
       "        vertical-align: top;\n",
       "    }\n",
       "\n",
       "    .dataframe thead th {\n",
       "        text-align: right;\n",
       "    }\n",
       "</style>\n",
       "<table border=\"1\" class=\"dataframe\">\n",
       "  <thead>\n",
       "    <tr style=\"text-align: right;\">\n",
       "      <th></th>\n",
       "      <th>min_timestamp</th>\n",
       "      <th>max_timestamp</th>\n",
       "      <th>diff_timestamp</th>\n",
       "      <th>trip_id</th>\n",
       "    </tr>\n",
       "  </thead>\n",
       "  <tbody>\n",
       "    <tr>\n",
       "      <td>0</td>\n",
       "      <td>1555838486</td>\n",
       "      <td>1555854891</td>\n",
       "      <td>16405</td>\n",
       "      <td>78371</td>\n",
       "    </tr>\n",
       "    <tr>\n",
       "      <td>1</td>\n",
       "      <td>1555867007</td>\n",
       "      <td>1555873966</td>\n",
       "      <td>6959</td>\n",
       "      <td>77844</td>\n",
       "    </tr>\n",
       "    <tr>\n",
       "      <td>2</td>\n",
       "      <td>1555586062</td>\n",
       "      <td>1555592586</td>\n",
       "      <td>6524</td>\n",
       "      <td>65738</td>\n",
       "    </tr>\n",
       "    <tr>\n",
       "      <td>3</td>\n",
       "      <td>1555576202</td>\n",
       "      <td>1555581114</td>\n",
       "      <td>4912</td>\n",
       "      <td>72549</td>\n",
       "    </tr>\n",
       "    <tr>\n",
       "      <td>4</td>\n",
       "      <td>1555581666</td>\n",
       "      <td>1555585755</td>\n",
       "      <td>4089</td>\n",
       "      <td>79794</td>\n",
       "    </tr>\n",
       "  </tbody>\n",
       "</table>\n",
       "</div>"
      ],
      "text/plain": [
       "   min_timestamp  max_timestamp  diff_timestamp trip_id\n",
       "0     1555838486     1555854891           16405   78371\n",
       "1     1555867007     1555873966            6959   77844\n",
       "2     1555586062     1555592586            6524   65738\n",
       "3     1555576202     1555581114            4912   72549\n",
       "4     1555581666     1555585755            4089   79794"
      ]
     },
     "execution_count": 19,
     "metadata": {},
     "output_type": "execute_result"
    }
   ],
   "source": [
    "df.head()"
   ]
  },
  {
   "cell_type": "code",
   "execution_count": 20,
   "metadata": {},
   "outputs": [
    {
     "data": {
      "text/plain": [
       "count    28000.000000\n",
       "mean      1251.591714\n",
       "std        343.750792\n",
       "min        651.000000\n",
       "25%       1034.000000\n",
       "50%       1181.000000\n",
       "75%       1375.000000\n",
       "max      16405.000000\n",
       "Name: diff_timestamp, dtype: float64"
      ]
     },
     "execution_count": 20,
     "metadata": {},
     "output_type": "execute_result"
    }
   ],
   "source": [
    "df.diff_timestamp.describe()"
   ]
  },
  {
   "cell_type": "code",
   "execution_count": 26,
   "metadata": {},
   "outputs": [
    {
     "data": {
      "text/plain": [
       "18"
      ]
     },
     "execution_count": 26,
     "metadata": {},
     "output_type": "execute_result"
    }
   ],
   "source": [
    "sum(df.diff_timestamp > 3600)"
   ]
  },
  {
   "cell_type": "code",
   "execution_count": 7,
   "metadata": {},
   "outputs": [],
   "source": [
    "query = \"\"\"\n",
    "SELECT\n",
    "  *\n",
    "FROM\n",
    "  `jjkoh95.jjkoh.grab_raw_singapore`\n",
    "WHERE\n",
    "  trj_id='78371'\n",
    "ORDER BY\n",
    "  pingtimestamp\n",
    "\"\"\""
   ]
  },
  {
   "cell_type": "code",
   "execution_count": 8,
   "metadata": {},
   "outputs": [],
   "source": [
    "df = bqclient.query(query).result().to_dataframe()"
   ]
  },
  {
   "cell_type": "code",
   "execution_count": 13,
   "metadata": {},
   "outputs": [
    {
     "data": {
      "text/html": [
       "<div>\n",
       "<style scoped>\n",
       "    .dataframe tbody tr th:only-of-type {\n",
       "        vertical-align: middle;\n",
       "    }\n",
       "\n",
       "    .dataframe tbody tr th {\n",
       "        vertical-align: top;\n",
       "    }\n",
       "\n",
       "    .dataframe thead th {\n",
       "        text-align: right;\n",
       "    }\n",
       "</style>\n",
       "<table border=\"1\" class=\"dataframe\">\n",
       "  <thead>\n",
       "    <tr style=\"text-align: right;\">\n",
       "      <th></th>\n",
       "      <th>trj_id</th>\n",
       "      <th>driving_mode</th>\n",
       "      <th>osname</th>\n",
       "      <th>pingtimestamp</th>\n",
       "      <th>rawlat</th>\n",
       "      <th>rawlng</th>\n",
       "      <th>speed</th>\n",
       "      <th>bearing</th>\n",
       "      <th>accuracy</th>\n",
       "    </tr>\n",
       "  </thead>\n",
       "  <tbody>\n",
       "    <tr>\n",
       "      <td>0</td>\n",
       "      <td>78371</td>\n",
       "      <td>car</td>\n",
       "      <td>android</td>\n",
       "      <td>1555838486</td>\n",
       "      <td>1.345677</td>\n",
       "      <td>103.732072</td>\n",
       "      <td>6.504030</td>\n",
       "      <td>147</td>\n",
       "      <td>3.9</td>\n",
       "    </tr>\n",
       "    <tr>\n",
       "      <td>1</td>\n",
       "      <td>78371</td>\n",
       "      <td>car</td>\n",
       "      <td>android</td>\n",
       "      <td>1555838487</td>\n",
       "      <td>1.345633</td>\n",
       "      <td>103.732117</td>\n",
       "      <td>5.781360</td>\n",
       "      <td>143</td>\n",
       "      <td>3.9</td>\n",
       "    </tr>\n",
       "    <tr>\n",
       "      <td>2</td>\n",
       "      <td>78371</td>\n",
       "      <td>car</td>\n",
       "      <td>android</td>\n",
       "      <td>1555838488</td>\n",
       "      <td>1.345593</td>\n",
       "      <td>103.732160</td>\n",
       "      <td>5.645988</td>\n",
       "      <td>139</td>\n",
       "      <td>3.9</td>\n",
       "    </tr>\n",
       "    <tr>\n",
       "      <td>3</td>\n",
       "      <td>78371</td>\n",
       "      <td>car</td>\n",
       "      <td>android</td>\n",
       "      <td>1555838489</td>\n",
       "      <td>1.345557</td>\n",
       "      <td>103.732203</td>\n",
       "      <td>5.262520</td>\n",
       "      <td>136</td>\n",
       "      <td>3.9</td>\n",
       "    </tr>\n",
       "    <tr>\n",
       "      <td>4</td>\n",
       "      <td>78371</td>\n",
       "      <td>car</td>\n",
       "      <td>android</td>\n",
       "      <td>1555838490</td>\n",
       "      <td>1.345517</td>\n",
       "      <td>103.732245</td>\n",
       "      <td>5.404069</td>\n",
       "      <td>139</td>\n",
       "      <td>3.9</td>\n",
       "    </tr>\n",
       "  </tbody>\n",
       "</table>\n",
       "</div>"
      ],
      "text/plain": [
       "  trj_id driving_mode   osname  pingtimestamp    rawlat      rawlng     speed  \\\n",
       "0  78371          car  android     1555838486  1.345677  103.732072  6.504030   \n",
       "1  78371          car  android     1555838487  1.345633  103.732117  5.781360   \n",
       "2  78371          car  android     1555838488  1.345593  103.732160  5.645988   \n",
       "3  78371          car  android     1555838489  1.345557  103.732203  5.262520   \n",
       "4  78371          car  android     1555838490  1.345517  103.732245  5.404069   \n",
       "\n",
       "   bearing  accuracy  \n",
       "0      147       3.9  \n",
       "1      143       3.9  \n",
       "2      139       3.9  \n",
       "3      136       3.9  \n",
       "4      139       3.9  "
      ]
     },
     "execution_count": 13,
     "metadata": {},
     "output_type": "execute_result"
    }
   ],
   "source": [
    "df.head()"
   ]
  },
  {
   "cell_type": "code",
   "execution_count": 12,
   "metadata": {},
   "outputs": [
    {
     "data": {
      "text/plain": [
       "(1555838486, 1555854891)"
      ]
     },
     "execution_count": 12,
     "metadata": {},
     "output_type": "execute_result"
    }
   ],
   "source": [
    "np.min(df.pingtimestamp), np.max(df.pingtimestamp)"
   ]
  },
  {
   "cell_type": "code",
   "execution_count": 16,
   "metadata": {},
   "outputs": [
    {
     "data": {
      "text/plain": [
       "<matplotlib.axes._subplots.AxesSubplot at 0x7f8712165e80>"
      ]
     },
     "execution_count": 16,
     "metadata": {},
     "output_type": "execute_result"
    },
    {
     "data": {
      "image/png": "[encoded data removed]",
      "text/plain": [
       "<Figure size 1728x864 with 1 Axes>"
      ]
     },
     "metadata": {
      "needs_background": "light"
     },
     "output_type": "display_data"
    }
   ],
   "source": [
    "df.plot.scatter(x=\"rawlat\", y=\"rawlng\", figsize=(24, 12))"
   ]
  },
  {
   "cell_type": "code",
   "execution_count": null,
   "metadata": {},
   "outputs": [],
   "source": []
  }
 ],
 "metadata": {
  "kernelspec": {
   "display_name": "Python 3",
   "language": "python",
   "name": "python3"
  },
  "language_info": {
   "codemirror_mode": {
    "name": "ipython",
    "version": 3
   },
   "file_extension": ".py",
   "mimetype": "text/x-python",
   "name": "python",
   "nbconvert_exporter": "python",
   "pygments_lexer": "ipython3",
   "version": "3.5.3"
  }
 },
 "nbformat": 4,
 "nbformat_minor": 4
}
